{
  "nbformat": 4,
  "nbformat_minor": 0,
  "metadata": {
    "colab": {
      "name": "Testing_Ensemble for credit card data.ipynb",
      "provenance": [],
      "authorship_tag": "ABX9TyNt3QuNF/08Fuz2szx+YQSx",
      "include_colab_link": true
    },
    "kernelspec": {
      "display_name": "Python 3",
      "name": "python3"
    },
    "language_info": {
      "name": "python"
    }
  },
  "cells": [
    {
      "cell_type": "markdown",
      "metadata": {
        "id": "view-in-github",
        "colab_type": "text"
      },
      "source": [
        "<a href=\"https://colab.research.google.com/github/imondal202017/ML-DL-project/blob/main/Testing_Ensemble_for_credit_card_data.ipynb\" target=\"_parent\"><img src=\"https://colab.research.google.com/assets/colab-badge.svg\" alt=\"Open In Colab\"/></a>"
      ]
    },
    {
      "cell_type": "code",
      "metadata": {
        "id": "J-E60MZeXNO8"
      },
      "source": [
        "import pandas  as pd \n",
        "\n",
        "import matplotlib.pyplot as plt \n",
        "import numpy as np \n",
        "\n",
        "from sklearn.linear_model import LogisticRegression \n",
        "from sklearn.neighbors import KNeighborsClassifier\n",
        "from sklearn.tree import DecisionTreeClassifier\n",
        "from sklearn.svm import SVC \n",
        "from sklearn.preprocessing import StandardScaler \n",
        "from sklearn.metrics import confusion_matrix, classification_report, accuracy_score, precision_score, f1_score, recall_score\n",
        "import seaborn as sns"
      ],
      "execution_count": null,
      "outputs": []
    },
    {
      "cell_type": "code",
      "metadata": {
        "id": "ScQgiVruXnvU"
      },
      "source": [
        "from sklearn.metrics import roc_curve, auc\n",
        "from sklearn.metrics import precision_recall_curve, auc"
      ],
      "execution_count": null,
      "outputs": []
    },
    {
      "cell_type": "code",
      "metadata": {
        "id": "L2281RueXlJR"
      },
      "source": [
        "def generate_model_report(y_actual, y_predicted):\n",
        "  print(\"Accuracy = \" , accuracy_score(y_actual, y_predicted))\n",
        "  print(\"Precision = \" ,precision_score(y_actual, y_predicted))\n",
        "  print(\"Recall = \" ,recall_score(y_actual, y_predicted))\n",
        "  print(\"F1 Score = \" ,f1_score(y_actual, y_predicted))\n",
        "  pass"
      ],
      "execution_count": null,
      "outputs": []
    },
    {
      "cell_type": "code",
      "metadata": {
        "colab": {
          "base_uri": "https://localhost:8080/"
        },
        "id": "ibfJNtizX-Tk",
        "outputId": "a18f0e41-9efd-4038-f841-e680db502325"
      },
      "source": [
        "from google.colab import drive\n",
        "drive.mount(\"/content/gdrive\")"
      ],
      "execution_count": null,
      "outputs": [
        {
          "output_type": "stream",
          "text": [
            "Mounted at /content/gdrive\n"
          ],
          "name": "stdout"
        }
      ]
    },
    {
      "cell_type": "code",
      "metadata": {
        "id": "X9_Fp1jYYQtH"
      },
      "source": [
        "dataset = pd.read_csv(F\"/content/gdrive/My Drive/creditcard.csv\")"
      ],
      "execution_count": null,
      "outputs": []
    },
    {
      "cell_type": "code",
      "metadata": {
        "colab": {
          "base_uri": "https://localhost:8080/"
        },
        "id": "fZdsvhzUYWMD",
        "outputId": "20e6d4a5-1d9f-4563-f199-63016ca40db9"
      },
      "source": [
        "dataset['Class'].value_counts()"
      ],
      "execution_count": null,
      "outputs": [
        {
          "output_type": "execute_result",
          "data": {
            "text/plain": [
              "0    284315\n",
              "1       492\n",
              "Name: Class, dtype: int64"
            ]
          },
          "metadata": {
            "tags": []
          },
          "execution_count": 9
        }
      ]
    },
    {
      "cell_type": "code",
      "metadata": {
        "id": "j5mDwBMvYhe6"
      },
      "source": [
        "X = dataset.drop(['Class'], axis=1)\n",
        "y = dataset['Class']"
      ],
      "execution_count": null,
      "outputs": []
    },
    {
      "cell_type": "code",
      "metadata": {
        "id": "LIaMrNaAYjor"
      },
      "source": [
        "from sklearn.model_selection import train_test_split \n",
        "  \n",
        "# split into 70:30 ration \n",
        "X_train, X_test, y_train, y_test = train_test_split(X, y, test_size = 0.3, random_state = 0)"
      ],
      "execution_count": null,
      "outputs": []
    },
    {
      "cell_type": "code",
      "metadata": {
        "id": "Nxu74sB0Y5zp"
      },
      "source": [
        "from sklearn.ensemble import RandomForestClassifier, BaggingClassifier, VotingClassifier"
      ],
      "execution_count": null,
      "outputs": []
    },
    {
      "cell_type": "code",
      "metadata": {
        "id": "q1kjfDzJZEhL"
      },
      "source": [
        "rf = RandomForestClassifier(n_estimators=20)\n",
        "rf.fit(X_train,y_train)\n",
        "\n",
        "prediction_rf = rf.predict(X_test)"
      ],
      "execution_count": null,
      "outputs": []
    },
    {
      "cell_type": "code",
      "metadata": {
        "id": "jyAxNy47ZYpQ"
      },
      "source": [
        "bg = BaggingClassifier(DecisionTreeClassifier(), max_samples= 0.5, max_features= 1.0, n_estimators=20)\n",
        "bg.fit(X_train,y_train)\n",
        "\n",
        "prediction_bg = bg.predict(X_test)"
      ],
      "execution_count": null,
      "outputs": []
    },
    {
      "cell_type": "code",
      "metadata": {
        "id": "jQ1uxGRuaCFd"
      },
      "source": [
        "lr = LogisticRegression()\n",
        "dt = DecisionTreeClassifier()\n",
        "knn = KNeighborsClassifier(n_neighbors=3)\n",
        "svm = SVC(kernel= 'poly', degree= 2)\n",
        "evc = VotingClassifier( estimators= [('lr',lr),('dt',dt),('svm',svm)], voting= 'hard')"
      ],
      "execution_count": null,
      "outputs": []
    },
    {
      "cell_type": "code",
      "metadata": {
        "colab": {
          "base_uri": "https://localhost:8080/"
        },
        "id": "HMKqWRVujtak",
        "outputId": "84b10d7d-1dfd-44fb-9f12-19779eba279e"
      },
      "source": [
        "evc.fit(X_train,y_train)\n",
        "\n",
        "prediction_evc = evc.predict(X_test)"
      ],
      "execution_count": null,
      "outputs": [
        {
          "output_type": "stream",
          "text": [
            "/usr/local/lib/python3.7/dist-packages/sklearn/linear_model/_logistic.py:940: ConvergenceWarning: lbfgs failed to converge (status=1):\n",
            "STOP: TOTAL NO. of ITERATIONS REACHED LIMIT.\n",
            "\n",
            "Increase the number of iterations (max_iter) or scale the data as shown in:\n",
            "    https://scikit-learn.org/stable/modules/preprocessing.html\n",
            "Please also refer to the documentation for alternative solver options:\n",
            "    https://scikit-learn.org/stable/modules/linear_model.html#logistic-regression\n",
            "  extra_warning_msg=_LOGISTIC_SOLVER_CONVERGENCE_MSG)\n"
          ],
          "name": "stderr"
        }
      ]
    },
    {
      "cell_type": "code",
      "metadata": {
        "colab": {
          "base_uri": "https://localhost:8080/"
        },
        "id": "8DLy-34wJZm_",
        "outputId": "c4c4c76d-bb84-41d2-b2ad-0314dd29d4de"
      },
      "source": [
        "generate_model_report(y_test, prediction_evc)"
      ],
      "execution_count": null,
      "outputs": [
        {
          "output_type": "stream",
          "text": [
            "Accuracy =  0.9992860737567735\n",
            "Precision =  0.9574468085106383\n",
            "Recall =  0.6122448979591837\n",
            "F1 Score =  0.7468879668049793\n"
          ],
          "name": "stdout"
        }
      ]
    },
    {
      "cell_type": "code",
      "metadata": {
        "colab": {
          "base_uri": "https://localhost:8080/"
        },
        "id": "fRt5rimtmDVm",
        "outputId": "9f6a1d04-9ddc-44a7-84af-28df452cce0c"
      },
      "source": [
        "# classifier object \n",
        "lr = LogisticRegression()\n",
        "  \n",
        "# train the model on train set \n",
        "lr.fit(X_train, y_train) \n",
        "  \n",
        "prediction_lr = lr.predict(X_test)"
      ],
      "execution_count": null,
      "outputs": [
        {
          "output_type": "stream",
          "text": [
            "/usr/local/lib/python3.7/dist-packages/sklearn/linear_model/_logistic.py:940: ConvergenceWarning: lbfgs failed to converge (status=1):\n",
            "STOP: TOTAL NO. of ITERATIONS REACHED LIMIT.\n",
            "\n",
            "Increase the number of iterations (max_iter) or scale the data as shown in:\n",
            "    https://scikit-learn.org/stable/modules/preprocessing.html\n",
            "Please also refer to the documentation for alternative solver options:\n",
            "    https://scikit-learn.org/stable/modules/linear_model.html#logistic-regression\n",
            "  extra_warning_msg=_LOGISTIC_SOLVER_CONVERGENCE_MSG)\n"
          ],
          "name": "stderr"
        }
      ]
    },
    {
      "cell_type": "code",
      "metadata": {
        "id": "WrH0Or4amO5p"
      },
      "source": [
        "# classifier object \n",
        "KNN = KNeighborsClassifier(n_neighbors=3)\n",
        "  \n",
        "# train the model on train set \n",
        "KNN.fit(X_train, y_train) \n",
        "  \n",
        "prediction_KNN = KNN.predict(X_test)"
      ],
      "execution_count": null,
      "outputs": []
    },
    {
      "cell_type": "code",
      "metadata": {
        "colab": {
          "base_uri": "https://localhost:8080/"
        },
        "id": "_pNqqt3UaSyv",
        "outputId": "eb256804-a7ad-4b5d-aa31-b111b12273ea"
      },
      "source": [
        "evc.fit(X_train,y_train)\n",
        "\n",
        "prediction_evc = evc.predict(X_test)"
      ],
      "execution_count": null,
      "outputs": [
        {
          "output_type": "stream",
          "text": [
            "/usr/local/lib/python3.7/dist-packages/sklearn/linear_model/_logistic.py:940: ConvergenceWarning: lbfgs failed to converge (status=1):\n",
            "STOP: TOTAL NO. of ITERATIONS REACHED LIMIT.\n",
            "\n",
            "Increase the number of iterations (max_iter) or scale the data as shown in:\n",
            "    https://scikit-learn.org/stable/modules/preprocessing.html\n",
            "Please also refer to the documentation for alternative solver options:\n",
            "    https://scikit-learn.org/stable/modules/linear_model.html#logistic-regression\n",
            "  extra_warning_msg=_LOGISTIC_SOLVER_CONVERGENCE_MSG)\n"
          ],
          "name": "stderr"
        }
      ]
    },
    {
      "cell_type": "code",
      "metadata": {
        "colab": {
          "base_uri": "https://localhost:8080/"
        },
        "id": "VTRUGUgbbe0q",
        "outputId": "641c5f62-c379-49f9-d87a-6a05a024e3d3"
      },
      "source": [
        "print(\"Before OverSampling, counts of label '1': {}\".format(sum(y_train == 1))) \n",
        "print(\"Before OverSampling, counts of label '0': {} \\n\".format(sum(y_train == 0))) \n",
        "  \n",
        "# import SMOTE module from imblearn library \n",
        "# pip install imblearn (if you don't have imblearn in your system) \n",
        "from imblearn.over_sampling import SMOTE \n",
        "sm = SMOTE(random_state = 2) \n",
        "X_train_res, y_train_res = sm.fit_sample(X_train, y_train) \n",
        "  \n",
        "print('After OverSampling, the shape of train_X: {}'.format(X_train_res.shape)) \n",
        "print('After OverSampling, the shape of train_y: {} \\n'.format(y_train_res.shape)) \n",
        "  \n",
        "print(\"After OverSampling, counts of label '1': {}\".format(sum(y_train_res == 1))) \n",
        "print(\"After OverSampling, counts of label '0': {}\".format(sum(y_train_res == 0)))"
      ],
      "execution_count": null,
      "outputs": [
        {
          "output_type": "stream",
          "text": [
            "Before OverSampling, counts of label '1': 345\n",
            "Before OverSampling, counts of label '0': 199019 \n",
            "\n"
          ],
          "name": "stdout"
        },
        {
          "output_type": "stream",
          "text": [
            "/usr/local/lib/python3.7/dist-packages/sklearn/externals/six.py:31: FutureWarning: The module is deprecated in version 0.21 and will be removed in version 0.23 since we've dropped support for Python 2.7. Please rely on the official version of six (https://pypi.org/project/six/).\n",
            "  \"(https://pypi.org/project/six/).\", FutureWarning)\n",
            "/usr/local/lib/python3.7/dist-packages/sklearn/utils/deprecation.py:144: FutureWarning: The sklearn.neighbors.base module is  deprecated in version 0.22 and will be removed in version 0.24. The corresponding classes / functions should instead be imported from sklearn.neighbors. Anything that cannot be imported from sklearn.neighbors is now part of the private API.\n",
            "  warnings.warn(message, FutureWarning)\n",
            "/usr/local/lib/python3.7/dist-packages/sklearn/utils/deprecation.py:87: FutureWarning: Function safe_indexing is deprecated; safe_indexing is deprecated in version 0.22 and will be removed in version 0.24.\n",
            "  warnings.warn(msg, category=FutureWarning)\n"
          ],
          "name": "stderr"
        },
        {
          "output_type": "stream",
          "text": [
            "After OverSampling, the shape of train_X: (398038, 29)\n",
            "After OverSampling, the shape of train_y: (398038,) \n",
            "\n",
            "After OverSampling, counts of label '1': 199019\n",
            "After OverSampling, counts of label '0': 199019\n"
          ],
          "name": "stdout"
        }
      ]
    },
    {
      "cell_type": "code",
      "metadata": {
        "colab": {
          "base_uri": "https://localhost:8080/"
        },
        "id": "4aYl6utbm45W",
        "outputId": "3f4d641b-a978-4c64-c930-7e5d8f759dd1"
      },
      "source": [
        "lr_SMOTE = LogisticRegression() \n",
        "lr_SMOTE.fit(X_train_res, y_train_res) \n",
        "prediction_SMOTE_lr = lr_SMOTE.predict(X_test)"
      ],
      "execution_count": null,
      "outputs": [
        {
          "output_type": "stream",
          "text": [
            "/usr/local/lib/python3.7/dist-packages/sklearn/linear_model/_logistic.py:940: ConvergenceWarning: lbfgs failed to converge (status=1):\n",
            "STOP: TOTAL NO. of ITERATIONS REACHED LIMIT.\n",
            "\n",
            "Increase the number of iterations (max_iter) or scale the data as shown in:\n",
            "    https://scikit-learn.org/stable/modules/preprocessing.html\n",
            "Please also refer to the documentation for alternative solver options:\n",
            "    https://scikit-learn.org/stable/modules/linear_model.html#logistic-regression\n",
            "  extra_warning_msg=_LOGISTIC_SOLVER_CONVERGENCE_MSG)\n"
          ],
          "name": "stderr"
        }
      ]
    },
    {
      "cell_type": "code",
      "metadata": {
        "id": "IydKG_jtm99b"
      },
      "source": [
        "KNN_SMOTE = KNeighborsClassifier(n_neighbors=3) \n",
        "KNN_SMOTE.fit(X_train_res, y_train_res) \n",
        "prediction_SMOTE_KNN = KNN_SMOTE.predict(X_test)"
      ],
      "execution_count": null,
      "outputs": []
    },
    {
      "cell_type": "code",
      "metadata": {
        "id": "nIoAXnS8bnro"
      },
      "source": [
        "rf_SMOTE = RandomForestClassifier(n_estimators=20)\n",
        "rf_SMOTE.fit(X_train_res,y_train_res)\n",
        "\n",
        "prediction_rf_SMOTE = rf_SMOTE.predict(X_test)"
      ],
      "execution_count": null,
      "outputs": []
    },
    {
      "cell_type": "code",
      "metadata": {
        "id": "cT9AiOD5ckfc"
      },
      "source": [
        "bg_SMOTE = BaggingClassifier(DecisionTreeClassifier(), max_samples= 0.5, max_features= 1.0, n_estimators=20)\n",
        "bg_SMOTE.fit(X_train_res,y_train_res)\n",
        "\n",
        "prediction_bg_SMOTE = bg_SMOTE.predict(X_test)"
      ],
      "execution_count": null,
      "outputs": []
    },
    {
      "cell_type": "code",
      "metadata": {
        "colab": {
          "base_uri": "https://localhost:8080/"
        },
        "id": "gTu1Qzy5eCVN",
        "outputId": "6e4bea11-a78c-4861-c199-89533876adae"
      },
      "source": [
        "evc_SMOTE = VotingClassifier( estimators= [('lr',lr),('dt',dt),('svm',svm)], voting= 'hard')\n",
        "evc_SMOTE.fit(X_train_res,y_train_res)\n",
        "\n",
        "prediction_evc_SMOTE = evc_SMOTE.predict(X_test)"
      ],
      "execution_count": null,
      "outputs": [
        {
          "output_type": "stream",
          "text": [
            "/usr/local/lib/python3.7/dist-packages/sklearn/linear_model/_logistic.py:940: ConvergenceWarning: lbfgs failed to converge (status=1):\n",
            "STOP: TOTAL NO. of ITERATIONS REACHED LIMIT.\n",
            "\n",
            "Increase the number of iterations (max_iter) or scale the data as shown in:\n",
            "    https://scikit-learn.org/stable/modules/preprocessing.html\n",
            "Please also refer to the documentation for alternative solver options:\n",
            "    https://scikit-learn.org/stable/modules/linear_model.html#logistic-regression\n",
            "  extra_warning_msg=_LOGISTIC_SOLVER_CONVERGENCE_MSG)\n"
          ],
          "name": "stderr"
        }
      ]
    },
    {
      "cell_type": "code",
      "metadata": {
        "colab": {
          "base_uri": "https://localhost:8080/"
        },
        "id": "66B2462nJJKf",
        "outputId": "1dcc8c46-07b1-4659-8f39-8d6bba998a08"
      },
      "source": [
        "generate_model_report(y_test, prediction_evc_SMOTE)"
      ],
      "execution_count": null,
      "outputs": [
        {
          "output_type": "stream",
          "text": [
            "Accuracy =  0.9987477031471274\n",
            "Precision =  0.6030927835051546\n",
            "Recall =  0.7959183673469388\n",
            "F1 Score =  0.686217008797654\n"
          ],
          "name": "stdout"
        }
      ]
    },
    {
      "cell_type": "code",
      "metadata": {
        "id": "T35NtRSZaiq9"
      },
      "source": [
        "from imblearn.over_sampling import ADASYN"
      ],
      "execution_count": null,
      "outputs": []
    },
    {
      "cell_type": "code",
      "metadata": {
        "colab": {
          "base_uri": "https://localhost:8080/"
        },
        "id": "um7qc1_UbCrN",
        "outputId": "2ff0d4f3-8b39-40d8-aba9-d29e480679f4"
      },
      "source": [
        "print(\"Before OverSampling, counts of label '1': {}\".format(sum(y_train == 1))) \n",
        "print(\"Before OverSampling, counts of label '0': {} \\n\".format(sum(y_train == 0)))\n",
        "\n",
        "ada = ADASYN()\n",
        "X_ada, y_ada = ada.fit_sample(X, y)\n",
        "\n",
        "print('After OverSampling, the shape of train_X: {}'.format(X_ada.shape)) \n",
        "print('After OverSampling, the shape of train_y: {} \\n'.format(y_ada.shape)) \n",
        "  \n",
        "print(\"After OverSampling, counts of label '1': {}\".format(sum(y_ada == 1))) \n",
        "print(\"After OverSampling, counts of label '0': {}\".format(sum(y_ada == 0)))"
      ],
      "execution_count": null,
      "outputs": [
        {
          "output_type": "stream",
          "text": [
            "Before OverSampling, counts of label '1': 345\n",
            "Before OverSampling, counts of label '0': 199019 \n",
            "\n"
          ],
          "name": "stdout"
        },
        {
          "output_type": "stream",
          "text": [
            "/usr/local/lib/python3.7/dist-packages/sklearn/utils/deprecation.py:87: FutureWarning: Function safe_indexing is deprecated; safe_indexing is deprecated in version 0.22 and will be removed in version 0.24.\n",
            "  warnings.warn(msg, category=FutureWarning)\n"
          ],
          "name": "stderr"
        },
        {
          "output_type": "stream",
          "text": [
            "After OverSampling, the shape of train_X: (568555, 29)\n",
            "After OverSampling, the shape of train_y: (568555,) \n",
            "\n",
            "After OverSampling, counts of label '1': 284240\n",
            "After OverSampling, counts of label '0': 284315\n"
          ],
          "name": "stdout"
        }
      ]
    },
    {
      "cell_type": "code",
      "metadata": {
        "colab": {
          "background_save": true,
          "base_uri": "https://localhost:8080/"
        },
        "id": "sZe7kLFNnq6V",
        "outputId": "4c3abcad-fd93-4d08-a32b-5a7b5969b08b"
      },
      "source": [
        "lr_ada = LogisticRegression() \n",
        "lr_ada.fit(X_ada, y_ada) \n",
        "prediction_ada_lr = lr_ada.predict(X_test)"
      ],
      "execution_count": null,
      "outputs": [
        {
          "output_type": "stream",
          "text": [
            "/usr/local/lib/python3.7/dist-packages/sklearn/linear_model/_logistic.py:940: ConvergenceWarning: lbfgs failed to converge (status=1):\n",
            "STOP: TOTAL NO. of ITERATIONS REACHED LIMIT.\n",
            "\n",
            "Increase the number of iterations (max_iter) or scale the data as shown in:\n",
            "    https://scikit-learn.org/stable/modules/preprocessing.html\n",
            "Please also refer to the documentation for alternative solver options:\n",
            "    https://scikit-learn.org/stable/modules/linear_model.html#logistic-regression\n",
            "  extra_warning_msg=_LOGISTIC_SOLVER_CONVERGENCE_MSG)\n"
          ],
          "name": "stderr"
        }
      ]
    },
    {
      "cell_type": "code",
      "metadata": {
        "colab": {
          "base_uri": "https://localhost:8080/"
        },
        "id": "YjzRJcHlx4es",
        "outputId": "8535d84d-42f1-420d-dc44-d65e4279520e"
      },
      "source": [
        "generate_model_report(y_test, prediction_ada_lr)"
      ],
      "execution_count": null,
      "outputs": [
        {
          "output_type": "stream",
          "text": [
            "Accuracy =  0.9449340496003183\n",
            "Precision =  0.028742762613730356\n",
            "Recall =  0.9455782312925171\n",
            "F1 Score =  0.05578968492875778\n"
          ],
          "name": "stdout"
        }
      ]
    },
    {
      "cell_type": "code",
      "metadata": {
        "colab": {
          "background_save": true
        },
        "id": "vwuvQCEUn4iP"
      },
      "source": [
        "KNN_ada = KNeighborsClassifier(n_neighbors=3) \n",
        "KNN_ada.fit(X_ada, y_ada) \n",
        "prediction_ada_KNN = KNN_ada.predict(X_test)"
      ],
      "execution_count": null,
      "outputs": []
    },
    {
      "cell_type": "code",
      "metadata": {
        "colab": {
          "base_uri": "https://localhost:8080/"
        },
        "id": "1mTixf0QxwsD",
        "outputId": "ab19bdf2-fc04-4b91-93d0-5fe3015aa212"
      },
      "source": [
        "generate_model_report(y_test, prediction_ada_KNN)"
      ],
      "execution_count": null,
      "outputs": [
        {
          "output_type": "stream",
          "text": [
            "Accuracy =  0.9990051847430451\n",
            "Precision =  0.6336206896551724\n",
            "Recall =  1.0\n",
            "F1 Score =  0.7757255936675461\n"
          ],
          "name": "stdout"
        }
      ]
    },
    {
      "cell_type": "code",
      "metadata": {
        "id": "kupYLInMbgV9"
      },
      "source": [
        "rf_ada = RandomForestClassifier(n_estimators=20)\n",
        "rf_ada.fit(X_ada,y_ada)\n",
        "\n",
        "prediction_rf_ada = rf_ada.predict(X_test)"
      ],
      "execution_count": null,
      "outputs": []
    },
    {
      "cell_type": "code",
      "metadata": {
        "colab": {
          "base_uri": "https://localhost:8080/"
        },
        "id": "GqrQ5simlgUm",
        "outputId": "fa619e81-18e5-43d9-85d7-ba403e4a5bd4"
      },
      "source": [
        "generate_model_report(y_test, prediction_rf_ada)"
      ],
      "execution_count": null,
      "outputs": [
        {
          "output_type": "stream",
          "text": [
            "Accuracy =  1.0\n",
            "Precision =  1.0\n",
            "Recall =  1.0\n",
            "F1 Score =  1.0\n"
          ],
          "name": "stdout"
        }
      ]
    },
    {
      "cell_type": "code",
      "metadata": {
        "id": "LvKhsmnMcfDP"
      },
      "source": [
        "bg_ada = BaggingClassifier(DecisionTreeClassifier(), max_samples= 0.5, max_features= 1.0, n_estimators=20)\n",
        "bg_ada.fit(X_ada,y_ada)\n",
        "\n",
        "prediction_bg_ada = bg_ada.predict(X_test)"
      ],
      "execution_count": null,
      "outputs": []
    },
    {
      "cell_type": "code",
      "metadata": {
        "colab": {
          "base_uri": "https://localhost:8080/"
        },
        "id": "U2GwxmujlxTn",
        "outputId": "e466b6f5-1373-442f-f34e-425802dfd79f"
      },
      "source": [
        "generate_model_report(y_test, prediction_bg_ada)"
      ],
      "execution_count": null,
      "outputs": [
        {
          "output_type": "stream",
          "text": [
            "Accuracy =  0.9998478517842304\n",
            "Precision =  0.91875\n",
            "Recall =  1.0\n",
            "F1 Score =  0.9576547231270358\n"
          ],
          "name": "stdout"
        }
      ]
    },
    {
      "cell_type": "code",
      "metadata": {
        "colab": {
          "background_save": true,
          "base_uri": "https://localhost:8080/"
        },
        "id": "I9cE9zTntZLm",
        "outputId": "03a8ccf2-7d41-4266-a691-97de2f67cc3b"
      },
      "source": [
        "evc_ada = VotingClassifier( estimators= [('lr',lr),('dt',dt),('svm',svm)], voting= 'hard')\n",
        "evc_ada.fit(X_ada,y_ada)\n",
        "\n",
        "prediction_evc_ada = evc_ada.predict(X_test)"
      ],
      "execution_count": null,
      "outputs": [
        {
          "output_type": "stream",
          "text": [
            "/usr/local/lib/python3.7/dist-packages/sklearn/linear_model/_logistic.py:940: ConvergenceWarning: lbfgs failed to converge (status=1):\n",
            "STOP: TOTAL NO. of ITERATIONS REACHED LIMIT.\n",
            "\n",
            "Increase the number of iterations (max_iter) or scale the data as shown in:\n",
            "    https://scikit-learn.org/stable/modules/preprocessing.html\n",
            "Please also refer to the documentation for alternative solver options:\n",
            "    https://scikit-learn.org/stable/modules/linear_model.html#logistic-regression\n",
            "  extra_warning_msg=_LOGISTIC_SOLVER_CONVERGENCE_MSG)\n"
          ],
          "name": "stderr"
        }
      ]
    },
    {
      "cell_type": "code",
      "metadata": {
        "id": "6H0MsnmYemME"
      },
      "source": [
        "df = pd.read_csv(F\"/content/gdrive/My Drive/Course project testing datasets/Gen_10k.csv\")"
      ],
      "execution_count": null,
      "outputs": []
    },
    {
      "cell_type": "code",
      "metadata": {
        "colab": {
          "base_uri": "https://localhost:8080/",
          "height": 439
        },
        "id": "DKNP8FuOexh3",
        "outputId": "f76f5a07-1603-4d83-e633-1d34c60bdcc5"
      },
      "source": [
        "df"
      ],
      "execution_count": null,
      "outputs": [
        {
          "output_type": "execute_result",
          "data": {
            "text/html": [
              "<div>\n",
              "<style scoped>\n",
              "    .dataframe tbody tr th:only-of-type {\n",
              "        vertical-align: middle;\n",
              "    }\n",
              "\n",
              "    .dataframe tbody tr th {\n",
              "        vertical-align: top;\n",
              "    }\n",
              "\n",
              "    .dataframe thead th {\n",
              "        text-align: right;\n",
              "    }\n",
              "</style>\n",
              "<table border=\"1\" class=\"dataframe\">\n",
              "  <thead>\n",
              "    <tr style=\"text-align: right;\">\n",
              "      <th></th>\n",
              "      <th>V1</th>\n",
              "      <th>V2</th>\n",
              "      <th>V3</th>\n",
              "      <th>V4</th>\n",
              "      <th>V5</th>\n",
              "      <th>V6</th>\n",
              "      <th>V7</th>\n",
              "      <th>V8</th>\n",
              "      <th>V9</th>\n",
              "      <th>V10</th>\n",
              "      <th>V11</th>\n",
              "      <th>V12</th>\n",
              "      <th>V13</th>\n",
              "      <th>V14</th>\n",
              "      <th>V15</th>\n",
              "      <th>V16</th>\n",
              "      <th>V17</th>\n",
              "      <th>V18</th>\n",
              "      <th>V19</th>\n",
              "      <th>V20</th>\n",
              "      <th>V21</th>\n",
              "      <th>V22</th>\n",
              "      <th>V23</th>\n",
              "      <th>V24</th>\n",
              "      <th>V25</th>\n",
              "      <th>V26</th>\n",
              "      <th>V27</th>\n",
              "      <th>V28</th>\n",
              "      <th>Amount</th>\n",
              "      <th>Class</th>\n",
              "    </tr>\n",
              "  </thead>\n",
              "  <tbody>\n",
              "    <tr>\n",
              "      <th>0</th>\n",
              "      <td>-0.109150</td>\n",
              "      <td>0.240125</td>\n",
              "      <td>-0.189470</td>\n",
              "      <td>0.250111</td>\n",
              "      <td>-0.021955</td>\n",
              "      <td>-0.101137</td>\n",
              "      <td>-0.208111</td>\n",
              "      <td>0.148374</td>\n",
              "      <td>-0.299190</td>\n",
              "      <td>-0.485622</td>\n",
              "      <td>0.203578</td>\n",
              "      <td>-0.346439</td>\n",
              "      <td>-0.119928</td>\n",
              "      <td>-0.531557</td>\n",
              "      <td>-0.046789</td>\n",
              "      <td>-0.220834</td>\n",
              "      <td>-0.546204</td>\n",
              "      <td>-0.127089</td>\n",
              "      <td>-0.075881</td>\n",
              "      <td>0.023101</td>\n",
              "      <td>0.082730</td>\n",
              "      <td>-0.067394</td>\n",
              "      <td>-0.046766</td>\n",
              "      <td>-0.090622</td>\n",
              "      <td>0.079208</td>\n",
              "      <td>0.026661</td>\n",
              "      <td>0.105483</td>\n",
              "      <td>0.050094</td>\n",
              "      <td>-0.112072</td>\n",
              "      <td>1</td>\n",
              "    </tr>\n",
              "    <tr>\n",
              "      <th>1</th>\n",
              "      <td>-0.119872</td>\n",
              "      <td>0.251408</td>\n",
              "      <td>-0.140016</td>\n",
              "      <td>0.150052</td>\n",
              "      <td>-0.088338</td>\n",
              "      <td>-0.158808</td>\n",
              "      <td>-0.210718</td>\n",
              "      <td>0.127031</td>\n",
              "      <td>-0.305359</td>\n",
              "      <td>-0.533893</td>\n",
              "      <td>0.227047</td>\n",
              "      <td>-0.321106</td>\n",
              "      <td>0.025527</td>\n",
              "      <td>-0.460810</td>\n",
              "      <td>0.057471</td>\n",
              "      <td>-0.370056</td>\n",
              "      <td>-0.616272</td>\n",
              "      <td>-0.344370</td>\n",
              "      <td>0.051192</td>\n",
              "      <td>0.065509</td>\n",
              "      <td>0.069881</td>\n",
              "      <td>-0.019398</td>\n",
              "      <td>0.005966</td>\n",
              "      <td>0.004219</td>\n",
              "      <td>-0.069417</td>\n",
              "      <td>0.058065</td>\n",
              "      <td>0.147044</td>\n",
              "      <td>0.118216</td>\n",
              "      <td>-0.162776</td>\n",
              "      <td>1</td>\n",
              "    </tr>\n",
              "    <tr>\n",
              "      <th>2</th>\n",
              "      <td>-0.362767</td>\n",
              "      <td>0.713791</td>\n",
              "      <td>-0.502891</td>\n",
              "      <td>0.550096</td>\n",
              "      <td>-0.562912</td>\n",
              "      <td>-0.173860</td>\n",
              "      <td>-0.905334</td>\n",
              "      <td>0.699555</td>\n",
              "      <td>-0.998186</td>\n",
              "      <td>-1.460049</td>\n",
              "      <td>0.446928</td>\n",
              "      <td>-0.682757</td>\n",
              "      <td>0.275978</td>\n",
              "      <td>-0.870967</td>\n",
              "      <td>0.111657</td>\n",
              "      <td>-0.948673</td>\n",
              "      <td>-1.999559</td>\n",
              "      <td>-0.936494</td>\n",
              "      <td>0.479325</td>\n",
              "      <td>-0.009367</td>\n",
              "      <td>0.282052</td>\n",
              "      <td>-0.179327</td>\n",
              "      <td>-0.050537</td>\n",
              "      <td>-0.025652</td>\n",
              "      <td>-0.109952</td>\n",
              "      <td>-0.152449</td>\n",
              "      <td>-0.034316</td>\n",
              "      <td>0.214237</td>\n",
              "      <td>0.190417</td>\n",
              "      <td>1</td>\n",
              "    </tr>\n",
              "    <tr>\n",
              "      <th>3</th>\n",
              "      <td>-0.121165</td>\n",
              "      <td>0.188088</td>\n",
              "      <td>-0.114296</td>\n",
              "      <td>0.112318</td>\n",
              "      <td>-0.093363</td>\n",
              "      <td>-0.164083</td>\n",
              "      <td>-0.156647</td>\n",
              "      <td>0.111453</td>\n",
              "      <td>-0.208516</td>\n",
              "      <td>-0.474703</td>\n",
              "      <td>0.245990</td>\n",
              "      <td>-0.286180</td>\n",
              "      <td>-0.010551</td>\n",
              "      <td>-0.404083</td>\n",
              "      <td>0.100256</td>\n",
              "      <td>-0.354439</td>\n",
              "      <td>-0.495291</td>\n",
              "      <td>-0.303271</td>\n",
              "      <td>-0.018095</td>\n",
              "      <td>0.026235</td>\n",
              "      <td>0.085842</td>\n",
              "      <td>0.023494</td>\n",
              "      <td>0.004144</td>\n",
              "      <td>0.078357</td>\n",
              "      <td>-0.053273</td>\n",
              "      <td>0.082877</td>\n",
              "      <td>0.107443</td>\n",
              "      <td>0.095274</td>\n",
              "      <td>-0.194136</td>\n",
              "      <td>1</td>\n",
              "    </tr>\n",
              "    <tr>\n",
              "      <th>4</th>\n",
              "      <td>-0.003316</td>\n",
              "      <td>0.067358</td>\n",
              "      <td>-0.178075</td>\n",
              "      <td>0.223723</td>\n",
              "      <td>-0.156318</td>\n",
              "      <td>-0.131703</td>\n",
              "      <td>-0.264958</td>\n",
              "      <td>0.065245</td>\n",
              "      <td>-0.118713</td>\n",
              "      <td>-0.506403</td>\n",
              "      <td>0.439589</td>\n",
              "      <td>-0.362929</td>\n",
              "      <td>-0.245319</td>\n",
              "      <td>-0.546209</td>\n",
              "      <td>0.044554</td>\n",
              "      <td>-0.314615</td>\n",
              "      <td>-0.711670</td>\n",
              "      <td>-0.133855</td>\n",
              "      <td>0.051776</td>\n",
              "      <td>0.113589</td>\n",
              "      <td>0.116119</td>\n",
              "      <td>-0.015188</td>\n",
              "      <td>-0.035281</td>\n",
              "      <td>0.040048</td>\n",
              "      <td>0.172794</td>\n",
              "      <td>-0.108122</td>\n",
              "      <td>0.219027</td>\n",
              "      <td>0.169527</td>\n",
              "      <td>0.072747</td>\n",
              "      <td>1</td>\n",
              "    </tr>\n",
              "    <tr>\n",
              "      <th>...</th>\n",
              "      <td>...</td>\n",
              "      <td>...</td>\n",
              "      <td>...</td>\n",
              "      <td>...</td>\n",
              "      <td>...</td>\n",
              "      <td>...</td>\n",
              "      <td>...</td>\n",
              "      <td>...</td>\n",
              "      <td>...</td>\n",
              "      <td>...</td>\n",
              "      <td>...</td>\n",
              "      <td>...</td>\n",
              "      <td>...</td>\n",
              "      <td>...</td>\n",
              "      <td>...</td>\n",
              "      <td>...</td>\n",
              "      <td>...</td>\n",
              "      <td>...</td>\n",
              "      <td>...</td>\n",
              "      <td>...</td>\n",
              "      <td>...</td>\n",
              "      <td>...</td>\n",
              "      <td>...</td>\n",
              "      <td>...</td>\n",
              "      <td>...</td>\n",
              "      <td>...</td>\n",
              "      <td>...</td>\n",
              "      <td>...</td>\n",
              "      <td>...</td>\n",
              "      <td>...</td>\n",
              "    </tr>\n",
              "    <tr>\n",
              "      <th>10211</th>\n",
              "      <td>-0.162071</td>\n",
              "      <td>0.295091</td>\n",
              "      <td>-0.252428</td>\n",
              "      <td>0.337810</td>\n",
              "      <td>-0.006713</td>\n",
              "      <td>-0.119883</td>\n",
              "      <td>-0.296545</td>\n",
              "      <td>0.239958</td>\n",
              "      <td>-0.440558</td>\n",
              "      <td>-0.674444</td>\n",
              "      <td>0.283885</td>\n",
              "      <td>-0.417390</td>\n",
              "      <td>-0.141456</td>\n",
              "      <td>-0.728801</td>\n",
              "      <td>-0.203162</td>\n",
              "      <td>-0.237061</td>\n",
              "      <td>-0.660913</td>\n",
              "      <td>-0.161455</td>\n",
              "      <td>-0.176175</td>\n",
              "      <td>0.046201</td>\n",
              "      <td>0.087944</td>\n",
              "      <td>-0.075465</td>\n",
              "      <td>-0.071446</td>\n",
              "      <td>-0.135792</td>\n",
              "      <td>0.087817</td>\n",
              "      <td>0.022589</td>\n",
              "      <td>0.151514</td>\n",
              "      <td>0.051863</td>\n",
              "      <td>-0.170171</td>\n",
              "      <td>1</td>\n",
              "    </tr>\n",
              "    <tr>\n",
              "      <th>10212</th>\n",
              "      <td>-0.106088</td>\n",
              "      <td>0.271395</td>\n",
              "      <td>-0.183717</td>\n",
              "      <td>0.289677</td>\n",
              "      <td>-0.034133</td>\n",
              "      <td>-0.098519</td>\n",
              "      <td>-0.250057</td>\n",
              "      <td>0.154128</td>\n",
              "      <td>-0.357412</td>\n",
              "      <td>-0.570588</td>\n",
              "      <td>0.219258</td>\n",
              "      <td>-0.411683</td>\n",
              "      <td>-0.157681</td>\n",
              "      <td>-0.616178</td>\n",
              "      <td>-0.041057</td>\n",
              "      <td>-0.239407</td>\n",
              "      <td>-0.648834</td>\n",
              "      <td>-0.144530</td>\n",
              "      <td>-0.067402</td>\n",
              "      <td>0.062455</td>\n",
              "      <td>0.076228</td>\n",
              "      <td>-0.112817</td>\n",
              "      <td>-0.045919</td>\n",
              "      <td>-0.123990</td>\n",
              "      <td>0.111710</td>\n",
              "      <td>0.009861</td>\n",
              "      <td>0.137245</td>\n",
              "      <td>0.110527</td>\n",
              "      <td>-0.093819</td>\n",
              "      <td>1</td>\n",
              "    </tr>\n",
              "    <tr>\n",
              "      <th>10213</th>\n",
              "      <td>-0.105258</td>\n",
              "      <td>0.229208</td>\n",
              "      <td>-0.188494</td>\n",
              "      <td>0.219698</td>\n",
              "      <td>-0.077626</td>\n",
              "      <td>-0.098109</td>\n",
              "      <td>-0.210875</td>\n",
              "      <td>0.129918</td>\n",
              "      <td>-0.290278</td>\n",
              "      <td>-0.495498</td>\n",
              "      <td>0.151498</td>\n",
              "      <td>-0.345429</td>\n",
              "      <td>-0.083235</td>\n",
              "      <td>-0.498708</td>\n",
              "      <td>0.095777</td>\n",
              "      <td>-0.251499</td>\n",
              "      <td>-0.603623</td>\n",
              "      <td>-0.158323</td>\n",
              "      <td>0.048356</td>\n",
              "      <td>0.024159</td>\n",
              "      <td>0.075966</td>\n",
              "      <td>-0.065872</td>\n",
              "      <td>-0.059850</td>\n",
              "      <td>-0.080813</td>\n",
              "      <td>0.054742</td>\n",
              "      <td>-0.005013</td>\n",
              "      <td>0.065644</td>\n",
              "      <td>0.080139</td>\n",
              "      <td>-0.007700</td>\n",
              "      <td>1</td>\n",
              "    </tr>\n",
              "    <tr>\n",
              "      <th>10214</th>\n",
              "      <td>-0.161915</td>\n",
              "      <td>0.387540</td>\n",
              "      <td>-0.210027</td>\n",
              "      <td>0.321788</td>\n",
              "      <td>-0.228884</td>\n",
              "      <td>-0.099829</td>\n",
              "      <td>-0.447315</td>\n",
              "      <td>0.253155</td>\n",
              "      <td>-0.544441</td>\n",
              "      <td>-0.780909</td>\n",
              "      <td>0.305330</td>\n",
              "      <td>-0.472987</td>\n",
              "      <td>0.158222</td>\n",
              "      <td>-0.667381</td>\n",
              "      <td>0.029263</td>\n",
              "      <td>-0.630609</td>\n",
              "      <td>-1.270887</td>\n",
              "      <td>-0.627675</td>\n",
              "      <td>0.310462</td>\n",
              "      <td>0.126799</td>\n",
              "      <td>0.143624</td>\n",
              "      <td>-0.120962</td>\n",
              "      <td>0.069229</td>\n",
              "      <td>-0.055930</td>\n",
              "      <td>-0.139094</td>\n",
              "      <td>-0.063125</td>\n",
              "      <td>0.257777</td>\n",
              "      <td>0.206381</td>\n",
              "      <td>-0.104113</td>\n",
              "      <td>1</td>\n",
              "    </tr>\n",
              "    <tr>\n",
              "      <th>10215</th>\n",
              "      <td>-0.061193</td>\n",
              "      <td>0.183969</td>\n",
              "      <td>-0.182365</td>\n",
              "      <td>0.216646</td>\n",
              "      <td>-0.066844</td>\n",
              "      <td>-0.109375</td>\n",
              "      <td>-0.192819</td>\n",
              "      <td>0.102239</td>\n",
              "      <td>-0.231498</td>\n",
              "      <td>-0.469395</td>\n",
              "      <td>0.233162</td>\n",
              "      <td>-0.368330</td>\n",
              "      <td>-0.124069</td>\n",
              "      <td>-0.514370</td>\n",
              "      <td>0.059523</td>\n",
              "      <td>-0.260249</td>\n",
              "      <td>-0.603146</td>\n",
              "      <td>-0.146642</td>\n",
              "      <td>0.012058</td>\n",
              "      <td>0.067553</td>\n",
              "      <td>0.069604</td>\n",
              "      <td>-0.056246</td>\n",
              "      <td>-0.037088</td>\n",
              "      <td>-0.076451</td>\n",
              "      <td>0.066429</td>\n",
              "      <td>-0.021991</td>\n",
              "      <td>0.122574</td>\n",
              "      <td>0.107766</td>\n",
              "      <td>0.017694</td>\n",
              "      <td>1</td>\n",
              "    </tr>\n",
              "  </tbody>\n",
              "</table>\n",
              "<p>10216 rows × 30 columns</p>\n",
              "</div>"
            ],
            "text/plain": [
              "             V1        V2        V3  ...       V28    Amount  Class\n",
              "0     -0.109150  0.240125 -0.189470  ...  0.050094 -0.112072      1\n",
              "1     -0.119872  0.251408 -0.140016  ...  0.118216 -0.162776      1\n",
              "2     -0.362767  0.713791 -0.502891  ...  0.214237  0.190417      1\n",
              "3     -0.121165  0.188088 -0.114296  ...  0.095274 -0.194136      1\n",
              "4     -0.003316  0.067358 -0.178075  ...  0.169527  0.072747      1\n",
              "...         ...       ...       ...  ...       ...       ...    ...\n",
              "10211 -0.162071  0.295091 -0.252428  ...  0.051863 -0.170171      1\n",
              "10212 -0.106088  0.271395 -0.183717  ...  0.110527 -0.093819      1\n",
              "10213 -0.105258  0.229208 -0.188494  ...  0.080139 -0.007700      1\n",
              "10214 -0.161915  0.387540 -0.210027  ...  0.206381 -0.104113      1\n",
              "10215 -0.061193  0.183969 -0.182365  ...  0.107766  0.017694      1\n",
              "\n",
              "[10216 rows x 30 columns]"
            ]
          },
          "metadata": {
            "tags": []
          },
          "execution_count": 6
        }
      ]
    },
    {
      "cell_type": "code",
      "metadata": {
        "id": "9d9Bmy3oe4sJ"
      },
      "source": [
        "df = df.iloc[:-286]"
      ],
      "execution_count": null,
      "outputs": []
    },
    {
      "cell_type": "code",
      "metadata": {
        "colab": {
          "base_uri": "https://localhost:8080/",
          "height": 439
        },
        "id": "YE-6KvJye6zz",
        "outputId": "a99131da-4a83-4801-b34b-fec2edc24eb6"
      },
      "source": [
        "df"
      ],
      "execution_count": null,
      "outputs": [
        {
          "output_type": "execute_result",
          "data": {
            "text/html": [
              "<div>\n",
              "<style scoped>\n",
              "    .dataframe tbody tr th:only-of-type {\n",
              "        vertical-align: middle;\n",
              "    }\n",
              "\n",
              "    .dataframe tbody tr th {\n",
              "        vertical-align: top;\n",
              "    }\n",
              "\n",
              "    .dataframe thead th {\n",
              "        text-align: right;\n",
              "    }\n",
              "</style>\n",
              "<table border=\"1\" class=\"dataframe\">\n",
              "  <thead>\n",
              "    <tr style=\"text-align: right;\">\n",
              "      <th></th>\n",
              "      <th>V1</th>\n",
              "      <th>V2</th>\n",
              "      <th>V3</th>\n",
              "      <th>V4</th>\n",
              "      <th>V5</th>\n",
              "      <th>V6</th>\n",
              "      <th>V7</th>\n",
              "      <th>V8</th>\n",
              "      <th>V9</th>\n",
              "      <th>V10</th>\n",
              "      <th>V11</th>\n",
              "      <th>V12</th>\n",
              "      <th>V13</th>\n",
              "      <th>V14</th>\n",
              "      <th>V15</th>\n",
              "      <th>V16</th>\n",
              "      <th>V17</th>\n",
              "      <th>V18</th>\n",
              "      <th>V19</th>\n",
              "      <th>V20</th>\n",
              "      <th>V21</th>\n",
              "      <th>V22</th>\n",
              "      <th>V23</th>\n",
              "      <th>V24</th>\n",
              "      <th>V25</th>\n",
              "      <th>V26</th>\n",
              "      <th>V27</th>\n",
              "      <th>V28</th>\n",
              "      <th>Amount</th>\n",
              "      <th>Class</th>\n",
              "    </tr>\n",
              "  </thead>\n",
              "  <tbody>\n",
              "    <tr>\n",
              "      <th>0</th>\n",
              "      <td>-0.109150</td>\n",
              "      <td>0.240125</td>\n",
              "      <td>-0.189470</td>\n",
              "      <td>0.250111</td>\n",
              "      <td>-0.021955</td>\n",
              "      <td>-0.101137</td>\n",
              "      <td>-0.208111</td>\n",
              "      <td>0.148374</td>\n",
              "      <td>-0.299190</td>\n",
              "      <td>-0.485622</td>\n",
              "      <td>0.203578</td>\n",
              "      <td>-0.346439</td>\n",
              "      <td>-0.119928</td>\n",
              "      <td>-0.531557</td>\n",
              "      <td>-0.046789</td>\n",
              "      <td>-0.220834</td>\n",
              "      <td>-0.546204</td>\n",
              "      <td>-0.127089</td>\n",
              "      <td>-0.075881</td>\n",
              "      <td>0.023101</td>\n",
              "      <td>0.082730</td>\n",
              "      <td>-0.067394</td>\n",
              "      <td>-0.046766</td>\n",
              "      <td>-0.090622</td>\n",
              "      <td>0.079208</td>\n",
              "      <td>0.026661</td>\n",
              "      <td>0.105483</td>\n",
              "      <td>0.050094</td>\n",
              "      <td>-0.112072</td>\n",
              "      <td>1.0</td>\n",
              "    </tr>\n",
              "    <tr>\n",
              "      <th>1</th>\n",
              "      <td>-0.119872</td>\n",
              "      <td>0.251408</td>\n",
              "      <td>-0.140016</td>\n",
              "      <td>0.150052</td>\n",
              "      <td>-0.088338</td>\n",
              "      <td>-0.158808</td>\n",
              "      <td>-0.210718</td>\n",
              "      <td>0.127031</td>\n",
              "      <td>-0.305359</td>\n",
              "      <td>-0.533893</td>\n",
              "      <td>0.227047</td>\n",
              "      <td>-0.321106</td>\n",
              "      <td>0.025527</td>\n",
              "      <td>-0.460810</td>\n",
              "      <td>0.057471</td>\n",
              "      <td>-0.370056</td>\n",
              "      <td>-0.616272</td>\n",
              "      <td>-0.344370</td>\n",
              "      <td>0.051192</td>\n",
              "      <td>0.065509</td>\n",
              "      <td>0.069881</td>\n",
              "      <td>-0.019398</td>\n",
              "      <td>0.005966</td>\n",
              "      <td>0.004219</td>\n",
              "      <td>-0.069417</td>\n",
              "      <td>0.058065</td>\n",
              "      <td>0.147044</td>\n",
              "      <td>0.118216</td>\n",
              "      <td>-0.162776</td>\n",
              "      <td>1.0</td>\n",
              "    </tr>\n",
              "    <tr>\n",
              "      <th>2</th>\n",
              "      <td>-0.362767</td>\n",
              "      <td>0.713791</td>\n",
              "      <td>-0.502891</td>\n",
              "      <td>0.550096</td>\n",
              "      <td>-0.562912</td>\n",
              "      <td>-0.173860</td>\n",
              "      <td>-0.905334</td>\n",
              "      <td>0.699555</td>\n",
              "      <td>-0.998186</td>\n",
              "      <td>-1.460049</td>\n",
              "      <td>0.446928</td>\n",
              "      <td>-0.682757</td>\n",
              "      <td>0.275978</td>\n",
              "      <td>-0.870967</td>\n",
              "      <td>0.111657</td>\n",
              "      <td>-0.948673</td>\n",
              "      <td>-1.999559</td>\n",
              "      <td>-0.936494</td>\n",
              "      <td>0.479325</td>\n",
              "      <td>-0.009367</td>\n",
              "      <td>0.282052</td>\n",
              "      <td>-0.179327</td>\n",
              "      <td>-0.050537</td>\n",
              "      <td>-0.025652</td>\n",
              "      <td>-0.109952</td>\n",
              "      <td>-0.152449</td>\n",
              "      <td>-0.034316</td>\n",
              "      <td>0.214237</td>\n",
              "      <td>0.190417</td>\n",
              "      <td>1.0</td>\n",
              "    </tr>\n",
              "    <tr>\n",
              "      <th>3</th>\n",
              "      <td>-0.121165</td>\n",
              "      <td>0.188088</td>\n",
              "      <td>-0.114296</td>\n",
              "      <td>0.112318</td>\n",
              "      <td>-0.093363</td>\n",
              "      <td>-0.164083</td>\n",
              "      <td>-0.156647</td>\n",
              "      <td>0.111453</td>\n",
              "      <td>-0.208516</td>\n",
              "      <td>-0.474703</td>\n",
              "      <td>0.245990</td>\n",
              "      <td>-0.286180</td>\n",
              "      <td>-0.010551</td>\n",
              "      <td>-0.404083</td>\n",
              "      <td>0.100256</td>\n",
              "      <td>-0.354439</td>\n",
              "      <td>-0.495291</td>\n",
              "      <td>-0.303271</td>\n",
              "      <td>-0.018095</td>\n",
              "      <td>0.026235</td>\n",
              "      <td>0.085842</td>\n",
              "      <td>0.023494</td>\n",
              "      <td>0.004144</td>\n",
              "      <td>0.078357</td>\n",
              "      <td>-0.053273</td>\n",
              "      <td>0.082877</td>\n",
              "      <td>0.107443</td>\n",
              "      <td>0.095274</td>\n",
              "      <td>-0.194136</td>\n",
              "      <td>1.0</td>\n",
              "    </tr>\n",
              "    <tr>\n",
              "      <th>4</th>\n",
              "      <td>-0.003316</td>\n",
              "      <td>0.067358</td>\n",
              "      <td>-0.178075</td>\n",
              "      <td>0.223723</td>\n",
              "      <td>-0.156318</td>\n",
              "      <td>-0.131703</td>\n",
              "      <td>-0.264958</td>\n",
              "      <td>0.065245</td>\n",
              "      <td>-0.118713</td>\n",
              "      <td>-0.506403</td>\n",
              "      <td>0.439589</td>\n",
              "      <td>-0.362929</td>\n",
              "      <td>-0.245319</td>\n",
              "      <td>-0.546209</td>\n",
              "      <td>0.044554</td>\n",
              "      <td>-0.314615</td>\n",
              "      <td>-0.711670</td>\n",
              "      <td>-0.133855</td>\n",
              "      <td>0.051776</td>\n",
              "      <td>0.113589</td>\n",
              "      <td>0.116119</td>\n",
              "      <td>-0.015188</td>\n",
              "      <td>-0.035281</td>\n",
              "      <td>0.040048</td>\n",
              "      <td>0.172794</td>\n",
              "      <td>-0.108122</td>\n",
              "      <td>0.219027</td>\n",
              "      <td>0.169527</td>\n",
              "      <td>0.072747</td>\n",
              "      <td>1.0</td>\n",
              "    </tr>\n",
              "    <tr>\n",
              "      <th>...</th>\n",
              "      <td>...</td>\n",
              "      <td>...</td>\n",
              "      <td>...</td>\n",
              "      <td>...</td>\n",
              "      <td>...</td>\n",
              "      <td>...</td>\n",
              "      <td>...</td>\n",
              "      <td>...</td>\n",
              "      <td>...</td>\n",
              "      <td>...</td>\n",
              "      <td>...</td>\n",
              "      <td>...</td>\n",
              "      <td>...</td>\n",
              "      <td>...</td>\n",
              "      <td>...</td>\n",
              "      <td>...</td>\n",
              "      <td>...</td>\n",
              "      <td>...</td>\n",
              "      <td>...</td>\n",
              "      <td>...</td>\n",
              "      <td>...</td>\n",
              "      <td>...</td>\n",
              "      <td>...</td>\n",
              "      <td>...</td>\n",
              "      <td>...</td>\n",
              "      <td>...</td>\n",
              "      <td>...</td>\n",
              "      <td>...</td>\n",
              "      <td>...</td>\n",
              "      <td>...</td>\n",
              "    </tr>\n",
              "    <tr>\n",
              "      <th>24994</th>\n",
              "      <td>-0.077268</td>\n",
              "      <td>0.200516</td>\n",
              "      <td>-0.189551</td>\n",
              "      <td>0.223934</td>\n",
              "      <td>-0.095534</td>\n",
              "      <td>-0.104028</td>\n",
              "      <td>-0.190862</td>\n",
              "      <td>0.113407</td>\n",
              "      <td>-0.241806</td>\n",
              "      <td>-0.498349</td>\n",
              "      <td>0.278069</td>\n",
              "      <td>-0.370855</td>\n",
              "      <td>-0.110535</td>\n",
              "      <td>-0.558634</td>\n",
              "      <td>0.046574</td>\n",
              "      <td>-0.270627</td>\n",
              "      <td>-0.648882</td>\n",
              "      <td>-0.150411</td>\n",
              "      <td>0.067989</td>\n",
              "      <td>0.074365</td>\n",
              "      <td>0.091710</td>\n",
              "      <td>-0.044643</td>\n",
              "      <td>-0.037005</td>\n",
              "      <td>-0.081107</td>\n",
              "      <td>0.064790</td>\n",
              "      <td>0.010831</td>\n",
              "      <td>0.147970</td>\n",
              "      <td>0.127376</td>\n",
              "      <td>0.048777</td>\n",
              "      <td>1.0</td>\n",
              "    </tr>\n",
              "    <tr>\n",
              "      <th>24995</th>\n",
              "      <td>-0.104518</td>\n",
              "      <td>0.231579</td>\n",
              "      <td>-0.193284</td>\n",
              "      <td>0.280575</td>\n",
              "      <td>-0.028214</td>\n",
              "      <td>-0.088680</td>\n",
              "      <td>-0.242837</td>\n",
              "      <td>0.172009</td>\n",
              "      <td>-0.326935</td>\n",
              "      <td>-0.525291</td>\n",
              "      <td>0.251111</td>\n",
              "      <td>-0.361354</td>\n",
              "      <td>-0.141573</td>\n",
              "      <td>-0.583713</td>\n",
              "      <td>-0.120201</td>\n",
              "      <td>-0.237047</td>\n",
              "      <td>-0.612680</td>\n",
              "      <td>-0.136864</td>\n",
              "      <td>-0.096267</td>\n",
              "      <td>0.023229</td>\n",
              "      <td>0.077448</td>\n",
              "      <td>-0.061976</td>\n",
              "      <td>-0.040212</td>\n",
              "      <td>-0.080977</td>\n",
              "      <td>0.112011</td>\n",
              "      <td>0.021656</td>\n",
              "      <td>0.125577</td>\n",
              "      <td>0.041958</td>\n",
              "      <td>-0.124745</td>\n",
              "      <td>1.0</td>\n",
              "    </tr>\n",
              "    <tr>\n",
              "      <th>24996</th>\n",
              "      <td>-0.073311</td>\n",
              "      <td>0.186409</td>\n",
              "      <td>-0.137399</td>\n",
              "      <td>0.164366</td>\n",
              "      <td>-0.054022</td>\n",
              "      <td>-0.102623</td>\n",
              "      <td>-0.133449</td>\n",
              "      <td>0.077707</td>\n",
              "      <td>-0.195955</td>\n",
              "      <td>-0.377198</td>\n",
              "      <td>0.173489</td>\n",
              "      <td>-0.300728</td>\n",
              "      <td>-0.078201</td>\n",
              "      <td>-0.407496</td>\n",
              "      <td>0.086751</td>\n",
              "      <td>-0.240034</td>\n",
              "      <td>-0.476805</td>\n",
              "      <td>-0.151918</td>\n",
              "      <td>0.003595</td>\n",
              "      <td>0.030681</td>\n",
              "      <td>0.072910</td>\n",
              "      <td>-0.030541</td>\n",
              "      <td>-0.032041</td>\n",
              "      <td>-0.034217</td>\n",
              "      <td>0.034137</td>\n",
              "      <td>0.024866</td>\n",
              "      <td>0.082662</td>\n",
              "      <td>0.071711</td>\n",
              "      <td>-0.075651</td>\n",
              "      <td>1.0</td>\n",
              "    </tr>\n",
              "    <tr>\n",
              "      <th>24997</th>\n",
              "      <td>-0.089446</td>\n",
              "      <td>0.258891</td>\n",
              "      <td>-0.199537</td>\n",
              "      <td>0.224261</td>\n",
              "      <td>0.029250</td>\n",
              "      <td>-0.141321</td>\n",
              "      <td>-0.118954</td>\n",
              "      <td>0.073742</td>\n",
              "      <td>-0.314702</td>\n",
              "      <td>-0.489145</td>\n",
              "      <td>0.187842</td>\n",
              "      <td>-0.348301</td>\n",
              "      <td>-0.054767</td>\n",
              "      <td>-0.558105</td>\n",
              "      <td>0.029122</td>\n",
              "      <td>-0.150760</td>\n",
              "      <td>-0.389067</td>\n",
              "      <td>-0.067650</td>\n",
              "      <td>-0.073766</td>\n",
              "      <td>0.039091</td>\n",
              "      <td>0.051989</td>\n",
              "      <td>-0.075111</td>\n",
              "      <td>-0.044678</td>\n",
              "      <td>-0.090625</td>\n",
              "      <td>0.060060</td>\n",
              "      <td>0.024304</td>\n",
              "      <td>0.094534</td>\n",
              "      <td>0.095225</td>\n",
              "      <td>-0.096555</td>\n",
              "      <td>1.0</td>\n",
              "    </tr>\n",
              "    <tr>\n",
              "      <th>24998</th>\n",
              "      <td>-0.113764</td>\n",
              "      <td>0.207711</td>\n",
              "      <td>-0.217898</td>\n",
              "      <td>0.253680</td>\n",
              "      <td>-0.010175</td>\n",
              "      <td>-0.116309</td>\n",
              "      <td>-0.181098</td>\n",
              "      <td>0.139722</td>\n",
              "      <td>-0.291958</td>\n",
              "      <td>-0.509433</td>\n",
              "      <td>0.332046</td>\n",
              "      <td>-0.321556</td>\n",
              "      <td>-0.082879</td>\n",
              "      <td>-0.532612</td>\n",
              "      <td>-0.185445</td>\n",
              "      <td>-0.237582</td>\n",
              "      <td>-0.473736</td>\n",
              "      <td>-0.104387</td>\n",
              "      <td>-0.145959</td>\n",
              "      <td>0.012050</td>\n",
              "      <td>0.065303</td>\n",
              "      <td>-0.025591</td>\n",
              "      <td>-0.054017</td>\n",
              "      <td>-0.023353</td>\n",
              "      <td>0.115524</td>\n",
              "      <td>0.032732</td>\n",
              "      <td>0.124634</td>\n",
              "      <td>0.006585</td>\n",
              "      <td>-0.145466</td>\n",
              "      <td>1.0</td>\n",
              "    </tr>\n",
              "  </tbody>\n",
              "</table>\n",
              "<p>24999 rows × 30 columns</p>\n",
              "</div>"
            ],
            "text/plain": [
              "             V1        V2        V3  ...       V28    Amount  Class\n",
              "0     -0.109150  0.240125 -0.189470  ...  0.050094 -0.112072    1.0\n",
              "1     -0.119872  0.251408 -0.140016  ...  0.118216 -0.162776    1.0\n",
              "2     -0.362767  0.713791 -0.502891  ...  0.214237  0.190417    1.0\n",
              "3     -0.121165  0.188088 -0.114296  ...  0.095274 -0.194136    1.0\n",
              "4     -0.003316  0.067358 -0.178075  ...  0.169527  0.072747    1.0\n",
              "...         ...       ...       ...  ...       ...       ...    ...\n",
              "24994 -0.077268  0.200516 -0.189551  ...  0.127376  0.048777    1.0\n",
              "24995 -0.104518  0.231579 -0.193284  ...  0.041958 -0.124745    1.0\n",
              "24996 -0.073311  0.186409 -0.137399  ...  0.071711 -0.075651    1.0\n",
              "24997 -0.089446  0.258891 -0.199537  ...  0.095225 -0.096555    1.0\n",
              "24998 -0.113764  0.207711 -0.217898  ...  0.006585 -0.145466    1.0\n",
              "\n",
              "[24999 rows x 30 columns]"
            ]
          },
          "metadata": {
            "tags": []
          },
          "execution_count": 23
        }
      ]
    },
    {
      "cell_type": "code",
      "metadata": {
        "colab": {
          "base_uri": "https://localhost:8080/",
          "height": 439
        },
        "id": "pw2CnvC0fEDp",
        "outputId": "a4bfdfb1-0857-4ca4-ff3d-2b8e6a582c43"
      },
      "source": [
        "#Concatanating two csv files\n",
        "frames = [df, dataset]\n",
        "result = pd.concat(frames)\n",
        "\n",
        "result"
      ],
      "execution_count": null,
      "outputs": [
        {
          "output_type": "execute_result",
          "data": {
            "text/html": [
              "<div>\n",
              "<style scoped>\n",
              "    .dataframe tbody tr th:only-of-type {\n",
              "        vertical-align: middle;\n",
              "    }\n",
              "\n",
              "    .dataframe tbody tr th {\n",
              "        vertical-align: top;\n",
              "    }\n",
              "\n",
              "    .dataframe thead th {\n",
              "        text-align: right;\n",
              "    }\n",
              "</style>\n",
              "<table border=\"1\" class=\"dataframe\">\n",
              "  <thead>\n",
              "    <tr style=\"text-align: right;\">\n",
              "      <th></th>\n",
              "      <th>V1</th>\n",
              "      <th>V2</th>\n",
              "      <th>V3</th>\n",
              "      <th>V4</th>\n",
              "      <th>V5</th>\n",
              "      <th>V6</th>\n",
              "      <th>V7</th>\n",
              "      <th>V8</th>\n",
              "      <th>V9</th>\n",
              "      <th>V10</th>\n",
              "      <th>V11</th>\n",
              "      <th>V12</th>\n",
              "      <th>V13</th>\n",
              "      <th>V14</th>\n",
              "      <th>V15</th>\n",
              "      <th>V16</th>\n",
              "      <th>V17</th>\n",
              "      <th>V18</th>\n",
              "      <th>V19</th>\n",
              "      <th>V20</th>\n",
              "      <th>V21</th>\n",
              "      <th>V22</th>\n",
              "      <th>V23</th>\n",
              "      <th>V24</th>\n",
              "      <th>V25</th>\n",
              "      <th>V26</th>\n",
              "      <th>V27</th>\n",
              "      <th>V28</th>\n",
              "      <th>Amount</th>\n",
              "      <th>Class</th>\n",
              "    </tr>\n",
              "  </thead>\n",
              "  <tbody>\n",
              "    <tr>\n",
              "      <th>0</th>\n",
              "      <td>-0.109150</td>\n",
              "      <td>0.240125</td>\n",
              "      <td>-0.189470</td>\n",
              "      <td>0.250111</td>\n",
              "      <td>-0.021955</td>\n",
              "      <td>-0.101137</td>\n",
              "      <td>-0.208111</td>\n",
              "      <td>0.148374</td>\n",
              "      <td>-0.299190</td>\n",
              "      <td>-0.485622</td>\n",
              "      <td>0.203578</td>\n",
              "      <td>-0.346439</td>\n",
              "      <td>-0.119928</td>\n",
              "      <td>-0.531557</td>\n",
              "      <td>-0.046789</td>\n",
              "      <td>-0.220834</td>\n",
              "      <td>-0.546204</td>\n",
              "      <td>-0.127089</td>\n",
              "      <td>-0.075881</td>\n",
              "      <td>0.023101</td>\n",
              "      <td>0.082730</td>\n",
              "      <td>-0.067394</td>\n",
              "      <td>-0.046766</td>\n",
              "      <td>-0.090622</td>\n",
              "      <td>0.079208</td>\n",
              "      <td>0.026661</td>\n",
              "      <td>0.105483</td>\n",
              "      <td>0.050094</td>\n",
              "      <td>-0.112072</td>\n",
              "      <td>1</td>\n",
              "    </tr>\n",
              "    <tr>\n",
              "      <th>1</th>\n",
              "      <td>-0.119872</td>\n",
              "      <td>0.251408</td>\n",
              "      <td>-0.140016</td>\n",
              "      <td>0.150052</td>\n",
              "      <td>-0.088338</td>\n",
              "      <td>-0.158808</td>\n",
              "      <td>-0.210718</td>\n",
              "      <td>0.127031</td>\n",
              "      <td>-0.305359</td>\n",
              "      <td>-0.533893</td>\n",
              "      <td>0.227047</td>\n",
              "      <td>-0.321106</td>\n",
              "      <td>0.025527</td>\n",
              "      <td>-0.460810</td>\n",
              "      <td>0.057471</td>\n",
              "      <td>-0.370056</td>\n",
              "      <td>-0.616272</td>\n",
              "      <td>-0.344370</td>\n",
              "      <td>0.051192</td>\n",
              "      <td>0.065509</td>\n",
              "      <td>0.069881</td>\n",
              "      <td>-0.019398</td>\n",
              "      <td>0.005966</td>\n",
              "      <td>0.004219</td>\n",
              "      <td>-0.069417</td>\n",
              "      <td>0.058065</td>\n",
              "      <td>0.147044</td>\n",
              "      <td>0.118216</td>\n",
              "      <td>-0.162776</td>\n",
              "      <td>1</td>\n",
              "    </tr>\n",
              "    <tr>\n",
              "      <th>2</th>\n",
              "      <td>-0.362767</td>\n",
              "      <td>0.713791</td>\n",
              "      <td>-0.502891</td>\n",
              "      <td>0.550096</td>\n",
              "      <td>-0.562912</td>\n",
              "      <td>-0.173860</td>\n",
              "      <td>-0.905334</td>\n",
              "      <td>0.699555</td>\n",
              "      <td>-0.998186</td>\n",
              "      <td>-1.460049</td>\n",
              "      <td>0.446928</td>\n",
              "      <td>-0.682757</td>\n",
              "      <td>0.275978</td>\n",
              "      <td>-0.870967</td>\n",
              "      <td>0.111657</td>\n",
              "      <td>-0.948673</td>\n",
              "      <td>-1.999559</td>\n",
              "      <td>-0.936494</td>\n",
              "      <td>0.479325</td>\n",
              "      <td>-0.009367</td>\n",
              "      <td>0.282052</td>\n",
              "      <td>-0.179327</td>\n",
              "      <td>-0.050537</td>\n",
              "      <td>-0.025652</td>\n",
              "      <td>-0.109952</td>\n",
              "      <td>-0.152449</td>\n",
              "      <td>-0.034316</td>\n",
              "      <td>0.214237</td>\n",
              "      <td>0.190417</td>\n",
              "      <td>1</td>\n",
              "    </tr>\n",
              "    <tr>\n",
              "      <th>3</th>\n",
              "      <td>-0.121165</td>\n",
              "      <td>0.188088</td>\n",
              "      <td>-0.114296</td>\n",
              "      <td>0.112318</td>\n",
              "      <td>-0.093363</td>\n",
              "      <td>-0.164083</td>\n",
              "      <td>-0.156647</td>\n",
              "      <td>0.111453</td>\n",
              "      <td>-0.208516</td>\n",
              "      <td>-0.474703</td>\n",
              "      <td>0.245990</td>\n",
              "      <td>-0.286180</td>\n",
              "      <td>-0.010551</td>\n",
              "      <td>-0.404083</td>\n",
              "      <td>0.100256</td>\n",
              "      <td>-0.354439</td>\n",
              "      <td>-0.495291</td>\n",
              "      <td>-0.303271</td>\n",
              "      <td>-0.018095</td>\n",
              "      <td>0.026235</td>\n",
              "      <td>0.085842</td>\n",
              "      <td>0.023494</td>\n",
              "      <td>0.004144</td>\n",
              "      <td>0.078357</td>\n",
              "      <td>-0.053273</td>\n",
              "      <td>0.082877</td>\n",
              "      <td>0.107443</td>\n",
              "      <td>0.095274</td>\n",
              "      <td>-0.194136</td>\n",
              "      <td>1</td>\n",
              "    </tr>\n",
              "    <tr>\n",
              "      <th>4</th>\n",
              "      <td>-0.003316</td>\n",
              "      <td>0.067358</td>\n",
              "      <td>-0.178075</td>\n",
              "      <td>0.223723</td>\n",
              "      <td>-0.156318</td>\n",
              "      <td>-0.131703</td>\n",
              "      <td>-0.264958</td>\n",
              "      <td>0.065245</td>\n",
              "      <td>-0.118713</td>\n",
              "      <td>-0.506403</td>\n",
              "      <td>0.439589</td>\n",
              "      <td>-0.362929</td>\n",
              "      <td>-0.245319</td>\n",
              "      <td>-0.546209</td>\n",
              "      <td>0.044554</td>\n",
              "      <td>-0.314615</td>\n",
              "      <td>-0.711670</td>\n",
              "      <td>-0.133855</td>\n",
              "      <td>0.051776</td>\n",
              "      <td>0.113589</td>\n",
              "      <td>0.116119</td>\n",
              "      <td>-0.015188</td>\n",
              "      <td>-0.035281</td>\n",
              "      <td>0.040048</td>\n",
              "      <td>0.172794</td>\n",
              "      <td>-0.108122</td>\n",
              "      <td>0.219027</td>\n",
              "      <td>0.169527</td>\n",
              "      <td>0.072747</td>\n",
              "      <td>1</td>\n",
              "    </tr>\n",
              "    <tr>\n",
              "      <th>...</th>\n",
              "      <td>...</td>\n",
              "      <td>...</td>\n",
              "      <td>...</td>\n",
              "      <td>...</td>\n",
              "      <td>...</td>\n",
              "      <td>...</td>\n",
              "      <td>...</td>\n",
              "      <td>...</td>\n",
              "      <td>...</td>\n",
              "      <td>...</td>\n",
              "      <td>...</td>\n",
              "      <td>...</td>\n",
              "      <td>...</td>\n",
              "      <td>...</td>\n",
              "      <td>...</td>\n",
              "      <td>...</td>\n",
              "      <td>...</td>\n",
              "      <td>...</td>\n",
              "      <td>...</td>\n",
              "      <td>...</td>\n",
              "      <td>...</td>\n",
              "      <td>...</td>\n",
              "      <td>...</td>\n",
              "      <td>...</td>\n",
              "      <td>...</td>\n",
              "      <td>...</td>\n",
              "      <td>...</td>\n",
              "      <td>...</td>\n",
              "      <td>...</td>\n",
              "      <td>...</td>\n",
              "    </tr>\n",
              "    <tr>\n",
              "      <th>284802</th>\n",
              "      <td>-11.881118</td>\n",
              "      <td>10.071785</td>\n",
              "      <td>-9.834783</td>\n",
              "      <td>-2.066656</td>\n",
              "      <td>-5.364473</td>\n",
              "      <td>-2.606837</td>\n",
              "      <td>-4.918215</td>\n",
              "      <td>7.305334</td>\n",
              "      <td>1.914428</td>\n",
              "      <td>4.356170</td>\n",
              "      <td>-1.593105</td>\n",
              "      <td>2.711941</td>\n",
              "      <td>-0.689256</td>\n",
              "      <td>4.626942</td>\n",
              "      <td>-0.924459</td>\n",
              "      <td>1.107641</td>\n",
              "      <td>1.991691</td>\n",
              "      <td>0.510632</td>\n",
              "      <td>-0.682920</td>\n",
              "      <td>1.475829</td>\n",
              "      <td>0.213454</td>\n",
              "      <td>0.111864</td>\n",
              "      <td>1.014480</td>\n",
              "      <td>-0.509348</td>\n",
              "      <td>1.436807</td>\n",
              "      <td>0.250034</td>\n",
              "      <td>0.943651</td>\n",
              "      <td>0.823731</td>\n",
              "      <td>0.770000</td>\n",
              "      <td>0</td>\n",
              "    </tr>\n",
              "    <tr>\n",
              "      <th>284803</th>\n",
              "      <td>-0.732789</td>\n",
              "      <td>-0.055080</td>\n",
              "      <td>2.035030</td>\n",
              "      <td>-0.738589</td>\n",
              "      <td>0.868229</td>\n",
              "      <td>1.058415</td>\n",
              "      <td>0.024330</td>\n",
              "      <td>0.294869</td>\n",
              "      <td>0.584800</td>\n",
              "      <td>-0.975926</td>\n",
              "      <td>-0.150189</td>\n",
              "      <td>0.915802</td>\n",
              "      <td>1.214756</td>\n",
              "      <td>-0.675143</td>\n",
              "      <td>1.164931</td>\n",
              "      <td>-0.711757</td>\n",
              "      <td>-0.025693</td>\n",
              "      <td>-1.221179</td>\n",
              "      <td>-1.545556</td>\n",
              "      <td>0.059616</td>\n",
              "      <td>0.214205</td>\n",
              "      <td>0.924384</td>\n",
              "      <td>0.012463</td>\n",
              "      <td>-1.016226</td>\n",
              "      <td>-0.606624</td>\n",
              "      <td>-0.395255</td>\n",
              "      <td>0.068472</td>\n",
              "      <td>-0.053527</td>\n",
              "      <td>24.790000</td>\n",
              "      <td>0</td>\n",
              "    </tr>\n",
              "    <tr>\n",
              "      <th>284804</th>\n",
              "      <td>1.919565</td>\n",
              "      <td>-0.301254</td>\n",
              "      <td>-3.249640</td>\n",
              "      <td>-0.557828</td>\n",
              "      <td>2.630515</td>\n",
              "      <td>3.031260</td>\n",
              "      <td>-0.296827</td>\n",
              "      <td>0.708417</td>\n",
              "      <td>0.432454</td>\n",
              "      <td>-0.484782</td>\n",
              "      <td>0.411614</td>\n",
              "      <td>0.063119</td>\n",
              "      <td>-0.183699</td>\n",
              "      <td>-0.510602</td>\n",
              "      <td>1.329284</td>\n",
              "      <td>0.140716</td>\n",
              "      <td>0.313502</td>\n",
              "      <td>0.395652</td>\n",
              "      <td>-0.577252</td>\n",
              "      <td>0.001396</td>\n",
              "      <td>0.232045</td>\n",
              "      <td>0.578229</td>\n",
              "      <td>-0.037501</td>\n",
              "      <td>0.640134</td>\n",
              "      <td>0.265745</td>\n",
              "      <td>-0.087371</td>\n",
              "      <td>0.004455</td>\n",
              "      <td>-0.026561</td>\n",
              "      <td>67.880000</td>\n",
              "      <td>0</td>\n",
              "    </tr>\n",
              "    <tr>\n",
              "      <th>284805</th>\n",
              "      <td>-0.240440</td>\n",
              "      <td>0.530483</td>\n",
              "      <td>0.702510</td>\n",
              "      <td>0.689799</td>\n",
              "      <td>-0.377961</td>\n",
              "      <td>0.623708</td>\n",
              "      <td>-0.686180</td>\n",
              "      <td>0.679145</td>\n",
              "      <td>0.392087</td>\n",
              "      <td>-0.399126</td>\n",
              "      <td>-1.933849</td>\n",
              "      <td>-0.962886</td>\n",
              "      <td>-1.042082</td>\n",
              "      <td>0.449624</td>\n",
              "      <td>1.962563</td>\n",
              "      <td>-0.608577</td>\n",
              "      <td>0.509928</td>\n",
              "      <td>1.113981</td>\n",
              "      <td>2.897849</td>\n",
              "      <td>0.127434</td>\n",
              "      <td>0.265245</td>\n",
              "      <td>0.800049</td>\n",
              "      <td>-0.163298</td>\n",
              "      <td>0.123205</td>\n",
              "      <td>-0.569159</td>\n",
              "      <td>0.546668</td>\n",
              "      <td>0.108821</td>\n",
              "      <td>0.104533</td>\n",
              "      <td>10.000000</td>\n",
              "      <td>0</td>\n",
              "    </tr>\n",
              "    <tr>\n",
              "      <th>284806</th>\n",
              "      <td>-0.533413</td>\n",
              "      <td>-0.189733</td>\n",
              "      <td>0.703337</td>\n",
              "      <td>-0.506271</td>\n",
              "      <td>-0.012546</td>\n",
              "      <td>-0.649617</td>\n",
              "      <td>1.577006</td>\n",
              "      <td>-0.414650</td>\n",
              "      <td>0.486180</td>\n",
              "      <td>-0.915427</td>\n",
              "      <td>-1.040458</td>\n",
              "      <td>-0.031513</td>\n",
              "      <td>-0.188093</td>\n",
              "      <td>-0.084316</td>\n",
              "      <td>0.041333</td>\n",
              "      <td>-0.302620</td>\n",
              "      <td>-0.660377</td>\n",
              "      <td>0.167430</td>\n",
              "      <td>-0.256117</td>\n",
              "      <td>0.382948</td>\n",
              "      <td>0.261057</td>\n",
              "      <td>0.643078</td>\n",
              "      <td>0.376777</td>\n",
              "      <td>0.008797</td>\n",
              "      <td>-0.473649</td>\n",
              "      <td>-0.818267</td>\n",
              "      <td>-0.002415</td>\n",
              "      <td>0.013649</td>\n",
              "      <td>217.000000</td>\n",
              "      <td>0</td>\n",
              "    </tr>\n",
              "  </tbody>\n",
              "</table>\n",
              "<p>295023 rows × 30 columns</p>\n",
              "</div>"
            ],
            "text/plain": [
              "               V1         V2        V3  ...       V28      Amount  Class\n",
              "0       -0.109150   0.240125 -0.189470  ...  0.050094   -0.112072      1\n",
              "1       -0.119872   0.251408 -0.140016  ...  0.118216   -0.162776      1\n",
              "2       -0.362767   0.713791 -0.502891  ...  0.214237    0.190417      1\n",
              "3       -0.121165   0.188088 -0.114296  ...  0.095274   -0.194136      1\n",
              "4       -0.003316   0.067358 -0.178075  ...  0.169527    0.072747      1\n",
              "...           ...        ...       ...  ...       ...         ...    ...\n",
              "284802 -11.881118  10.071785 -9.834783  ...  0.823731    0.770000      0\n",
              "284803  -0.732789  -0.055080  2.035030  ... -0.053527   24.790000      0\n",
              "284804   1.919565  -0.301254 -3.249640  ... -0.026561   67.880000      0\n",
              "284805  -0.240440   0.530483  0.702510  ...  0.104533   10.000000      0\n",
              "284806  -0.533413  -0.189733  0.703337  ...  0.013649  217.000000      0\n",
              "\n",
              "[295023 rows x 30 columns]"
            ]
          },
          "metadata": {
            "tags": []
          },
          "execution_count": 13
        }
      ]
    },
    {
      "cell_type": "code",
      "metadata": {
        "id": "n3BmG1SMfM_9"
      },
      "source": [
        "from sklearn.utils import shuffle\n",
        "df = shuffle(result)"
      ],
      "execution_count": null,
      "outputs": []
    },
    {
      "cell_type": "code",
      "metadata": {
        "colab": {
          "base_uri": "https://localhost:8080/",
          "height": 439
        },
        "id": "Pcaj6yxvfPVf",
        "outputId": "c7db7561-a8c8-44a8-e0ce-8c498e165066"
      },
      "source": [
        "df"
      ],
      "execution_count": null,
      "outputs": [
        {
          "output_type": "execute_result",
          "data": {
            "text/html": [
              "<div>\n",
              "<style scoped>\n",
              "    .dataframe tbody tr th:only-of-type {\n",
              "        vertical-align: middle;\n",
              "    }\n",
              "\n",
              "    .dataframe tbody tr th {\n",
              "        vertical-align: top;\n",
              "    }\n",
              "\n",
              "    .dataframe thead th {\n",
              "        text-align: right;\n",
              "    }\n",
              "</style>\n",
              "<table border=\"1\" class=\"dataframe\">\n",
              "  <thead>\n",
              "    <tr style=\"text-align: right;\">\n",
              "      <th></th>\n",
              "      <th>V1</th>\n",
              "      <th>V2</th>\n",
              "      <th>V3</th>\n",
              "      <th>V4</th>\n",
              "      <th>V5</th>\n",
              "      <th>V6</th>\n",
              "      <th>V7</th>\n",
              "      <th>V8</th>\n",
              "      <th>V9</th>\n",
              "      <th>V10</th>\n",
              "      <th>V11</th>\n",
              "      <th>V12</th>\n",
              "      <th>V13</th>\n",
              "      <th>V14</th>\n",
              "      <th>V15</th>\n",
              "      <th>V16</th>\n",
              "      <th>V17</th>\n",
              "      <th>V18</th>\n",
              "      <th>V19</th>\n",
              "      <th>V20</th>\n",
              "      <th>V21</th>\n",
              "      <th>V22</th>\n",
              "      <th>V23</th>\n",
              "      <th>V24</th>\n",
              "      <th>V25</th>\n",
              "      <th>V26</th>\n",
              "      <th>V27</th>\n",
              "      <th>V28</th>\n",
              "      <th>Amount</th>\n",
              "      <th>Class</th>\n",
              "    </tr>\n",
              "  </thead>\n",
              "  <tbody>\n",
              "    <tr>\n",
              "      <th>155640</th>\n",
              "      <td>-0.490074</td>\n",
              "      <td>0.832284</td>\n",
              "      <td>2.407128</td>\n",
              "      <td>-0.107163</td>\n",
              "      <td>0.107209</td>\n",
              "      <td>-0.364697</td>\n",
              "      <td>0.529122</td>\n",
              "      <td>-0.273125</td>\n",
              "      <td>1.524056</td>\n",
              "      <td>-1.134382</td>\n",
              "      <td>0.257194</td>\n",
              "      <td>-2.632651</td>\n",
              "      <td>1.601971</td>\n",
              "      <td>1.261819</td>\n",
              "      <td>0.605592</td>\n",
              "      <td>-0.275616</td>\n",
              "      <td>0.304308</td>\n",
              "      <td>0.524400</td>\n",
              "      <td>0.538546</td>\n",
              "      <td>0.056059</td>\n",
              "      <td>-0.309753</td>\n",
              "      <td>-0.437271</td>\n",
              "      <td>-0.303276</td>\n",
              "      <td>-0.058697</td>\n",
              "      <td>0.261470</td>\n",
              "      <td>-0.730261</td>\n",
              "      <td>-0.080046</td>\n",
              "      <td>-0.145793</td>\n",
              "      <td>2.12</td>\n",
              "      <td>0</td>\n",
              "    </tr>\n",
              "    <tr>\n",
              "      <th>240337</th>\n",
              "      <td>-2.832424</td>\n",
              "      <td>2.774467</td>\n",
              "      <td>-2.397368</td>\n",
              "      <td>-1.601980</td>\n",
              "      <td>0.733365</td>\n",
              "      <td>-1.485898</td>\n",
              "      <td>1.185384</td>\n",
              "      <td>0.120572</td>\n",
              "      <td>1.358806</td>\n",
              "      <td>2.391087</td>\n",
              "      <td>-0.886418</td>\n",
              "      <td>0.106649</td>\n",
              "      <td>-0.110653</td>\n",
              "      <td>0.294915</td>\n",
              "      <td>0.059669</td>\n",
              "      <td>-0.719434</td>\n",
              "      <td>-0.348930</td>\n",
              "      <td>-0.539137</td>\n",
              "      <td>-0.432039</td>\n",
              "      <td>0.967250</td>\n",
              "      <td>-0.079892</td>\n",
              "      <td>0.641661</td>\n",
              "      <td>-0.091621</td>\n",
              "      <td>0.629106</td>\n",
              "      <td>0.261711</td>\n",
              "      <td>0.116817</td>\n",
              "      <td>1.334934</td>\n",
              "      <td>0.915646</td>\n",
              "      <td>7.72</td>\n",
              "      <td>0</td>\n",
              "    </tr>\n",
              "    <tr>\n",
              "      <th>122691</th>\n",
              "      <td>1.235426</td>\n",
              "      <td>0.319206</td>\n",
              "      <td>0.193790</td>\n",
              "      <td>0.496156</td>\n",
              "      <td>-0.118368</td>\n",
              "      <td>-0.548023</td>\n",
              "      <td>0.003383</td>\n",
              "      <td>-0.056942</td>\n",
              "      <td>-0.261363</td>\n",
              "      <td>-0.124789</td>\n",
              "      <td>1.398093</td>\n",
              "      <td>1.013509</td>\n",
              "      <td>0.575974</td>\n",
              "      <td>-0.185586</td>\n",
              "      <td>0.376755</td>\n",
              "      <td>0.754795</td>\n",
              "      <td>-0.398859</td>\n",
              "      <td>0.259158</td>\n",
              "      <td>0.214122</td>\n",
              "      <td>-0.032918</td>\n",
              "      <td>-0.252984</td>\n",
              "      <td>-0.748613</td>\n",
              "      <td>0.070327</td>\n",
              "      <td>-0.032142</td>\n",
              "      <td>0.242937</td>\n",
              "      <td>0.096300</td>\n",
              "      <td>-0.025041</td>\n",
              "      <td>0.018224</td>\n",
              "      <td>2.69</td>\n",
              "      <td>0</td>\n",
              "    </tr>\n",
              "    <tr>\n",
              "      <th>152604</th>\n",
              "      <td>1.881375</td>\n",
              "      <td>-0.422637</td>\n",
              "      <td>0.539867</td>\n",
              "      <td>0.588967</td>\n",
              "      <td>-1.206705</td>\n",
              "      <td>-0.453463</td>\n",
              "      <td>-1.020824</td>\n",
              "      <td>0.018897</td>\n",
              "      <td>2.285837</td>\n",
              "      <td>-0.239581</td>\n",
              "      <td>2.370203</td>\n",
              "      <td>-0.985323</td>\n",
              "      <td>2.215224</td>\n",
              "      <td>1.229032</td>\n",
              "      <td>-0.774236</td>\n",
              "      <td>0.638258</td>\n",
              "      <td>0.021270</td>\n",
              "      <td>0.539992</td>\n",
              "      <td>-0.443907</td>\n",
              "      <td>-0.178690</td>\n",
              "      <td>-0.017415</td>\n",
              "      <td>0.329210</td>\n",
              "      <td>0.376534</td>\n",
              "      <td>0.530744</td>\n",
              "      <td>-0.710551</td>\n",
              "      <td>0.385789</td>\n",
              "      <td>-0.039492</td>\n",
              "      <td>-0.046218</td>\n",
              "      <td>15.95</td>\n",
              "      <td>0</td>\n",
              "    </tr>\n",
              "    <tr>\n",
              "      <th>210841</th>\n",
              "      <td>-0.866687</td>\n",
              "      <td>0.682675</td>\n",
              "      <td>2.116940</td>\n",
              "      <td>-1.055242</td>\n",
              "      <td>0.164272</td>\n",
              "      <td>-0.283018</td>\n",
              "      <td>0.559034</td>\n",
              "      <td>0.158903</td>\n",
              "      <td>0.217426</td>\n",
              "      <td>-1.337696</td>\n",
              "      <td>-0.739167</td>\n",
              "      <td>-0.049292</td>\n",
              "      <td>-0.537425</td>\n",
              "      <td>-0.084617</td>\n",
              "      <td>0.169311</td>\n",
              "      <td>0.242206</td>\n",
              "      <td>-0.568819</td>\n",
              "      <td>-0.219043</td>\n",
              "      <td>-0.809586</td>\n",
              "      <td>-0.137075</td>\n",
              "      <td>-0.156534</td>\n",
              "      <td>-0.538171</td>\n",
              "      <td>-0.173874</td>\n",
              "      <td>1.026811</td>\n",
              "      <td>0.390416</td>\n",
              "      <td>-0.635134</td>\n",
              "      <td>0.036764</td>\n",
              "      <td>0.075256</td>\n",
              "      <td>10.00</td>\n",
              "      <td>0</td>\n",
              "    </tr>\n",
              "    <tr>\n",
              "      <th>...</th>\n",
              "      <td>...</td>\n",
              "      <td>...</td>\n",
              "      <td>...</td>\n",
              "      <td>...</td>\n",
              "      <td>...</td>\n",
              "      <td>...</td>\n",
              "      <td>...</td>\n",
              "      <td>...</td>\n",
              "      <td>...</td>\n",
              "      <td>...</td>\n",
              "      <td>...</td>\n",
              "      <td>...</td>\n",
              "      <td>...</td>\n",
              "      <td>...</td>\n",
              "      <td>...</td>\n",
              "      <td>...</td>\n",
              "      <td>...</td>\n",
              "      <td>...</td>\n",
              "      <td>...</td>\n",
              "      <td>...</td>\n",
              "      <td>...</td>\n",
              "      <td>...</td>\n",
              "      <td>...</td>\n",
              "      <td>...</td>\n",
              "      <td>...</td>\n",
              "      <td>...</td>\n",
              "      <td>...</td>\n",
              "      <td>...</td>\n",
              "      <td>...</td>\n",
              "      <td>...</td>\n",
              "    </tr>\n",
              "    <tr>\n",
              "      <th>76580</th>\n",
              "      <td>0.995852</td>\n",
              "      <td>-0.838740</td>\n",
              "      <td>0.572502</td>\n",
              "      <td>0.698207</td>\n",
              "      <td>-0.971400</td>\n",
              "      <td>0.328396</td>\n",
              "      <td>-0.558365</td>\n",
              "      <td>0.234107</td>\n",
              "      <td>-0.718486</td>\n",
              "      <td>0.807382</td>\n",
              "      <td>0.744020</td>\n",
              "      <td>0.295616</td>\n",
              "      <td>-1.129493</td>\n",
              "      <td>0.293515</td>\n",
              "      <td>-0.658134</td>\n",
              "      <td>-1.773260</td>\n",
              "      <td>0.276777</td>\n",
              "      <td>1.016577</td>\n",
              "      <td>-0.861256</td>\n",
              "      <td>-0.430744</td>\n",
              "      <td>-0.484910</td>\n",
              "      <td>-1.074207</td>\n",
              "      <td>0.044488</td>\n",
              "      <td>-0.062140</td>\n",
              "      <td>0.217005</td>\n",
              "      <td>-0.504432</td>\n",
              "      <td>0.045903</td>\n",
              "      <td>0.035647</td>\n",
              "      <td>121.50</td>\n",
              "      <td>0</td>\n",
              "    </tr>\n",
              "    <tr>\n",
              "      <th>25663</th>\n",
              "      <td>1.143119</td>\n",
              "      <td>-1.262769</td>\n",
              "      <td>0.347648</td>\n",
              "      <td>-1.862221</td>\n",
              "      <td>-1.606407</td>\n",
              "      <td>-1.041869</td>\n",
              "      <td>-0.499474</td>\n",
              "      <td>-0.266222</td>\n",
              "      <td>0.505258</td>\n",
              "      <td>-0.425970</td>\n",
              "      <td>-0.448175</td>\n",
              "      <td>0.860243</td>\n",
              "      <td>1.039291</td>\n",
              "      <td>-0.298885</td>\n",
              "      <td>0.896493</td>\n",
              "      <td>-2.188979</td>\n",
              "      <td>0.259869</td>\n",
              "      <td>1.149196</td>\n",
              "      <td>0.051057</td>\n",
              "      <td>-0.171011</td>\n",
              "      <td>-0.298084</td>\n",
              "      <td>-0.416984</td>\n",
              "      <td>-0.122111</td>\n",
              "      <td>0.442487</td>\n",
              "      <td>0.407319</td>\n",
              "      <td>-0.014352</td>\n",
              "      <td>0.029548</td>\n",
              "      <td>0.047321</td>\n",
              "      <td>141.33</td>\n",
              "      <td>0</td>\n",
              "    </tr>\n",
              "    <tr>\n",
              "      <th>42290</th>\n",
              "      <td>1.158373</td>\n",
              "      <td>0.082126</td>\n",
              "      <td>0.271423</td>\n",
              "      <td>1.205748</td>\n",
              "      <td>-0.032355</td>\n",
              "      <td>0.300665</td>\n",
              "      <td>-0.135810</td>\n",
              "      <td>0.225443</td>\n",
              "      <td>0.242427</td>\n",
              "      <td>0.084521</td>\n",
              "      <td>0.656715</td>\n",
              "      <td>0.449770</td>\n",
              "      <td>-1.400150</td>\n",
              "      <td>0.487866</td>\n",
              "      <td>-0.635208</td>\n",
              "      <td>-0.373696</td>\n",
              "      <td>-0.035904</td>\n",
              "      <td>-0.224957</td>\n",
              "      <td>0.056365</td>\n",
              "      <td>-0.263056</td>\n",
              "      <td>-0.090457</td>\n",
              "      <td>-0.102121</td>\n",
              "      <td>-0.093600</td>\n",
              "      <td>-0.321779</td>\n",
              "      <td>0.637692</td>\n",
              "      <td>-0.304954</td>\n",
              "      <td>0.028916</td>\n",
              "      <td>-0.001420</td>\n",
              "      <td>1.00</td>\n",
              "      <td>0</td>\n",
              "    </tr>\n",
              "    <tr>\n",
              "      <th>257361</th>\n",
              "      <td>1.915746</td>\n",
              "      <td>0.267366</td>\n",
              "      <td>-2.558263</td>\n",
              "      <td>1.308144</td>\n",
              "      <td>1.186565</td>\n",
              "      <td>-0.375476</td>\n",
              "      <td>0.599016</td>\n",
              "      <td>-0.146547</td>\n",
              "      <td>-0.042576</td>\n",
              "      <td>-0.203431</td>\n",
              "      <td>0.677997</td>\n",
              "      <td>0.317992</td>\n",
              "      <td>-0.733556</td>\n",
              "      <td>-0.724019</td>\n",
              "      <td>-0.936399</td>\n",
              "      <td>0.126578</td>\n",
              "      <td>0.617261</td>\n",
              "      <td>0.739419</td>\n",
              "      <td>0.012326</td>\n",
              "      <td>-0.121438</td>\n",
              "      <td>0.010415</td>\n",
              "      <td>0.061659</td>\n",
              "      <td>-0.099727</td>\n",
              "      <td>0.087547</td>\n",
              "      <td>0.475609</td>\n",
              "      <td>-0.516249</td>\n",
              "      <td>-0.018512</td>\n",
              "      <td>-0.028595</td>\n",
              "      <td>60.69</td>\n",
              "      <td>0</td>\n",
              "    </tr>\n",
              "    <tr>\n",
              "      <th>39242</th>\n",
              "      <td>-0.625481</td>\n",
              "      <td>1.358560</td>\n",
              "      <td>1.333081</td>\n",
              "      <td>2.898180</td>\n",
              "      <td>0.328167</td>\n",
              "      <td>0.688468</td>\n",
              "      <td>0.408813</td>\n",
              "      <td>0.416167</td>\n",
              "      <td>-1.767357</td>\n",
              "      <td>1.099689</td>\n",
              "      <td>0.182064</td>\n",
              "      <td>-0.036142</td>\n",
              "      <td>0.104414</td>\n",
              "      <td>0.257486</td>\n",
              "      <td>-0.619390</td>\n",
              "      <td>1.606659</td>\n",
              "      <td>-1.328156</td>\n",
              "      <td>0.632324</td>\n",
              "      <td>-0.945704</td>\n",
              "      <td>-0.183059</td>\n",
              "      <td>0.004166</td>\n",
              "      <td>-0.101067</td>\n",
              "      <td>0.128092</td>\n",
              "      <td>-0.427379</td>\n",
              "      <td>-0.447435</td>\n",
              "      <td>-0.251746</td>\n",
              "      <td>-0.338928</td>\n",
              "      <td>-0.273509</td>\n",
              "      <td>44.52</td>\n",
              "      <td>0</td>\n",
              "    </tr>\n",
              "  </tbody>\n",
              "</table>\n",
              "<p>295023 rows × 30 columns</p>\n",
              "</div>"
            ],
            "text/plain": [
              "              V1        V2        V3  ...       V28  Amount  Class\n",
              "155640 -0.490074  0.832284  2.407128  ... -0.145793    2.12      0\n",
              "240337 -2.832424  2.774467 -2.397368  ...  0.915646    7.72      0\n",
              "122691  1.235426  0.319206  0.193790  ...  0.018224    2.69      0\n",
              "152604  1.881375 -0.422637  0.539867  ... -0.046218   15.95      0\n",
              "210841 -0.866687  0.682675  2.116940  ...  0.075256   10.00      0\n",
              "...          ...       ...       ...  ...       ...     ...    ...\n",
              "76580   0.995852 -0.838740  0.572502  ...  0.035647  121.50      0\n",
              "25663   1.143119 -1.262769  0.347648  ...  0.047321  141.33      0\n",
              "42290   1.158373  0.082126  0.271423  ... -0.001420    1.00      0\n",
              "257361  1.915746  0.267366 -2.558263  ... -0.028595   60.69      0\n",
              "39242  -0.625481  1.358560  1.333081  ... -0.273509   44.52      0\n",
              "\n",
              "[295023 rows x 30 columns]"
            ]
          },
          "metadata": {
            "tags": []
          },
          "execution_count": 15
        }
      ]
    },
    {
      "cell_type": "code",
      "metadata": {
        "colab": {
          "base_uri": "https://localhost:8080/"
        },
        "id": "-8AumVWufTRo",
        "outputId": "0c88560c-96d4-491a-c17e-ec422838c94b"
      },
      "source": [
        "df['Class'].value_counts()"
      ],
      "execution_count": null,
      "outputs": [
        {
          "output_type": "execute_result",
          "data": {
            "text/plain": [
              "0    284315\n",
              "1     10708\n",
              "Name: Class, dtype: int64"
            ]
          },
          "metadata": {
            "tags": []
          },
          "execution_count": 16
        }
      ]
    },
    {
      "cell_type": "code",
      "metadata": {
        "id": "9z7CNS7WfZWT"
      },
      "source": [
        "A = df.drop('Class', axis=1)\n",
        "B = df['Class']"
      ],
      "execution_count": null,
      "outputs": []
    },
    {
      "cell_type": "code",
      "metadata": {
        "colab": {
          "base_uri": "https://localhost:8080/"
        },
        "id": "EPHbtqeZoktL",
        "outputId": "e7c0ea48-2b95-44c1-9b69-d44d8044a5b2"
      },
      "source": [
        "lr_GAN = LogisticRegression() \n",
        "lr_GAN.fit(A, B) \n",
        "prediction_GAN_lr = lr_GAN.predict(X_test)"
      ],
      "execution_count": null,
      "outputs": [
        {
          "output_type": "stream",
          "text": [
            "/usr/local/lib/python3.7/dist-packages/sklearn/linear_model/_logistic.py:940: ConvergenceWarning: lbfgs failed to converge (status=1):\n",
            "STOP: TOTAL NO. of ITERATIONS REACHED LIMIT.\n",
            "\n",
            "Increase the number of iterations (max_iter) or scale the data as shown in:\n",
            "    https://scikit-learn.org/stable/modules/preprocessing.html\n",
            "Please also refer to the documentation for alternative solver options:\n",
            "    https://scikit-learn.org/stable/modules/linear_model.html#logistic-regression\n",
            "  extra_warning_msg=_LOGISTIC_SOLVER_CONVERGENCE_MSG)\n"
          ],
          "name": "stderr"
        }
      ]
    },
    {
      "cell_type": "code",
      "metadata": {
        "id": "HfxXSm6rovbP"
      },
      "source": [
        "KNN_GAN = KNeighborsClassifier(n_neighbors=3) \n",
        "KNN_GAN.fit(A, B) \n",
        "prediction_GAN_KNN = KNN_GAN.predict(X_test)"
      ],
      "execution_count": null,
      "outputs": []
    },
    {
      "cell_type": "code",
      "metadata": {
        "id": "6C4CG0_hflJI"
      },
      "source": [
        "rf_GAN = RandomForestClassifier(n_estimators=20)\n",
        "rf_GAN.fit(A,B)\n",
        "\n",
        "prediction_GAN_rf = rf_GAN.predict(X_test)"
      ],
      "execution_count": null,
      "outputs": []
    },
    {
      "cell_type": "code",
      "metadata": {
        "colab": {
          "base_uri": "https://localhost:8080/"
        },
        "id": "iwuXrpnkbziQ",
        "outputId": "01df9d14-3d10-4025-880b-808c9b1296f5"
      },
      "source": [
        "generate_model_report(y_test, prediction_GAN_rf)"
      ],
      "execution_count": null,
      "outputs": [
        {
          "output_type": "stream",
          "text": [
            "Accuracy =  0.9999648888732839\n",
            "Precision =  1.0\n",
            "Recall =  0.9795918367346939\n",
            "F1 Score =  0.9896907216494846\n"
          ],
          "name": "stdout"
        }
      ]
    },
    {
      "cell_type": "code",
      "metadata": {
        "id": "sO4_5-iOgArW"
      },
      "source": [
        "bg_GAN = BaggingClassifier(DecisionTreeClassifier(), max_samples= 0.5, max_features= 1.0, n_estimators=20)\n",
        "bg_GAN.fit(A,B)\n",
        "\n",
        "prediction_GAN_bg = bg_GAN.predict(X_test)"
      ],
      "execution_count": null,
      "outputs": []
    },
    {
      "cell_type": "code",
      "metadata": {
        "colab": {
          "base_uri": "https://localhost:8080/"
        },
        "id": "Jy2Jr57GfyP4",
        "outputId": "961ba6f4-3bed-41cd-bb48-746f9ece09da"
      },
      "source": [
        "generate_model_report(y_test, prediction_GAN_bg)"
      ],
      "execution_count": null,
      "outputs": [
        {
          "output_type": "stream",
          "text": [
            "Accuracy =  0.9996605924417448\n",
            "Precision =  0.9758064516129032\n",
            "Recall =  0.8231292517006803\n",
            "F1 Score =  0.892988929889299\n"
          ],
          "name": "stdout"
        }
      ]
    },
    {
      "cell_type": "code",
      "metadata": {
        "colab": {
          "base_uri": "https://localhost:8080/"
        },
        "id": "P6x0ZeIGKx2r",
        "outputId": "3605e315-5833-4f43-cae7-00348b990907"
      },
      "source": [
        "evc_GAN = VotingClassifier( estimators= [('lr',lr),('dt',dt),('svm',svm)], voting= 'hard')\n",
        "evc_GAN.fit(A, B)\n",
        "\n",
        "prediction_evc_GAN = evc_GAN.predict(X_test)"
      ],
      "execution_count": null,
      "outputs": [
        {
          "output_type": "stream",
          "text": [
            "/usr/local/lib/python3.7/dist-packages/sklearn/linear_model/_logistic.py:940: ConvergenceWarning: lbfgs failed to converge (status=1):\n",
            "STOP: TOTAL NO. of ITERATIONS REACHED LIMIT.\n",
            "\n",
            "Increase the number of iterations (max_iter) or scale the data as shown in:\n",
            "    https://scikit-learn.org/stable/modules/preprocessing.html\n",
            "Please also refer to the documentation for alternative solver options:\n",
            "    https://scikit-learn.org/stable/modules/linear_model.html#logistic-regression\n",
            "  extra_warning_msg=_LOGISTIC_SOLVER_CONVERGENCE_MSG)\n"
          ],
          "name": "stderr"
        }
      ]
    },
    {
      "cell_type": "code",
      "metadata": {
        "colab": {
          "base_uri": "https://localhost:8080/",
          "height": 279
        },
        "id": "cUsjzvZ_h_wh",
        "outputId": "4f05bd53-c09e-4139-dff6-b4b5f04f2dbc"
      },
      "source": [
        "evc_fpr, evc_tpr, threshold = precision_recall_curve(y_test, prediction_evc)\n",
        "auc_evc = auc(evc_fpr, evc_tpr)\n",
        "\n",
        "evc_fpr_GAN, evc_tpr_GAN, threshold = precision_recall_curve(y_test, prediction_evc_SMOTE)\n",
        "auc_evc_GAN = auc(evc_fpr_GAN, evc_tpr_GAN)\n",
        "\n",
        "plt.plot(evc_fpr, evc_tpr, linestyle='-', label='EVC (auc = %0.3f)' % auc_evc)\n",
        "plt.plot(evc_fpr_GAN, evc_tpr_GAN, linestyle='-', label='BG_GAN (auc = %0.3f)' % auc_evc_GAN)\n",
        "plt.xlabel('Recall--->')\n",
        "plt.ylabel('Precision--->')\n",
        "\n",
        "plt.legend()\n",
        "\n",
        "plt.show()"
      ],
      "execution_count": null,
      "outputs": [
        {
          "output_type": "display_data",
          "data": {
            "image/png": "[encoded data removed]",
            "text/plain": [
              "<Figure size 432x288 with 1 Axes>"
            ]
          },
          "metadata": {
            "tags": []
          }
        }
      ]
    },
    {
      "cell_type": "code",
      "metadata": {
        "id": "duSKZMc-iGkA"
      },
      "source": [
        ""
      ],
      "execution_count": null,
      "outputs": []
    },
    {
      "cell_type": "code",
      "metadata": {
        "colab": {
          "base_uri": "https://localhost:8080/",
          "height": 279
        },
        "id": "Lp0EbnF7hVpH",
        "outputId": "5a061af1-ded9-40a2-82de-85f39da6f688"
      },
      "source": [
        "from sklearn.metrics import precision_recall_curve, auc\n",
        "#from sklearn.metrics import plot_precision_recall_curve\n",
        "\n",
        "RF_fpr_SMOTE, RF_tpr_SMOTE, threshold = precision_recall_curve(y_test, prediction_rf_SMOTE)\n",
        "auc_rf_SMOTE = auc(RF_fpr_SMOTE, RF_tpr_SMOTE)\n",
        "\n",
        "BG_fpr_SMOTE, BG_tpr_SMOTE, threshold = precision_recall_curve(y_test, prediction_bg_SMOTE)\n",
        "auc_bg_SMOTE = auc(BG_fpr_SMOTE, BG_tpr_SMOTE)\n",
        "\n",
        "RF_fpr_adasyn, RF_tpr_adasyn, threshold = precision_recall_curve(y_test, prediction_rf_ada)\n",
        "auc_rf_adasyn = auc(RF_fpr_adasyn, RF_tpr_adasyn)\n",
        "\n",
        "BG_fpr_adasyn, BG_tpr_adasyn, threshold = precision_recall_curve(y_test, prediction_bg_ada)\n",
        "auc_bg_adasyn = auc(BG_fpr_adasyn, BG_tpr_adasyn)\n",
        "\n",
        "RF_fpr, RF_tpr, threshold = precision_recall_curve(y_test, prediction_rf)\n",
        "auc_RF = auc(RF_fpr, RF_tpr)\n",
        "\n",
        "BG_fpr, BG_tpr, threshold = precision_recall_curve(y_test, prediction_bg)\n",
        "auc_BG = auc(BG_fpr, BG_tpr)\n",
        "\n",
        "\n",
        "#logistic_fpr_GAN_1L, logistic_tpr_GAN_1L, threshold = roc_curve(y_test, prediction_GAN_1L)\n",
        "#auc_logistic_GAN_1L = auc(logistic_fpr_GAN_1L, logistic_tpr_GAN_1L)\n",
        "\n",
        "RF_fpr_GAN, RF_tpr_GAN, threshold = precision_recall_curve(y_test, prediction_GAN_rf)\n",
        "auc_RF_GAN = auc(RF_fpr_GAN, RF_tpr_GAN)\n",
        "\n",
        "BG_fpr_GAN, BG_tpr_GAN, threshold = precision_recall_curve(y_test, prediction_GAN_bg)\n",
        "auc_BG_GAN = auc(BG_fpr_GAN, BG_tpr_GAN)\n",
        "\n",
        "plt.plot(RF_fpr_SMOTE, RF_tpr_SMOTE, linestyle='-', label='RF_SMOTE (auc = %0.3f)' % auc_rf_SMOTE)\n",
        "plt.plot(BG_fpr_SMOTE, BG_tpr_SMOTE, linestyle='-', label='BG_SMOTE (auc = %0.3f)' % auc_bg_SMOTE)\n",
        "plt.plot(RF_fpr_adasyn, RF_tpr_adasyn, linestyle='-', label='RF_adasyn (auc = %0.3f)' % auc_rf_adasyn)\n",
        "plt.plot(BG_fpr_adasyn, BG_tpr_adasyn, linestyle='-', label='BG_adasyn (auc = %0.3f)' % auc_bg_adasyn)\n",
        "#plt.plot(logistic_fpr_GAN_1L, logistic_tpr_GAN_1L, linestyle='-', label='logistic_GAN_1L (auc = %0.3f)' % auc_logistic_GAN_1L)\n",
        "plt.plot(RF_fpr, RF_tpr, linestyle='-', label='RF (auc = %0.3f)' % auc_RF)\n",
        "plt.plot(BG_fpr, BG_tpr, linestyle='-', label='BG (auc = %0.3f)' % auc_BG)\n",
        "plt.plot(RF_fpr_GAN, RF_tpr_GAN, linestyle='-', label='RF_GAN (auc = %0.3f)' % auc_RF_GAN)\n",
        "plt.plot(BG_fpr_GAN, BG_tpr_GAN, linestyle='-', label='BG_GAN (auc = %0.3f)' % auc_BG_GAN)\n",
        "plt.xlabel('Recall--->')\n",
        "plt.ylabel('Precision--->')\n",
        "\n",
        "plt.legend()\n",
        "\n",
        "plt.show()"
      ],
      "execution_count": null,
      "outputs": [
        {
          "output_type": "display_data",
          "data": {
            "image/png": "[encoded data removed]",
            "text/plain": [
              "<Figure size 432x288 with 1 Axes>"
            ]
          },
          "metadata": {
            "tags": []
          }
        }
      ]
    },
    {
      "cell_type": "code",
      "metadata": {
        "colab": {
          "base_uri": "https://localhost:8080/",
          "height": 279
        },
        "id": "3q_KS2UMquNz",
        "outputId": "e720c152-7248-4117-ea3a-1ffb08eb0173"
      },
      "source": [
        "from sklearn.metrics import precision_recall_curve, auc\n",
        "#from sklearn.metrics import plot_precision_recall_curve\n",
        "\n",
        "logistic_fpr, logistic_tpr, threshold = precision_recall_curve(y_test, prediction_lr)\n",
        "auc_logistic = auc(logistic_fpr, logistic_tpr)\n",
        "\n",
        "KNN_fpr, KNN_tpr, threshold = precision_recall_curve(y_test, prediction_KNN)\n",
        "auc_KNN = auc(KNN_fpr, KNN_tpr)\n",
        "\n",
        "logistic_fpr_SMOTE, logistic_tpr_SMOTE, threshold = precision_recall_curve(y_test, prediction_SMOTE_lr)\n",
        "auc_logistic_SMOTE = auc(logistic_fpr_SMOTE, logistic_tpr_SMOTE)\n",
        "\n",
        "KNN_fpr_SMOTE, KNN_tpr_SMOTE, threshold = precision_recall_curve(y_test, prediction_SMOTE_KNN)\n",
        "auc_KNN_SMOTE = auc(KNN_fpr_SMOTE, KNN_tpr_SMOTE)\n",
        "\n",
        "logistic_fpr_adasyn, logistic_tpr_adasyn, threshold = precision_recall_curve(y_test, prediction_ada_lr)\n",
        "auc_logistic_adasyn = auc(logistic_fpr_adasyn, logistic_tpr_adasyn)\n",
        "\n",
        "KNN_fpr_adasyn, KNN_tpr_adasyn, threshold = precision_recall_curve(y_test, prediction_ada_KNN)\n",
        "auc_KNN_adasyn = auc(KNN_fpr_adasyn, KNN_tpr_adasyn)\n",
        "\n",
        "logistic_fpr_GAN, logistic_tpr_GAN, threshold = precision_recall_curve(y_test, prediction_GAN_lr)\n",
        "auc_logistic_GAN = auc(logistic_fpr_GAN, logistic_tpr_GAN)\n",
        "\n",
        "KNN_fpr_GAN, KNN_tpr_GAN, threshold = precision_recall_curve(y_test, prediction_GAN_KNN)\n",
        "auc_KNN_GAN = auc(KNN_fpr_GAN, KNN_tpr_GAN)\n",
        "\n",
        "plt.plot(logistic_fpr, logistic_tpr, linestyle='-', label='logistic (auc = %0.3f)' % auc_logistic)\n",
        "plt.plot(KNN_fpr, KNN_tpr, linestyle='-', label='KNN (auc = %0.3f)' % auc_KNN)\n",
        "#plt.plot(logistic_fpr_GAN_1L, logistic_tpr_GAN_1L, linestyle='-', label='logistic_GAN_1L (auc = %0.3f)' % auc_logistic_GAN_1L)\n",
        "plt.plot(logistic_fpr_SMOTE, logistic_tpr_SMOTE, linestyle='-', label='logistic_SMOTE (auc = %0.3f)' % auc_logistic_SMOTE)\n",
        "plt.plot(KNN_fpr_SMOTE, KNN_tpr_SMOTE, linestyle='-', label='KNN_SMOTE (auc = %0.3f)' % auc_KNN_SMOTE)\n",
        "plt.plot(logistic_fpr_adasyn, logistic_tpr_adasyn, linestyle='-', label='logistic_adasyn (auc = %0.3f)' % auc_logistic_adasyn)\n",
        "plt.plot(KNN_fpr_adasyn, KNN_tpr_adasyn, linestyle='-', label='KNN_adasyn (auc = %0.3f)' % auc_KNN_adasyn)\n",
        "#plt.plot(logistic_fpr_GAN_1L, logistic_tpr_GAN_1L, linestyle='-', label='logistic_GAN_1L (auc = %0.3f)' % auc_logistic_GAN_1L)\n",
        "plt.plot(logistic_fpr_GAN, logistic_tpr_GAN, linestyle='-', label='logistic_GAN (auc = %0.3f)' % auc_logistic_GAN)\n",
        "plt.plot(KNN_fpr_GAN, KNN_tpr_GAN, linestyle='-', label='KNN_GAN (auc = %0.3f)' % auc_KNN_GAN)\n",
        "plt.xlabel('Recall--->')\n",
        "plt.ylabel('Precision--->')\n",
        "\n",
        "plt.legend()\n",
        "\n",
        "plt.show()"
      ],
      "execution_count": null,
      "outputs": [
        {
          "output_type": "display_data",
          "data": {
            "image/png": "[encoded data removed]",
            "text/plain": [
              "<Figure size 432x288 with 1 Axes>"
            ]
          },
          "metadata": {
            "tags": []
          }
        }
      ]
    },
    {
      "cell_type": "code",
      "metadata": {
        "colab": {
          "base_uri": "https://localhost:8080/",
          "height": 279
        },
        "id": "SlNyN_QEhlgN",
        "outputId": "0d9b18c2-ad7a-42c3-f81a-61139a7e2651"
      },
      "source": [
        "from sklearn.metrics import roc_curve, auc\n",
        "#from sklearn.metrics import plot_precision_recall_curve\n",
        "\n",
        "RF_fpr_SMOTE, RF_tpr_SMOTE, threshold = roc_curve(y_test, prediction_rf_SMOTE)\n",
        "auc_rf_SMOTE = auc(RF_fpr_SMOTE, RF_tpr_SMOTE)\n",
        "\n",
        "BG_fpr_SMOTE, BG_tpr_SMOTE, threshold = roc_curve(y_test, prediction_bg_SMOTE)\n",
        "auc_bg_SMOTE = auc(BG_fpr_SMOTE, BG_tpr_SMOTE)\n",
        "\n",
        "RF_fpr_adasyn, RF_tpr_adasyn, threshold = roc_curve(y_test, prediction_rf_ada)\n",
        "auc_rf_adasyn = auc(RF_fpr_adasyn, RF_tpr_adasyn)\n",
        "\n",
        "BG_fpr_adasyn, BG_tpr_adasyn, threshold = roc_curve(y_test, prediction_bg_ada)\n",
        "auc_bg_adasyn = auc(BG_fpr_adasyn, BG_tpr_adasyn)\n",
        "\n",
        "RF_fpr, RF_tpr, threshold = roc_curve(y_test, prediction_rf)\n",
        "auc_RF = auc(RF_fpr, RF_tpr)\n",
        "\n",
        "BG_fpr, BG_tpr, threshold = roc_curve(y_test, prediction_bg)\n",
        "auc_BG = auc(BG_fpr, BG_tpr)\n",
        "\n",
        "\n",
        "#logistic_fpr_GAN_1L, logistic_tpr_GAN_1L, threshold = roc_curve(y_test, prediction_GAN_1L)\n",
        "#auc_logistic_GAN_1L = auc(logistic_fpr_GAN_1L, logistic_tpr_GAN_1L)\n",
        "\n",
        "RF_fpr_GAN, RF_tpr_GAN, threshold = roc_curve(y_test, prediction_GAN_rf)\n",
        "auc_RF_GAN = auc(RF_fpr_GAN, RF_tpr_GAN)\n",
        "\n",
        "BG_fpr_GAN, BG_tpr_GAN, threshold = roc_curve(y_test, prediction_GAN_bg)\n",
        "auc_BG_GAN = auc(BG_fpr_GAN, BG_tpr_GAN)\n",
        "\n",
        "plt.plot(RF_fpr_SMOTE, RF_tpr_SMOTE, linestyle='-', label='RF_SMOTE (auc = %0.3f)' % auc_rf_SMOTE)\n",
        "plt.plot(BG_fpr_SMOTE, BG_tpr_SMOTE, linestyle='-', label='BG_SMOTE (auc = %0.3f)' % auc_bg_SMOTE)\n",
        "plt.plot(RF_fpr_adasyn, RF_tpr_adasyn, linestyle='-', label='RF_adasyn (auc = %0.3f)' % auc_rf_adasyn)\n",
        "plt.plot(BG_fpr_adasyn, BG_tpr_adasyn, linestyle='-', label='BG_adasyn (auc = %0.3f)' % auc_bg_adasyn)\n",
        "#plt.plot(logistic_fpr_GAN_1L, logistic_tpr_GAN_1L, linestyle='-', label='logistic_GAN_1L (auc = %0.3f)' % auc_logistic_GAN_1L)\n",
        "plt.plot(RF_fpr, RF_tpr, linestyle='-', label='RF (auc = %0.3f)' % auc_RF)\n",
        "plt.plot(BG_fpr, BG_tpr, linestyle='-', label='BG (auc = %0.3f)' % auc_BG)\n",
        "plt.plot(RF_fpr_GAN, RF_tpr_GAN, linestyle='-', label='RF_GAN (auc = %0.3f)' % auc_RF_GAN)\n",
        "plt.plot(BG_fpr_GAN, BG_tpr_GAN, linestyle='-', label='BG_GAN (auc = %0.3f)' % auc_BG_GAN)\n",
        "plt.xlabel('False Positive Rate--->')\n",
        "plt.ylabel('True Positive Rate--->')\n",
        "\n",
        "plt.legend()\n",
        "\n",
        "plt.show()"
      ],
      "execution_count": null,
      "outputs": [
        {
          "output_type": "display_data",
          "data": {
            "image/png": "[encoded data removed]",
            "text/plain": [
              "<Figure size 432x288 with 1 Axes>"
            ]
          },
          "metadata": {
            "tags": []
          }
        }
      ]
    },
    {
      "cell_type": "code",
      "metadata": {
        "colab": {
          "base_uri": "https://localhost:8080/",
          "height": 279
        },
        "id": "cIPKoaDTplQO",
        "outputId": "cb5f5a73-06e3-4fad-dee1-eb9ac813661a"
      },
      "source": [
        "from sklearn.metrics import roc_curve, auc\n",
        "\n",
        "logistic_fpr, logistic_tpr, threshold = roc_curve(y_test, prediction_lr)\n",
        "auc_logistic = auc(logistic_fpr, logistic_tpr)\n",
        "\n",
        "KNN_fpr, KNN_tpr, threshold = roc_curve(y_test, prediction_KNN)\n",
        "auc_KNN = auc(KNN_fpr, KNN_tpr)\n",
        "\n",
        "logistic_fpr_SMOTE, logistic_tpr_SMOTE, threshold = roc_curve(y_test, prediction_SMOTE_lr)\n",
        "auc_logistic_SMOTE = auc(logistic_fpr_SMOTE, logistic_tpr_SMOTE)\n",
        "\n",
        "KNN_fpr_SMOTE, KNN_tpr_SMOTE, threshold = roc_curve(y_test, prediction_SMOTE_KNN)\n",
        "auc_KNN_SMOTE = auc(KNN_fpr_SMOTE, KNN_tpr_SMOTE)\n",
        "\n",
        "logistic_fpr_adasyn, logistic_tpr_adasyn, threshold = roc_curve(y_test, prediction_ada_lr)\n",
        "auc_logistic_adasyn = auc(logistic_fpr_adasyn, logistic_tpr_adasyn)\n",
        "\n",
        "KNN_fpr_adasyn, KNN_tpr_adasyn, threshold = roc_curve(y_test, prediction_ada_KNN)\n",
        "auc_KNN_adasyn = auc(KNN_fpr_adasyn, KNN_tpr_adasyn)\n",
        "\n",
        "logistic_fpr_GAN, logistic_tpr_GAN, threshold = roc_curve(y_test, prediction_GAN_lr)\n",
        "auc_logistic_GAN = auc(logistic_fpr_GAN, logistic_tpr_GAN)\n",
        "\n",
        "KNN_fpr_GAN, KNN_tpr_GAN, threshold = roc_curve(y_test, prediction_GAN_KNN)\n",
        "auc_KNN_GAN = auc(KNN_fpr_GAN, KNN_tpr_GAN)\n",
        "\n",
        "plt.plot(logistic_fpr, logistic_tpr, linestyle='-', label='logistic (auc = %0.3f)' % auc_logistic)\n",
        "plt.plot(KNN_fpr, KNN_tpr, linestyle='-', label='KNN (auc = %0.3f)' % auc_KNN)\n",
        "#plt.plot(logistic_fpr_GAN_1L, logistic_tpr_GAN_1L, linestyle='-', label='logistic_GAN_1L (auc = %0.3f)' % auc_logistic_GAN_1L)\n",
        "plt.plot(logistic_fpr_SMOTE, logistic_tpr_SMOTE, linestyle='-', label='logistic_SMOTE (auc = %0.3f)' % auc_logistic_SMOTE)\n",
        "plt.plot(KNN_fpr_SMOTE, KNN_tpr_SMOTE, linestyle='-', label='KNN_SMOTE (auc = %0.3f)' % auc_KNN_SMOTE)\n",
        "plt.plot(logistic_fpr_adasyn, logistic_tpr_adasyn, linestyle='-', label='logistic_adasyn (auc = %0.3f)' % auc_logistic_adasyn)\n",
        "plt.plot(KNN_fpr_adasyn, KNN_tpr_adasyn, linestyle='-', label='KNN_adasyn (auc = %0.3f)' % auc_KNN_adasyn)\n",
        "#plt.plot(logistic_fpr_GAN_1L, logistic_tpr_GAN_1L, linestyle='-', label='logistic_GAN_1L (auc = %0.3f)' % auc_logistic_GAN_1L)\n",
        "plt.plot(logistic_fpr_GAN, logistic_tpr_GAN, linestyle='-', label='logistic_GAN (auc = %0.3f)' % auc_logistic_GAN)\n",
        "plt.plot(KNN_fpr_GAN, KNN_tpr_GAN, linestyle='-', label='KNN_GAN (auc = %0.3f)' % auc_KNN_GAN)\n",
        "plt.xlabel('False Positive Rate--->')\n",
        "plt.ylabel('True Positive Rate--->')\n",
        "\n",
        "plt.legend()\n",
        "\n",
        "plt.show()"
      ],
      "execution_count": null,
      "outputs": [
        {
          "output_type": "display_data",
          "data": {
            "image/png": "[encoded data removed]",
            "text/plain": [
              "<Figure size 432x288 with 1 Axes>"
            ]
          },
          "metadata": {
            "tags": []
          }
        }
      ]
    }
  ]
}