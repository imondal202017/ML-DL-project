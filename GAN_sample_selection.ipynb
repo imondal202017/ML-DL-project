{
  "nbformat": 4,
  "nbformat_minor": 0,
  "metadata": {
    "colab": {
      "name": "GAN sample selection.ipynb",
      "provenance": [],
      "authorship_tag": "ABX9TyO5oWVlDe2DgdRpuwjeuAWU",
      "include_colab_link": true
    },
    "kernelspec": {
      "name": "python3",
      "display_name": "Python 3"
    },
    "language_info": {
      "name": "python"
    }
  },
  "cells": [
    {
      "cell_type": "markdown",
      "metadata": {
        "id": "view-in-github",
        "colab_type": "text"
      },
      "source": [
        "<a href=\"https://colab.research.google.com/github/imondal202017/ML-DL-project/blob/main/GAN_sample_selection.ipynb\" target=\"_parent\"><img src=\"https://colab.research.google.com/assets/colab-badge.svg\" alt=\"Open In Colab\"/></a>"
      ]
    },
    {
      "cell_type": "code",
      "metadata": {
        "id": "cvOWf_3-n_Wg"
      },
      "source": [
        "import numpy as np\n",
        "import pandas as pd\n",
        "import matplotlib.pyplot as plt\n",
        "\n",
        "from sklearn.linear_model import LogisticRegression \n",
        "from sklearn.neighbors import KNeighborsClassifier\n",
        "from sklearn.tree import DecisionTreeClassifier\n",
        "\n",
        "from sklearn.metrics import roc_curve, auc\n",
        "from sklearn.metrics import precision_recall_curve, auc"
      ],
      "execution_count": null,
      "outputs": []
    },
    {
      "cell_type": "code",
      "metadata": {
        "colab": {
          "base_uri": "https://localhost:8080/"
        },
        "id": "7FjE1jy_owTf",
        "outputId": "edf4c091-e35b-46fc-a4cc-714744fcc4fd"
      },
      "source": [
        "from google.colab import drive\n",
        "drive.mount(\"/content/gdrive\")"
      ],
      "execution_count": null,
      "outputs": [
        {
          "output_type": "stream",
          "text": [
            "Mounted at /content/gdrive\n"
          ],
          "name": "stdout"
        }
      ]
    },
    {
      "cell_type": "code",
      "metadata": {
        "id": "ibCJ4kuDskDG"
      },
      "source": [
        "dataset = pd.read_csv(F\"/content/gdrive/My Drive/creditcard.csv\")"
      ],
      "execution_count": null,
      "outputs": []
    },
    {
      "cell_type": "code",
      "metadata": {
        "id": "Ps6hVlGVd0er"
      },
      "source": [
        "from sklearn.neighbors import KNeighborsClassifier"
      ],
      "execution_count": null,
      "outputs": []
    },
    {
      "cell_type": "code",
      "metadata": {
        "id": "iFhjKogussSN"
      },
      "source": [
        "from sklearn.ensemble import RandomForestClassifier, BaggingClassifier, VotingClassifier"
      ],
      "execution_count": null,
      "outputs": []
    },
    {
      "cell_type": "code",
      "metadata": {
        "id": "4BL3nni1tAmR"
      },
      "source": [
        "df_25k = pd.read_csv(F\"/content/gdrive/My Drive/Course project testing datasets/Gen_25k.csv\")"
      ],
      "execution_count": null,
      "outputs": []
    },
    {
      "cell_type": "code",
      "metadata": {
        "colab": {
          "base_uri": "https://localhost:8080/",
          "height": 444
        },
        "id": "uX5pPaf0kqHz",
        "outputId": "eeabfa59-c9a8-43b0-e30e-62f46739dbc3"
      },
      "source": [
        "df_25k"
      ],
      "execution_count": null,
      "outputs": [
        {
          "output_type": "execute_result",
          "data": {
            "text/html": [
              "<div>\n",
              "<style scoped>\n",
              "    .dataframe tbody tr th:only-of-type {\n",
              "        vertical-align: middle;\n",
              "    }\n",
              "\n",
              "    .dataframe tbody tr th {\n",
              "        vertical-align: top;\n",
              "    }\n",
              "\n",
              "    .dataframe thead th {\n",
              "        text-align: right;\n",
              "    }\n",
              "</style>\n",
              "<table border=\"1\" class=\"dataframe\">\n",
              "  <thead>\n",
              "    <tr style=\"text-align: right;\">\n",
              "      <th></th>\n",
              "      <th>V1</th>\n",
              "      <th>V2</th>\n",
              "      <th>V3</th>\n",
              "      <th>V4</th>\n",
              "      <th>V5</th>\n",
              "      <th>V6</th>\n",
              "      <th>V7</th>\n",
              "      <th>V8</th>\n",
              "      <th>V9</th>\n",
              "      <th>V10</th>\n",
              "      <th>V11</th>\n",
              "      <th>V12</th>\n",
              "      <th>V13</th>\n",
              "      <th>V14</th>\n",
              "      <th>V15</th>\n",
              "      <th>V16</th>\n",
              "      <th>V17</th>\n",
              "      <th>V18</th>\n",
              "      <th>V19</th>\n",
              "      <th>V20</th>\n",
              "      <th>V21</th>\n",
              "      <th>V22</th>\n",
              "      <th>V23</th>\n",
              "      <th>V24</th>\n",
              "      <th>V25</th>\n",
              "      <th>V26</th>\n",
              "      <th>V27</th>\n",
              "      <th>V28</th>\n",
              "      <th>Amount</th>\n",
              "      <th>Class</th>\n",
              "    </tr>\n",
              "  </thead>\n",
              "  <tbody>\n",
              "    <tr>\n",
              "      <th>0</th>\n",
              "      <td>-0.109150</td>\n",
              "      <td>0.240125</td>\n",
              "      <td>-0.189470</td>\n",
              "      <td>0.250111</td>\n",
              "      <td>-0.021955</td>\n",
              "      <td>-0.101137</td>\n",
              "      <td>-0.208111</td>\n",
              "      <td>0.148374</td>\n",
              "      <td>-0.299190</td>\n",
              "      <td>-0.485622</td>\n",
              "      <td>0.203578</td>\n",
              "      <td>-0.346439</td>\n",
              "      <td>-0.119928</td>\n",
              "      <td>-0.531557</td>\n",
              "      <td>-0.046789</td>\n",
              "      <td>-0.220834</td>\n",
              "      <td>-0.546204</td>\n",
              "      <td>-0.127089</td>\n",
              "      <td>-0.075881</td>\n",
              "      <td>0.023101</td>\n",
              "      <td>0.082730</td>\n",
              "      <td>-0.067394</td>\n",
              "      <td>-0.046766</td>\n",
              "      <td>-0.090622</td>\n",
              "      <td>0.079208</td>\n",
              "      <td>0.026661</td>\n",
              "      <td>0.105483</td>\n",
              "      <td>0.050094</td>\n",
              "      <td>-0.112072</td>\n",
              "      <td>1.0</td>\n",
              "    </tr>\n",
              "    <tr>\n",
              "      <th>1</th>\n",
              "      <td>-0.119872</td>\n",
              "      <td>0.251408</td>\n",
              "      <td>-0.140016</td>\n",
              "      <td>0.150052</td>\n",
              "      <td>-0.088338</td>\n",
              "      <td>-0.158808</td>\n",
              "      <td>-0.210718</td>\n",
              "      <td>0.127031</td>\n",
              "      <td>-0.305359</td>\n",
              "      <td>-0.533893</td>\n",
              "      <td>0.227047</td>\n",
              "      <td>-0.321106</td>\n",
              "      <td>0.025527</td>\n",
              "      <td>-0.460810</td>\n",
              "      <td>0.057471</td>\n",
              "      <td>-0.370056</td>\n",
              "      <td>-0.616272</td>\n",
              "      <td>-0.344370</td>\n",
              "      <td>0.051192</td>\n",
              "      <td>0.065509</td>\n",
              "      <td>0.069881</td>\n",
              "      <td>-0.019398</td>\n",
              "      <td>0.005966</td>\n",
              "      <td>0.004219</td>\n",
              "      <td>-0.069417</td>\n",
              "      <td>0.058065</td>\n",
              "      <td>0.147044</td>\n",
              "      <td>0.118216</td>\n",
              "      <td>-0.162776</td>\n",
              "      <td>1.0</td>\n",
              "    </tr>\n",
              "    <tr>\n",
              "      <th>2</th>\n",
              "      <td>-0.362767</td>\n",
              "      <td>0.713791</td>\n",
              "      <td>-0.502891</td>\n",
              "      <td>0.550096</td>\n",
              "      <td>-0.562912</td>\n",
              "      <td>-0.173860</td>\n",
              "      <td>-0.905334</td>\n",
              "      <td>0.699555</td>\n",
              "      <td>-0.998186</td>\n",
              "      <td>-1.460049</td>\n",
              "      <td>0.446928</td>\n",
              "      <td>-0.682757</td>\n",
              "      <td>0.275978</td>\n",
              "      <td>-0.870967</td>\n",
              "      <td>0.111657</td>\n",
              "      <td>-0.948673</td>\n",
              "      <td>-1.999559</td>\n",
              "      <td>-0.936494</td>\n",
              "      <td>0.479325</td>\n",
              "      <td>-0.009367</td>\n",
              "      <td>0.282052</td>\n",
              "      <td>-0.179327</td>\n",
              "      <td>-0.050537</td>\n",
              "      <td>-0.025652</td>\n",
              "      <td>-0.109952</td>\n",
              "      <td>-0.152449</td>\n",
              "      <td>-0.034316</td>\n",
              "      <td>0.214237</td>\n",
              "      <td>0.190417</td>\n",
              "      <td>1.0</td>\n",
              "    </tr>\n",
              "    <tr>\n",
              "      <th>3</th>\n",
              "      <td>-0.121165</td>\n",
              "      <td>0.188088</td>\n",
              "      <td>-0.114296</td>\n",
              "      <td>0.112318</td>\n",
              "      <td>-0.093363</td>\n",
              "      <td>-0.164083</td>\n",
              "      <td>-0.156647</td>\n",
              "      <td>0.111453</td>\n",
              "      <td>-0.208516</td>\n",
              "      <td>-0.474703</td>\n",
              "      <td>0.245990</td>\n",
              "      <td>-0.286180</td>\n",
              "      <td>-0.010551</td>\n",
              "      <td>-0.404083</td>\n",
              "      <td>0.100256</td>\n",
              "      <td>-0.354439</td>\n",
              "      <td>-0.495291</td>\n",
              "      <td>-0.303271</td>\n",
              "      <td>-0.018095</td>\n",
              "      <td>0.026235</td>\n",
              "      <td>0.085842</td>\n",
              "      <td>0.023494</td>\n",
              "      <td>0.004144</td>\n",
              "      <td>0.078357</td>\n",
              "      <td>-0.053273</td>\n",
              "      <td>0.082877</td>\n",
              "      <td>0.107443</td>\n",
              "      <td>0.095274</td>\n",
              "      <td>-0.194136</td>\n",
              "      <td>1.0</td>\n",
              "    </tr>\n",
              "    <tr>\n",
              "      <th>4</th>\n",
              "      <td>-0.003316</td>\n",
              "      <td>0.067358</td>\n",
              "      <td>-0.178075</td>\n",
              "      <td>0.223723</td>\n",
              "      <td>-0.156318</td>\n",
              "      <td>-0.131703</td>\n",
              "      <td>-0.264958</td>\n",
              "      <td>0.065245</td>\n",
              "      <td>-0.118713</td>\n",
              "      <td>-0.506403</td>\n",
              "      <td>0.439589</td>\n",
              "      <td>-0.362929</td>\n",
              "      <td>-0.245319</td>\n",
              "      <td>-0.546209</td>\n",
              "      <td>0.044554</td>\n",
              "      <td>-0.314615</td>\n",
              "      <td>-0.711670</td>\n",
              "      <td>-0.133855</td>\n",
              "      <td>0.051776</td>\n",
              "      <td>0.113589</td>\n",
              "      <td>0.116119</td>\n",
              "      <td>-0.015188</td>\n",
              "      <td>-0.035281</td>\n",
              "      <td>0.040048</td>\n",
              "      <td>0.172794</td>\n",
              "      <td>-0.108122</td>\n",
              "      <td>0.219027</td>\n",
              "      <td>0.169527</td>\n",
              "      <td>0.072747</td>\n",
              "      <td>1.0</td>\n",
              "    </tr>\n",
              "    <tr>\n",
              "      <th>...</th>\n",
              "      <td>...</td>\n",
              "      <td>...</td>\n",
              "      <td>...</td>\n",
              "      <td>...</td>\n",
              "      <td>...</td>\n",
              "      <td>...</td>\n",
              "      <td>...</td>\n",
              "      <td>...</td>\n",
              "      <td>...</td>\n",
              "      <td>...</td>\n",
              "      <td>...</td>\n",
              "      <td>...</td>\n",
              "      <td>...</td>\n",
              "      <td>...</td>\n",
              "      <td>...</td>\n",
              "      <td>...</td>\n",
              "      <td>...</td>\n",
              "      <td>...</td>\n",
              "      <td>...</td>\n",
              "      <td>...</td>\n",
              "      <td>...</td>\n",
              "      <td>...</td>\n",
              "      <td>...</td>\n",
              "      <td>...</td>\n",
              "      <td>...</td>\n",
              "      <td>...</td>\n",
              "      <td>...</td>\n",
              "      <td>...</td>\n",
              "      <td>...</td>\n",
              "      <td>...</td>\n",
              "    </tr>\n",
              "    <tr>\n",
              "      <th>24994</th>\n",
              "      <td>-0.077268</td>\n",
              "      <td>0.200516</td>\n",
              "      <td>-0.189551</td>\n",
              "      <td>0.223934</td>\n",
              "      <td>-0.095534</td>\n",
              "      <td>-0.104028</td>\n",
              "      <td>-0.190862</td>\n",
              "      <td>0.113407</td>\n",
              "      <td>-0.241806</td>\n",
              "      <td>-0.498349</td>\n",
              "      <td>0.278069</td>\n",
              "      <td>-0.370855</td>\n",
              "      <td>-0.110535</td>\n",
              "      <td>-0.558634</td>\n",
              "      <td>0.046574</td>\n",
              "      <td>-0.270627</td>\n",
              "      <td>-0.648882</td>\n",
              "      <td>-0.150411</td>\n",
              "      <td>0.067989</td>\n",
              "      <td>0.074365</td>\n",
              "      <td>0.091710</td>\n",
              "      <td>-0.044643</td>\n",
              "      <td>-0.037005</td>\n",
              "      <td>-0.081107</td>\n",
              "      <td>0.064790</td>\n",
              "      <td>0.010831</td>\n",
              "      <td>0.147970</td>\n",
              "      <td>0.127376</td>\n",
              "      <td>0.048777</td>\n",
              "      <td>1.0</td>\n",
              "    </tr>\n",
              "    <tr>\n",
              "      <th>24995</th>\n",
              "      <td>-0.104518</td>\n",
              "      <td>0.231579</td>\n",
              "      <td>-0.193284</td>\n",
              "      <td>0.280575</td>\n",
              "      <td>-0.028214</td>\n",
              "      <td>-0.088680</td>\n",
              "      <td>-0.242837</td>\n",
              "      <td>0.172009</td>\n",
              "      <td>-0.326935</td>\n",
              "      <td>-0.525291</td>\n",
              "      <td>0.251111</td>\n",
              "      <td>-0.361354</td>\n",
              "      <td>-0.141573</td>\n",
              "      <td>-0.583713</td>\n",
              "      <td>-0.120201</td>\n",
              "      <td>-0.237047</td>\n",
              "      <td>-0.612680</td>\n",
              "      <td>-0.136864</td>\n",
              "      <td>-0.096267</td>\n",
              "      <td>0.023229</td>\n",
              "      <td>0.077448</td>\n",
              "      <td>-0.061976</td>\n",
              "      <td>-0.040212</td>\n",
              "      <td>-0.080977</td>\n",
              "      <td>0.112011</td>\n",
              "      <td>0.021656</td>\n",
              "      <td>0.125577</td>\n",
              "      <td>0.041958</td>\n",
              "      <td>-0.124745</td>\n",
              "      <td>1.0</td>\n",
              "    </tr>\n",
              "    <tr>\n",
              "      <th>24996</th>\n",
              "      <td>-0.073311</td>\n",
              "      <td>0.186409</td>\n",
              "      <td>-0.137399</td>\n",
              "      <td>0.164366</td>\n",
              "      <td>-0.054022</td>\n",
              "      <td>-0.102623</td>\n",
              "      <td>-0.133449</td>\n",
              "      <td>0.077707</td>\n",
              "      <td>-0.195955</td>\n",
              "      <td>-0.377198</td>\n",
              "      <td>0.173489</td>\n",
              "      <td>-0.300728</td>\n",
              "      <td>-0.078201</td>\n",
              "      <td>-0.407496</td>\n",
              "      <td>0.086751</td>\n",
              "      <td>-0.240034</td>\n",
              "      <td>-0.476805</td>\n",
              "      <td>-0.151918</td>\n",
              "      <td>0.003595</td>\n",
              "      <td>0.030681</td>\n",
              "      <td>0.072910</td>\n",
              "      <td>-0.030541</td>\n",
              "      <td>-0.032041</td>\n",
              "      <td>-0.034217</td>\n",
              "      <td>0.034137</td>\n",
              "      <td>0.024866</td>\n",
              "      <td>0.082662</td>\n",
              "      <td>0.071711</td>\n",
              "      <td>-0.075651</td>\n",
              "      <td>1.0</td>\n",
              "    </tr>\n",
              "    <tr>\n",
              "      <th>24997</th>\n",
              "      <td>-0.089446</td>\n",
              "      <td>0.258891</td>\n",
              "      <td>-0.199537</td>\n",
              "      <td>0.224261</td>\n",
              "      <td>0.029250</td>\n",
              "      <td>-0.141321</td>\n",
              "      <td>-0.118954</td>\n",
              "      <td>0.073742</td>\n",
              "      <td>-0.314702</td>\n",
              "      <td>-0.489145</td>\n",
              "      <td>0.187842</td>\n",
              "      <td>-0.348301</td>\n",
              "      <td>-0.054767</td>\n",
              "      <td>-0.558105</td>\n",
              "      <td>0.029122</td>\n",
              "      <td>-0.150760</td>\n",
              "      <td>-0.389067</td>\n",
              "      <td>-0.067650</td>\n",
              "      <td>-0.073766</td>\n",
              "      <td>0.039091</td>\n",
              "      <td>0.051989</td>\n",
              "      <td>-0.075111</td>\n",
              "      <td>-0.044678</td>\n",
              "      <td>-0.090625</td>\n",
              "      <td>0.060060</td>\n",
              "      <td>0.024304</td>\n",
              "      <td>0.094534</td>\n",
              "      <td>0.095225</td>\n",
              "      <td>-0.096555</td>\n",
              "      <td>1.0</td>\n",
              "    </tr>\n",
              "    <tr>\n",
              "      <th>24998</th>\n",
              "      <td>-0.113764</td>\n",
              "      <td>0.207711</td>\n",
              "      <td>-0.217898</td>\n",
              "      <td>0.253680</td>\n",
              "      <td>-0.010175</td>\n",
              "      <td>-0.116309</td>\n",
              "      <td>-0.181098</td>\n",
              "      <td>0.139722</td>\n",
              "      <td>-0.291958</td>\n",
              "      <td>-0.509433</td>\n",
              "      <td>0.332046</td>\n",
              "      <td>-0.321556</td>\n",
              "      <td>-0.082879</td>\n",
              "      <td>-0.532612</td>\n",
              "      <td>-0.185445</td>\n",
              "      <td>-0.237582</td>\n",
              "      <td>-0.473736</td>\n",
              "      <td>-0.104387</td>\n",
              "      <td>-0.145959</td>\n",
              "      <td>0.012050</td>\n",
              "      <td>0.065303</td>\n",
              "      <td>-0.025591</td>\n",
              "      <td>-0.054017</td>\n",
              "      <td>-0.023353</td>\n",
              "      <td>0.115524</td>\n",
              "      <td>0.032732</td>\n",
              "      <td>0.124634</td>\n",
              "      <td>0.006585</td>\n",
              "      <td>-0.145466</td>\n",
              "      <td>1.0</td>\n",
              "    </tr>\n",
              "  </tbody>\n",
              "</table>\n",
              "<p>24999 rows × 30 columns</p>\n",
              "</div>"
            ],
            "text/plain": [
              "             V1        V2        V3  ...       V28    Amount  Class\n",
              "0     -0.109150  0.240125 -0.189470  ...  0.050094 -0.112072    1.0\n",
              "1     -0.119872  0.251408 -0.140016  ...  0.118216 -0.162776    1.0\n",
              "2     -0.362767  0.713791 -0.502891  ...  0.214237  0.190417    1.0\n",
              "3     -0.121165  0.188088 -0.114296  ...  0.095274 -0.194136    1.0\n",
              "4     -0.003316  0.067358 -0.178075  ...  0.169527  0.072747    1.0\n",
              "...         ...       ...       ...  ...       ...       ...    ...\n",
              "24994 -0.077268  0.200516 -0.189551  ...  0.127376  0.048777    1.0\n",
              "24995 -0.104518  0.231579 -0.193284  ...  0.041958 -0.124745    1.0\n",
              "24996 -0.073311  0.186409 -0.137399  ...  0.071711 -0.075651    1.0\n",
              "24997 -0.089446  0.258891 -0.199537  ...  0.095225 -0.096555    1.0\n",
              "24998 -0.113764  0.207711 -0.217898  ...  0.006585 -0.145466    1.0\n",
              "\n",
              "[24999 rows x 30 columns]"
            ]
          },
          "metadata": {
            "tags": []
          },
          "execution_count": 71
        }
      ]
    },
    {
      "cell_type": "code",
      "metadata": {
        "id": "bLmj6sKNmNvv"
      },
      "source": [
        "df_25k = df_25k.iloc[:-286]"
      ],
      "execution_count": null,
      "outputs": []
    },
    {
      "cell_type": "code",
      "metadata": {
        "id": "_elE3Qk_tNsR"
      },
      "source": [
        "df_2k = pd.read_csv(F\"/content/gdrive/My Drive/Course project testing datasets/Gen_2k.csv\")"
      ],
      "execution_count": null,
      "outputs": []
    },
    {
      "cell_type": "code",
      "metadata": {
        "id": "y-Q1KhJutmus"
      },
      "source": [
        "df_5k = pd.read_csv(F\"/content/gdrive/My Drive/Course project testing datasets/Gen_5k.csv\")"
      ],
      "execution_count": null,
      "outputs": []
    },
    {
      "cell_type": "code",
      "metadata": {
        "id": "SD54VS06tys5"
      },
      "source": [
        "df_10k = pd.read_csv(F\"/content/gdrive/My Drive/Course project testing datasets/Gen_10k.csv\")"
      ],
      "execution_count": null,
      "outputs": []
    },
    {
      "cell_type": "code",
      "metadata": {
        "id": "pZchrHZtt5XH"
      },
      "source": [
        "df_50k = pd.read_csv(F\"/content/gdrive/My Drive/Course project testing datasets/Gen_50k.csv\")"
      ],
      "execution_count": null,
      "outputs": []
    },
    {
      "cell_type": "code",
      "metadata": {
        "id": "EcvGA_xft_lk"
      },
      "source": [
        "df_100k = pd.read_csv(F\"/content/gdrive/My Drive/Course project testing datasets/Gen_100k.csv\")"
      ],
      "execution_count": null,
      "outputs": []
    },
    {
      "cell_type": "code",
      "metadata": {
        "id": "Ck-xTd3VuGBp"
      },
      "source": [
        "df_200k = pd.read_csv(F\"/content/gdrive/My Drive/Course project testing datasets/Gen_200k.csv\")"
      ],
      "execution_count": null,
      "outputs": []
    },
    {
      "cell_type": "code",
      "metadata": {
        "id": "mikFrYiWua89"
      },
      "source": [
        "frames = [df_2k, dataset]\n",
        "result_2k = pd.concat(frames)"
      ],
      "execution_count": null,
      "outputs": []
    },
    {
      "cell_type": "code",
      "metadata": {
        "colab": {
          "base_uri": "https://localhost:8080/"
        },
        "id": "XT0O2UhjlDPu",
        "outputId": "6d64e08f-8d17-4c60-a874-1f00c6d35d25"
      },
      "source": [
        "result_2k.shape"
      ],
      "execution_count": null,
      "outputs": [
        {
          "output_type": "execute_result",
          "data": {
            "text/plain": [
              "(286822, 30)"
            ]
          },
          "metadata": {
            "tags": []
          },
          "execution_count": 61
        }
      ]
    },
    {
      "cell_type": "code",
      "metadata": {
        "id": "hqKYpfc5uvgv"
      },
      "source": [
        "from sklearn.utils import shuffle\n",
        "df_2k = shuffle(result_2k)"
      ],
      "execution_count": null,
      "outputs": []
    },
    {
      "cell_type": "code",
      "metadata": {
        "id": "vImLeKsYu_Q3"
      },
      "source": [
        "frames = [df_5k, dataset]\n",
        "result_5k = pd.concat(frames)"
      ],
      "execution_count": null,
      "outputs": []
    },
    {
      "cell_type": "code",
      "metadata": {
        "colab": {
          "base_uri": "https://localhost:8080/"
        },
        "id": "zi3PSjnIlNKQ",
        "outputId": "da2100c0-4b73-498e-c509-5645198fa62f"
      },
      "source": [
        "result_5k.shape"
      ],
      "execution_count": null,
      "outputs": [
        {
          "output_type": "execute_result",
          "data": {
            "text/plain": [
              "(290040, 30)"
            ]
          },
          "metadata": {
            "tags": []
          },
          "execution_count": 62
        }
      ]
    },
    {
      "cell_type": "code",
      "metadata": {
        "id": "WMqHpjMsvQ5O"
      },
      "source": [
        "from sklearn.utils import shuffle\n",
        "df_5k = shuffle(result_5k)"
      ],
      "execution_count": null,
      "outputs": []
    },
    {
      "cell_type": "code",
      "metadata": {
        "id": "eMyHy-GsvZVY"
      },
      "source": [
        "frames = [df_10k, dataset]\n",
        "result_10k = pd.concat(frames)"
      ],
      "execution_count": null,
      "outputs": []
    },
    {
      "cell_type": "code",
      "metadata": {
        "colab": {
          "base_uri": "https://localhost:8080/"
        },
        "id": "ioHt1De0lTWe",
        "outputId": "3e8d996c-1463-4557-9fdd-34bf6fb13412"
      },
      "source": [
        "result_10k.shape"
      ],
      "execution_count": null,
      "outputs": [
        {
          "output_type": "execute_result",
          "data": {
            "text/plain": [
              "(295023, 30)"
            ]
          },
          "metadata": {
            "tags": []
          },
          "execution_count": 63
        }
      ]
    },
    {
      "cell_type": "code",
      "metadata": {
        "id": "RMkVmMqevjjJ"
      },
      "source": [
        "frames = [df_25k, dataset]\n",
        "result_25k = pd.concat(frames)"
      ],
      "execution_count": null,
      "outputs": []
    },
    {
      "cell_type": "code",
      "metadata": {
        "colab": {
          "base_uri": "https://localhost:8080/"
        },
        "id": "o53-p16llYyT",
        "outputId": "0f63a340-233e-4f9a-8e0e-e4d49963aa29"
      },
      "source": [
        "result_25k.shape"
      ],
      "execution_count": null,
      "outputs": [
        {
          "output_type": "execute_result",
          "data": {
            "text/plain": [
              "(309806, 30)"
            ]
          },
          "metadata": {
            "tags": []
          },
          "execution_count": 78
        }
      ]
    },
    {
      "cell_type": "code",
      "metadata": {
        "id": "TmH3v2lsvx5K"
      },
      "source": [
        "frames = [df_50k, dataset]\n",
        "result_50k = pd.concat(frames)"
      ],
      "execution_count": null,
      "outputs": []
    },
    {
      "cell_type": "code",
      "metadata": {
        "colab": {
          "base_uri": "https://localhost:8080/"
        },
        "id": "M502I4pilgXc",
        "outputId": "162d41ad-4c28-4bef-e4fc-a2b703e420f2"
      },
      "source": [
        "result_50k.shape"
      ],
      "execution_count": null,
      "outputs": [
        {
          "output_type": "execute_result",
          "data": {
            "text/plain": [
              "(334807, 30)"
            ]
          },
          "metadata": {
            "tags": []
          },
          "execution_count": 65
        }
      ]
    },
    {
      "cell_type": "code",
      "metadata": {
        "id": "2g6Iz05-vxSo"
      },
      "source": [
        "frames = [df_100k, dataset]\n",
        "result_100k = pd.concat(frames)"
      ],
      "execution_count": null,
      "outputs": []
    },
    {
      "cell_type": "code",
      "metadata": {
        "colab": {
          "base_uri": "https://localhost:8080/"
        },
        "id": "JPiWa55rlnPv",
        "outputId": "344b0cac-d1f1-44df-d19c-cc64d63cc4a2"
      },
      "source": [
        "result_100k.shape"
      ],
      "execution_count": null,
      "outputs": [
        {
          "output_type": "execute_result",
          "data": {
            "text/plain": [
              "(384807, 30)"
            ]
          },
          "metadata": {
            "tags": []
          },
          "execution_count": 66
        }
      ]
    },
    {
      "cell_type": "code",
      "metadata": {
        "id": "gSCyXM7swhxY"
      },
      "source": [
        "frames = [df_200k, dataset]\n",
        "result_200k = pd.concat(frames)"
      ],
      "execution_count": null,
      "outputs": []
    },
    {
      "cell_type": "code",
      "metadata": {
        "colab": {
          "base_uri": "https://localhost:8080/"
        },
        "id": "KRf1xv9tlryI",
        "outputId": "3d882006-9df4-48f8-8192-f0eaf008dac6"
      },
      "source": [
        "result_200k.shape"
      ],
      "execution_count": null,
      "outputs": [
        {
          "output_type": "execute_result",
          "data": {
            "text/plain": [
              "(484807, 30)"
            ]
          },
          "metadata": {
            "tags": []
          },
          "execution_count": 67
        }
      ]
    },
    {
      "cell_type": "code",
      "metadata": {
        "id": "f4c4nNYYxAta"
      },
      "source": [
        "from sklearn.utils import shuffle\n",
        "df_10k = shuffle(result_10k)"
      ],
      "execution_count": null,
      "outputs": []
    },
    {
      "cell_type": "code",
      "metadata": {
        "id": "8RZzhhIhxVXN"
      },
      "source": [
        "from sklearn.utils import shuffle\n",
        "df_25k = shuffle(result_25k)"
      ],
      "execution_count": null,
      "outputs": []
    },
    {
      "cell_type": "code",
      "metadata": {
        "id": "czVoJIPwxdIo"
      },
      "source": [
        "from sklearn.utils import shuffle\n",
        "df_50k = shuffle(result_50k)"
      ],
      "execution_count": null,
      "outputs": []
    },
    {
      "cell_type": "code",
      "metadata": {
        "id": "leulG1Hpxmz2"
      },
      "source": [
        "from sklearn.utils import shuffle\n",
        "df_100k = shuffle(result_100k)"
      ],
      "execution_count": null,
      "outputs": []
    },
    {
      "cell_type": "code",
      "metadata": {
        "id": "v6ohEfW4xsMe"
      },
      "source": [
        "from sklearn.utils import shuffle\n",
        "df_200k = shuffle(result_200k)"
      ],
      "execution_count": null,
      "outputs": []
    },
    {
      "cell_type": "code",
      "metadata": {
        "id": "v-tPZVtQx7Yw"
      },
      "source": [
        "df_25k = df_25k.iloc[:-286]"
      ],
      "execution_count": null,
      "outputs": []
    },
    {
      "cell_type": "code",
      "metadata": {
        "id": "7DfgfVfUym-i"
      },
      "source": [
        "A_2k = df_2k.drop('Class', axis=1)\n",
        "B_2k = df_2k['Class']"
      ],
      "execution_count": null,
      "outputs": []
    },
    {
      "cell_type": "code",
      "metadata": {
        "colab": {
          "base_uri": "https://localhost:8080/"
        },
        "id": "f0Rt57k_p0Zm",
        "outputId": "60baca38-7029-4890-a67d-7f0718bef9e3"
      },
      "source": [
        "A_2k.shape"
      ],
      "execution_count": null,
      "outputs": [
        {
          "output_type": "execute_result",
          "data": {
            "text/plain": [
              "(286822, 29)"
            ]
          },
          "metadata": {
            "tags": []
          },
          "execution_count": 81
        }
      ]
    },
    {
      "cell_type": "code",
      "metadata": {
        "id": "LSQ3XWVFy00h"
      },
      "source": [
        "A_5k = df_5k.drop('Class', axis=1)\n",
        "B_5k = df_5k['Class']"
      ],
      "execution_count": null,
      "outputs": []
    },
    {
      "cell_type": "code",
      "metadata": {
        "colab": {
          "base_uri": "https://localhost:8080/"
        },
        "id": "MNanmFLsqJrh",
        "outputId": "f1ea3a23-e5ec-40f0-e313-8ff91d7528f8"
      },
      "source": [
        "A_5k.shape"
      ],
      "execution_count": null,
      "outputs": [
        {
          "output_type": "execute_result",
          "data": {
            "text/plain": [
              "(290040, 29)"
            ]
          },
          "metadata": {
            "tags": []
          },
          "execution_count": 88
        }
      ]
    },
    {
      "cell_type": "code",
      "metadata": {
        "id": "RJ1LhBpmzDhK"
      },
      "source": [
        "A_10k = df_10k.drop('Class', axis=1)\n",
        "B_10k = df_10k['Class']"
      ],
      "execution_count": null,
      "outputs": []
    },
    {
      "cell_type": "code",
      "metadata": {
        "colab": {
          "base_uri": "https://localhost:8080/"
        },
        "id": "ixdUUJnBqOqr",
        "outputId": "11b10847-4c5f-4498-f84f-b018b9eb53bf"
      },
      "source": [
        "A_10k.shape"
      ],
      "execution_count": null,
      "outputs": [
        {
          "output_type": "execute_result",
          "data": {
            "text/plain": [
              "(295023, 29)"
            ]
          },
          "metadata": {
            "tags": []
          },
          "execution_count": 90
        }
      ]
    },
    {
      "cell_type": "code",
      "metadata": {
        "id": "XKnDKqFkzPN3"
      },
      "source": [
        "A_25k = df_25k.drop('Class', axis=1)\n",
        "B_25k = df_25k['Class']"
      ],
      "execution_count": null,
      "outputs": []
    },
    {
      "cell_type": "code",
      "metadata": {
        "colab": {
          "base_uri": "https://localhost:8080/"
        },
        "id": "nt7N-hPBkLDF",
        "outputId": "747b6b58-e6c1-480d-f7e8-19218560e300"
      },
      "source": [
        "A_25k.shape\n",
        "#B_25k.shape"
      ],
      "execution_count": null,
      "outputs": [
        {
          "output_type": "execute_result",
          "data": {
            "text/plain": [
              "(309806, 29)"
            ]
          },
          "metadata": {
            "tags": []
          },
          "execution_count": 92
        }
      ]
    },
    {
      "cell_type": "code",
      "metadata": {
        "id": "OtjpoaHfzZui"
      },
      "source": [
        "A_50k = df_50k.drop('Class', axis=1)\n",
        "B_50k = df_50k['Class']"
      ],
      "execution_count": null,
      "outputs": []
    },
    {
      "cell_type": "code",
      "metadata": {
        "id": "HUbW1_dEzkHU"
      },
      "source": [
        "A_100k = df_100k.drop('Class', axis=1)\n",
        "B_100k = df_100k['Class']"
      ],
      "execution_count": null,
      "outputs": []
    },
    {
      "cell_type": "code",
      "metadata": {
        "id": "dcQrgPhHzwYc"
      },
      "source": [
        "A_200k = df_200k.drop('Class', axis=1)\n",
        "B_200k = df_200k['Class']"
      ],
      "execution_count": null,
      "outputs": []
    },
    {
      "cell_type": "code",
      "metadata": {
        "id": "RxCina040JSu"
      },
      "source": [
        "X = dataset.drop(['Class'], axis=1)\n",
        "y = dataset['Class']"
      ],
      "execution_count": null,
      "outputs": []
    },
    {
      "cell_type": "code",
      "metadata": {
        "id": "zZdThjcz0OoZ"
      },
      "source": [
        "from sklearn.model_selection import train_test_split \n",
        "  \n",
        "# split into 70:30 ration \n",
        "X_train, X_test, y_train, y_test = train_test_split(X, y, test_size = 0.3, random_state = 0)"
      ],
      "execution_count": null,
      "outputs": []
    },
    {
      "cell_type": "code",
      "metadata": {
        "colab": {
          "base_uri": "https://localhost:8080/",
          "height": 279
        },
        "id": "Cju4rk3enIYV",
        "outputId": "3a5da168-3e93-48cb-abe4-299e96d98f6b"
      },
      "source": [
        "from sklearn.tree import DecisionTreeClassifier\n",
        "\n",
        "# classifier object \n",
        "dt = DecisionTreeClassifier()\n",
        "  \n",
        "# train the model on train set \n",
        "dt.fit(A_2k, B_2k) \n",
        "  \n",
        "prediction_dt_2k = dt.predict(X_test)\n",
        "\n",
        "dt_fpr_GAN_2k, dt_tpr_GAN_2k, threshold = precision_recall_curve(y_test, prediction_dt_2k)\n",
        "auc_dt_GAN_2k = auc(dt_fpr_GAN_2k, dt_tpr_GAN_2k)\n",
        "\n",
        "plt.plot(dt_fpr_GAN_2k, dt_tpr_GAN_2k, linestyle='-', label='dt_GAN_2k (auc = %0.3f)' % auc_dt_GAN_2k)\n",
        "\n",
        "plt.xlabel('Recall--->')\n",
        "plt.ylabel('Precision--->')\n",
        "\n",
        "plt.legend()\n",
        "\n",
        "plt.show()"
      ],
      "execution_count": null,
      "outputs": [
        {
          "output_type": "display_data",
          "data": {
            "image/png": "[encoded data removed]",
            "text/plain": [
              "<Figure size 432x288 with 1 Axes>"
            ]
          },
          "metadata": {
            "tags": [],
            "needs_background": "light"
          }
        }
      ]
    },
    {
      "cell_type": "code",
      "metadata": {
        "id": "qFXaG8hnqZw8"
      },
      "source": [
        "from sklearn.svm import SVC\n",
        "# classifier object\n",
        "svm = SVC(kernel= 'linear', degree= 2)\n",
        "  \n",
        "# train the model on train set \n",
        "svm.fit(A_2k, B_2k) \n",
        "  \n",
        "prediction_svm_2k = dt.predict(X_test)\n",
        "\n",
        "svm_fpr_GAN_2k, svm_tpr_GAN_2k, threshold = precision_recall_curve(y_test, prediction_svm_2k)\n",
        "auc_svm_GAN_2k = auc(svm_fpr_GAN_2k, svm_tpr_GAN_2k)\n",
        "\n",
        "plt.plot(svm_fpr_GAN_2k, svm_tpr_GAN_2k, linestyle='-', label='svm_GAN_2k (auc = %0.3f)' % auc_svm_GAN_2k)\n",
        "\n",
        "plt.xlabel('Recall--->')\n",
        "plt.ylabel('Precision--->')\n",
        "\n",
        "plt.legend()\n",
        "\n",
        "plt.show()"
      ],
      "execution_count": null,
      "outputs": []
    },
    {
      "cell_type": "code",
      "metadata": {
        "id": "hxzKsmiof5hb"
      },
      "source": [
        "# classifier object \n",
        "KNN = KNeighborsClassifier(n_neighbors=3)\n",
        "  \n",
        "# train the model on train set \n",
        "KNN.fit(A_2k, B_2k) \n",
        "  \n",
        "prediction_KNN_2k = KNN.predict(X_test)"
      ],
      "execution_count": null,
      "outputs": []
    },
    {
      "cell_type": "code",
      "metadata": {
        "colab": {
          "base_uri": "https://localhost:8080/"
        },
        "id": "Cz36Did-ecah",
        "outputId": "88dce6e1-8d87-4895-c42f-1551c213e58e"
      },
      "source": [
        "from sklearn.linear_model import LogisticRegression\n",
        "\n",
        "# classifier object \n",
        "lr = LogisticRegression()\n",
        "  \n",
        "# train the model on train set \n",
        "lr.fit(A_2k, B_2k) \n",
        "  \n",
        "prediction_lr_2k = lr.predict(X_test)"
      ],
      "execution_count": null,
      "outputs": [
        {
          "output_type": "stream",
          "text": [
            "/usr/local/lib/python3.7/dist-packages/sklearn/linear_model/_logistic.py:940: ConvergenceWarning: lbfgs failed to converge (status=1):\n",
            "STOP: TOTAL NO. of ITERATIONS REACHED LIMIT.\n",
            "\n",
            "Increase the number of iterations (max_iter) or scale the data as shown in:\n",
            "    https://scikit-learn.org/stable/modules/preprocessing.html\n",
            "Please also refer to the documentation for alternative solver options:\n",
            "    https://scikit-learn.org/stable/modules/linear_model.html#logistic-regression\n",
            "  extra_warning_msg=_LOGISTIC_SOLVER_CONVERGENCE_MSG)\n"
          ],
          "name": "stderr"
        }
      ]
    },
    {
      "cell_type": "code",
      "metadata": {
        "colab": {
          "base_uri": "https://localhost:8080/"
        },
        "id": "D95C3sUDeymH",
        "outputId": "a435c4c8-5179-4329-f96d-f0059f08c9e4"
      },
      "source": [
        "# classifier object \n",
        "lr = LogisticRegression()\n",
        "  \n",
        "# train the model on train set \n",
        "lr.fit(A_5k, B_5k) \n",
        "  \n",
        "prediction_lr_5k = lr.predict(X_test)"
      ],
      "execution_count": null,
      "outputs": [
        {
          "output_type": "stream",
          "text": [
            "/usr/local/lib/python3.7/dist-packages/sklearn/linear_model/_logistic.py:940: ConvergenceWarning: lbfgs failed to converge (status=1):\n",
            "STOP: TOTAL NO. of ITERATIONS REACHED LIMIT.\n",
            "\n",
            "Increase the number of iterations (max_iter) or scale the data as shown in:\n",
            "    https://scikit-learn.org/stable/modules/preprocessing.html\n",
            "Please also refer to the documentation for alternative solver options:\n",
            "    https://scikit-learn.org/stable/modules/linear_model.html#logistic-regression\n",
            "  extra_warning_msg=_LOGISTIC_SOLVER_CONVERGENCE_MSG)\n"
          ],
          "name": "stderr"
        }
      ]
    },
    {
      "cell_type": "code",
      "metadata": {
        "colab": {
          "base_uri": "https://localhost:8080/"
        },
        "id": "GDQ0ar1-e8bo",
        "outputId": "fa3c0980-d23e-468e-f65f-cf9ec55aa8da"
      },
      "source": [
        "# classifier object \n",
        "lr = LogisticRegression()\n",
        "  \n",
        "# train the model on train set \n",
        "lr.fit(A_10k, B_10k) \n",
        "  \n",
        "prediction_lr_10k = lr.predict(X_test)"
      ],
      "execution_count": null,
      "outputs": [
        {
          "output_type": "stream",
          "text": [
            "/usr/local/lib/python3.7/dist-packages/sklearn/linear_model/_logistic.py:940: ConvergenceWarning: lbfgs failed to converge (status=1):\n",
            "STOP: TOTAL NO. of ITERATIONS REACHED LIMIT.\n",
            "\n",
            "Increase the number of iterations (max_iter) or scale the data as shown in:\n",
            "    https://scikit-learn.org/stable/modules/preprocessing.html\n",
            "Please also refer to the documentation for alternative solver options:\n",
            "    https://scikit-learn.org/stable/modules/linear_model.html#logistic-regression\n",
            "  extra_warning_msg=_LOGISTIC_SOLVER_CONVERGENCE_MSG)\n"
          ],
          "name": "stderr"
        }
      ]
    },
    {
      "cell_type": "code",
      "metadata": {
        "colab": {
          "base_uri": "https://localhost:8080/"
        },
        "id": "_P3KVDeOe8RD",
        "outputId": "ade137d9-dc43-4d62-f20d-6da8ddb0d699"
      },
      "source": [
        "# classifier object \n",
        "lr = LogisticRegression()\n",
        "  \n",
        "# train the model on train set \n",
        "lr.fit(A_25k, B_25k) \n",
        "  \n",
        "prediction_lr_25k = lr.predict(X_test)"
      ],
      "execution_count": null,
      "outputs": [
        {
          "output_type": "stream",
          "text": [
            "/usr/local/lib/python3.7/dist-packages/sklearn/linear_model/_logistic.py:940: ConvergenceWarning: lbfgs failed to converge (status=1):\n",
            "STOP: TOTAL NO. of ITERATIONS REACHED LIMIT.\n",
            "\n",
            "Increase the number of iterations (max_iter) or scale the data as shown in:\n",
            "    https://scikit-learn.org/stable/modules/preprocessing.html\n",
            "Please also refer to the documentation for alternative solver options:\n",
            "    https://scikit-learn.org/stable/modules/linear_model.html#logistic-regression\n",
            "  extra_warning_msg=_LOGISTIC_SOLVER_CONVERGENCE_MSG)\n"
          ],
          "name": "stderr"
        }
      ]
    },
    {
      "cell_type": "code",
      "metadata": {
        "colab": {
          "base_uri": "https://localhost:8080/"
        },
        "id": "aWHq7UAPgqru",
        "outputId": "30a8e83c-306b-4453-e8b0-6bce50ea4749"
      },
      "source": [
        "# classifier object \n",
        "lr = LogisticRegression()\n",
        "  \n",
        "# train the model on train set \n",
        "lr.fit(A_50k, B_50k) \n",
        "  \n",
        "prediction_lr_50k = lr.predict(X_test)"
      ],
      "execution_count": null,
      "outputs": [
        {
          "output_type": "stream",
          "text": [
            "/usr/local/lib/python3.7/dist-packages/sklearn/linear_model/_logistic.py:940: ConvergenceWarning: lbfgs failed to converge (status=1):\n",
            "STOP: TOTAL NO. of ITERATIONS REACHED LIMIT.\n",
            "\n",
            "Increase the number of iterations (max_iter) or scale the data as shown in:\n",
            "    https://scikit-learn.org/stable/modules/preprocessing.html\n",
            "Please also refer to the documentation for alternative solver options:\n",
            "    https://scikit-learn.org/stable/modules/linear_model.html#logistic-regression\n",
            "  extra_warning_msg=_LOGISTIC_SOLVER_CONVERGENCE_MSG)\n"
          ],
          "name": "stderr"
        }
      ]
    },
    {
      "cell_type": "code",
      "metadata": {
        "colab": {
          "base_uri": "https://localhost:8080/"
        },
        "id": "2FKGYeSGgzNI",
        "outputId": "fe51a93a-060c-4c23-88a2-32cd8f61e0c9"
      },
      "source": [
        "# classifier object \n",
        "lr = LogisticRegression()\n",
        "  \n",
        "# train the model on train set \n",
        "lr.fit(A_100k, B_100k) \n",
        "  \n",
        "prediction_lr_100k = lr.predict(X_test)"
      ],
      "execution_count": null,
      "outputs": [
        {
          "output_type": "stream",
          "text": [
            "/usr/local/lib/python3.7/dist-packages/sklearn/linear_model/_logistic.py:940: ConvergenceWarning: lbfgs failed to converge (status=1):\n",
            "STOP: TOTAL NO. of ITERATIONS REACHED LIMIT.\n",
            "\n",
            "Increase the number of iterations (max_iter) or scale the data as shown in:\n",
            "    https://scikit-learn.org/stable/modules/preprocessing.html\n",
            "Please also refer to the documentation for alternative solver options:\n",
            "    https://scikit-learn.org/stable/modules/linear_model.html#logistic-regression\n",
            "  extra_warning_msg=_LOGISTIC_SOLVER_CONVERGENCE_MSG)\n"
          ],
          "name": "stderr"
        }
      ]
    },
    {
      "cell_type": "code",
      "metadata": {
        "colab": {
          "base_uri": "https://localhost:8080/"
        },
        "id": "EFzZ6HsVg9FY",
        "outputId": "e6eac859-124a-498d-f6f4-e5952a62e959"
      },
      "source": [
        "# classifier object \n",
        "lr = LogisticRegression()\n",
        "  \n",
        "# train the model on train set \n",
        "lr.fit(A_200k, B_200k) \n",
        "  \n",
        "prediction_lr_200k = lr.predict(X_test)"
      ],
      "execution_count": null,
      "outputs": [
        {
          "output_type": "stream",
          "text": [
            "/usr/local/lib/python3.7/dist-packages/sklearn/linear_model/_logistic.py:940: ConvergenceWarning: lbfgs failed to converge (status=1):\n",
            "STOP: TOTAL NO. of ITERATIONS REACHED LIMIT.\n",
            "\n",
            "Increase the number of iterations (max_iter) or scale the data as shown in:\n",
            "    https://scikit-learn.org/stable/modules/preprocessing.html\n",
            "Please also refer to the documentation for alternative solver options:\n",
            "    https://scikit-learn.org/stable/modules/linear_model.html#logistic-regression\n",
            "  extra_warning_msg=_LOGISTIC_SOLVER_CONVERGENCE_MSG)\n"
          ],
          "name": "stderr"
        }
      ]
    },
    {
      "cell_type": "code",
      "metadata": {
        "id": "qSLT5Z21hCmm"
      },
      "source": [
        "# classifier object \n",
        "KNN = KNeighborsClassifier(n_neighbors=3)\n",
        "  \n",
        "# train the model on train set \n",
        "KNN.fit(A_5k, B_5k) \n",
        "  \n",
        "prediction_KNN_5k = KNN.predict(X_test)"
      ],
      "execution_count": null,
      "outputs": []
    },
    {
      "cell_type": "code",
      "metadata": {
        "id": "BQq5od4Ihf0F"
      },
      "source": [
        "# classifier object \n",
        "KNN = KNeighborsClassifier(n_neighbors=3)\n",
        "  \n",
        "# train the model on train set \n",
        "KNN.fit(A_10k, B_10k) \n",
        "  \n",
        "prediction_KNN_10k = KNN.predict(X_test)"
      ],
      "execution_count": null,
      "outputs": []
    },
    {
      "cell_type": "code",
      "metadata": {
        "id": "AMPdJvMQiAtc"
      },
      "source": [
        "# classifier object \n",
        "KNN = KNeighborsClassifier(n_neighbors=3)\n",
        "  \n",
        "# train the model on train set \n",
        "KNN.fit(A_25k, B_25k) \n",
        "  \n",
        "prediction_KNN_25k = KNN.predict(X_test)"
      ],
      "execution_count": null,
      "outputs": []
    },
    {
      "cell_type": "code",
      "metadata": {
        "id": "A6V8RnvfiFNO"
      },
      "source": [
        "# classifier object \n",
        "KNN = KNeighborsClassifier(n_neighbors=3)\n",
        "  \n",
        "# train the model on train set \n",
        "KNN.fit(A_50k, B_50k) \n",
        "  \n",
        "prediction_KNN_50k = KNN.predict(X_test)"
      ],
      "execution_count": null,
      "outputs": []
    },
    {
      "cell_type": "code",
      "metadata": {
        "id": "fChg9yXqiKt8"
      },
      "source": [
        "# classifier object \n",
        "KNN = KNeighborsClassifier(n_neighbors=3)\n",
        "  \n",
        "# train the model on train set \n",
        "KNN.fit(A_100k, B_100k) \n",
        "  \n",
        "prediction_KNN_100k = KNN.predict(X_test)"
      ],
      "execution_count": null,
      "outputs": []
    },
    {
      "cell_type": "code",
      "metadata": {
        "id": "PVXkyj1kiQU_"
      },
      "source": [
        "# classifier object \n",
        "KNN = KNeighborsClassifier(n_neighbors=3)\n",
        "  \n",
        "# train the model on train set \n",
        "KNN.fit(A_200k, B_200k) \n",
        "  \n",
        "prediction_KNN_200k = KNN.predict(X_test)"
      ],
      "execution_count": null,
      "outputs": []
    },
    {
      "cell_type": "code",
      "metadata": {
        "id": "LaiqOGao0VCn"
      },
      "source": [
        "rf_GAN = RandomForestClassifier(n_estimators=20)\n",
        "rf_GAN.fit(A_2k,B_2k)\n",
        "\n",
        "prediction_GAN_rf_2k = rf_GAN.predict(X_test)"
      ],
      "execution_count": null,
      "outputs": []
    },
    {
      "cell_type": "code",
      "metadata": {
        "id": "5sfQ5fno1Nq9"
      },
      "source": [
        "rf_GAN = RandomForestClassifier(n_estimators=20)\n",
        "rf_GAN.fit(A_5k,B_5k)\n",
        "\n",
        "prediction_GAN_rf_5k = rf_GAN.predict(X_test)"
      ],
      "execution_count": null,
      "outputs": []
    },
    {
      "cell_type": "code",
      "metadata": {
        "id": "0-LTedFh1h30"
      },
      "source": [
        "rf_GAN = RandomForestClassifier(n_estimators=20)\n",
        "rf_GAN.fit(A_10k,B_10k)\n",
        "\n",
        "prediction_GAN_rf_10k = rf_GAN.predict(X_test)"
      ],
      "execution_count": null,
      "outputs": []
    },
    {
      "cell_type": "code",
      "metadata": {
        "id": "AYNySfJZ14Hu"
      },
      "source": [
        "rf_GAN = RandomForestClassifier(n_estimators=20)\n",
        "rf_GAN.fit(A_25k,B_25k)\n",
        "\n",
        "prediction_GAN_rf_25k = rf_GAN.predict(X_test)"
      ],
      "execution_count": null,
      "outputs": []
    },
    {
      "cell_type": "code",
      "metadata": {
        "id": "qzUd89CB3LDL"
      },
      "source": [
        "rf_GAN = RandomForestClassifier(n_estimators=20)\n",
        "rf_GAN.fit(A_50k,B_50k)\n",
        "\n",
        "prediction_GAN_rf_50k = rf_GAN.predict(X_test)"
      ],
      "execution_count": null,
      "outputs": []
    },
    {
      "cell_type": "code",
      "metadata": {
        "id": "waDQTk4x3pQH"
      },
      "source": [
        "rf_GAN = RandomForestClassifier(n_estimators=20)\n",
        "rf_GAN.fit(A_100k,B_100k)\n",
        "\n",
        "prediction_GAN_rf_100k = rf_GAN.predict(X_test)"
      ],
      "execution_count": null,
      "outputs": []
    },
    {
      "cell_type": "code",
      "metadata": {
        "id": "3tVDdMG56PwI"
      },
      "source": [
        "rf_GAN = RandomForestClassifier(n_estimators=20)\n",
        "rf_GAN.fit(A_200k,B_200k)\n",
        "\n",
        "prediction_GAN_rf_200k = rf_GAN.predict(X_test)"
      ],
      "execution_count": null,
      "outputs": []
    },
    {
      "cell_type": "code",
      "metadata": {
        "id": "sR3-O471rlBW"
      },
      "source": [
        "bg = BaggingClassifier(DecisionTreeClassifier(), max_samples= 0.5, max_features= 1.0, n_estimators=20)\n",
        "bg.fit(A_2k,B_2k)\n",
        "\n",
        "prediction_bg_2k = bg.predict(X_test)"
      ],
      "execution_count": null,
      "outputs": []
    },
    {
      "cell_type": "code",
      "metadata": {
        "id": "VNpGGc7BuGM1"
      },
      "source": [
        "bg = BaggingClassifier(DecisionTreeClassifier(), max_samples= 0.5, max_features= 1.0, n_estimators=20)\n",
        "bg.fit(A_5k,B_5k)\n",
        "\n",
        "prediction_bg_5k = bg.predict(X_test)"
      ],
      "execution_count": null,
      "outputs": []
    },
    {
      "cell_type": "code",
      "metadata": {
        "id": "5DJPyTuJuMu2"
      },
      "source": [
        "bg = BaggingClassifier(DecisionTreeClassifier(), max_samples= 0.5, max_features= 1.0, n_estimators=20)\n",
        "bg.fit(A_10k,B_10k)\n",
        "\n",
        "prediction_bg_10k = bg.predict(X_test)"
      ],
      "execution_count": null,
      "outputs": []
    },
    {
      "cell_type": "code",
      "metadata": {
        "id": "XaqzqHM7uTWs"
      },
      "source": [
        "bg = BaggingClassifier(DecisionTreeClassifier(), max_samples= 0.5, max_features= 1.0, n_estimators=20)\n",
        "bg.fit(A_25k,B_25k)\n",
        "\n",
        "prediction_bg_25k = bg.predict(X_test)"
      ],
      "execution_count": null,
      "outputs": []
    },
    {
      "cell_type": "code",
      "metadata": {
        "id": "SJUtQaSKuYE0"
      },
      "source": [
        "bg = BaggingClassifier(DecisionTreeClassifier(), max_samples= 0.5, max_features= 1.0, n_estimators=20)\n",
        "bg.fit(A_50k,B_50k)\n",
        "\n",
        "prediction_bg_50k = bg.predict(X_test)"
      ],
      "execution_count": null,
      "outputs": []
    },
    {
      "cell_type": "code",
      "metadata": {
        "id": "SmT56a3gueAG"
      },
      "source": [
        "bg = BaggingClassifier(DecisionTreeClassifier(), max_samples= 0.5, max_features= 1.0, n_estimators=20)\n",
        "bg.fit(A_100k,B_100k)\n",
        "\n",
        "prediction_bg_100k = bg.predict(X_test)"
      ],
      "execution_count": null,
      "outputs": []
    },
    {
      "cell_type": "code",
      "metadata": {
        "id": "V47amPucumDH"
      },
      "source": [
        "bg = BaggingClassifier(DecisionTreeClassifier(), max_samples= 0.5, max_features= 1.0, n_estimators=20)\n",
        "bg.fit(A_200k,B_200k)\n",
        "\n",
        "prediction_bg_200k = bg.predict(X_test)"
      ],
      "execution_count": null,
      "outputs": []
    },
    {
      "cell_type": "code",
      "metadata": {
        "colab": {
          "base_uri": "https://localhost:8080/",
          "height": 279
        },
        "id": "Ci_8ORQBkKa8",
        "outputId": "6e7db22f-095e-4822-ded1-49884bfce718"
      },
      "source": [
        "KNN_fpr_GAN_2k, KNN_tpr_GAN_2k, threshold = precision_recall_curve(y_test, prediction_KNN_2k)\n",
        "auc_KNN_GAN_2k = auc(KNN_fpr_GAN_2k, KNN_tpr_GAN_2k)\n",
        "\n",
        "KNN_fpr_GAN_5k, KNN_tpr_GAN_5k, threshold = precision_recall_curve(y_test, prediction_KNN_5k)\n",
        "auc_KNN_GAN_5k = auc(KNN_fpr_GAN_5k, KNN_tpr_GAN_5k)\n",
        "\n",
        "KNN_fpr_GAN_10k, KNN_tpr_GAN_10k, threshold = precision_recall_curve(y_test, prediction_KNN_10k)\n",
        "auc_KNN_GAN_10k = auc(KNN_fpr_GAN_10k, KNN_tpr_GAN_10k)\n",
        "\n",
        "KNN_fpr_GAN_25k, KNN_tpr_GAN_25k, threshold = precision_recall_curve(y_test, prediction_KNN_25k)\n",
        "auc_KNN_GAN_25k = auc(KNN_fpr_GAN_25k, KNN_tpr_GAN_25k)\n",
        "\n",
        "KNN_fpr_GAN_50k, KNN_tpr_GAN_50k, threshold = precision_recall_curve(y_test, prediction_KNN_50k)\n",
        "auc_KNN_GAN_50k = auc(KNN_fpr_GAN_50k, KNN_tpr_GAN_50k)\n",
        "\n",
        "KNN_fpr_GAN_100k, KNN_tpr_GAN_100k, threshold = precision_recall_curve(y_test, prediction_KNN_100k)\n",
        "auc_KNN_GAN_100k = auc(KNN_fpr_GAN_100k, KNN_tpr_GAN_100k)\n",
        "\n",
        "KNN_fpr_GAN_200k, KNN_tpr_GAN_200k, threshold = precision_recall_curve(y_test, prediction_KNN_200k)\n",
        "auc_KNN_GAN_200k = auc(KNN_fpr_GAN_200k, KNN_tpr_GAN_200k)\n",
        "\n",
        "plt.plot(KNN_fpr_GAN_2k, KNN_tpr_GAN_2k, linestyle='-', label='KNN_GAN_2k (auc = %0.3f)' % auc_KNN_GAN_2k)\n",
        "plt.plot(KNN_fpr_GAN_5k, KNN_tpr_GAN_5k, linestyle='-', label='KNN_GAN_5k (auc = %0.3f)' % auc_KNN_GAN_5k)\n",
        "plt.plot(KNN_fpr_GAN_10k, KNN_tpr_GAN_10k, linestyle='-', label='KNN_GAN_10k (auc = %0.3f)' % auc_KNN_GAN_10k)\n",
        "plt.plot(KNN_fpr_GAN_25k, KNN_tpr_GAN_25k, linestyle='-', label='KNN_GAN_25k (auc = %0.3f)' % auc_KNN_GAN_25k)\n",
        "plt.plot(KNN_fpr_GAN_50k, KNN_tpr_GAN_50k, linestyle='-', label='KNN_GAN_50k (auc = %0.3f)' % auc_KNN_GAN_50k)\n",
        "plt.plot(KNN_fpr_GAN_100k, KNN_tpr_GAN_100k, linestyle='-', label='KNN_GAN_100k (auc = %0.3f)' % auc_KNN_GAN_100k)\n",
        "plt.plot(KNN_fpr_GAN_200k, KNN_tpr_GAN_200k, linestyle='-', label='KNN_GAN_200k (auc = %0.3f)' % auc_KNN_GAN_200k)\n",
        "\n",
        "plt.xlabel('Recall--->')\n",
        "plt.ylabel('Precision--->')\n",
        "\n",
        "plt.legend()\n",
        "\n",
        "plt.show()"
      ],
      "execution_count": null,
      "outputs": [
        {
          "output_type": "display_data",
          "data": {
            "image/png": "[encoded data removed]",
            "text/plain": [
              "<Figure size 432x288 with 1 Axes>"
            ]
          },
          "metadata": {
            "tags": [],
            "needs_background": "light"
          }
        }
      ]
    },
    {
      "cell_type": "code",
      "metadata": {
        "colab": {
          "base_uri": "https://localhost:8080/",
          "height": 279
        },
        "id": "XUrKAinsCU-Y",
        "outputId": "685ef276-1c50-4eee-aa13-2c4c6a83a74a"
      },
      "source": [
        "KNN_fpr_GAN_2k, KNN_tpr_GAN_2k, threshold = roc_curve(y_test, prediction_KNN_2k)\n",
        "auc_KNN_GAN_2k = auc(KNN_fpr_GAN_2k, KNN_tpr_GAN_2k)\n",
        "\n",
        "KNN_fpr_GAN_5k, KNN_tpr_GAN_5k, threshold = roc_curve(y_test, prediction_KNN_5k)\n",
        "auc_KNN_GAN_5k = auc(KNN_fpr_GAN_5k, KNN_tpr_GAN_5k)\n",
        "\n",
        "KNN_fpr_GAN_10k, KNN_tpr_GAN_10k, threshold = roc_curve(y_test, prediction_KNN_10k)\n",
        "auc_KNN_GAN_10k = auc(KNN_fpr_GAN_10k, KNN_tpr_GAN_10k)\n",
        "\n",
        "KNN_fpr_GAN_25k, KNN_tpr_GAN_25k, threshold = roc_curve(y_test, prediction_KNN_25k)\n",
        "auc_KNN_GAN_25k = auc(KNN_fpr_GAN_25k, KNN_tpr_GAN_25k)\n",
        "\n",
        "KNN_fpr_GAN_50k, KNN_tpr_GAN_50k, threshold = roc_curve(y_test, prediction_KNN_50k)\n",
        "auc_KNN_GAN_50k = auc(KNN_fpr_GAN_50k, KNN_tpr_GAN_50k)\n",
        "\n",
        "KNN_fpr_GAN_100k, KNN_tpr_GAN_100k, threshold = roc_curve(y_test, prediction_KNN_100k)\n",
        "auc_KNN_GAN_100k = auc(KNN_fpr_GAN_100k, KNN_tpr_GAN_100k)\n",
        "\n",
        "KNN_fpr_GAN_200k, KNN_tpr_GAN_200k, threshold = roc_curve(y_test, prediction_KNN_200k)\n",
        "auc_KNN_GAN_200k = auc(KNN_fpr_GAN_200k, KNN_tpr_GAN_200k)\n",
        "\n",
        "plt.plot(KNN_fpr_GAN_2k, KNN_tpr_GAN_2k, linestyle='-', label='KNN_GAN_2k (auc = %0.3f)' % auc_KNN_GAN_2k)\n",
        "plt.plot(KNN_fpr_GAN_5k, KNN_tpr_GAN_5k, linestyle='-', label='KNN_GAN_5k (auc = %0.3f)' % auc_KNN_GAN_5k)\n",
        "plt.plot(KNN_fpr_GAN_10k, KNN_tpr_GAN_10k, linestyle='-', label='KNN_GAN_10k (auc = %0.3f)' % auc_KNN_GAN_10k)\n",
        "plt.plot(KNN_fpr_GAN_25k, KNN_tpr_GAN_25k, linestyle='-', label='KNN_GAN_25k (auc = %0.3f)' % auc_KNN_GAN_25k)\n",
        "plt.plot(KNN_fpr_GAN_50k, KNN_tpr_GAN_50k, linestyle='-', label='KNN_GAN_50k (auc = %0.3f)' % auc_KNN_GAN_50k)\n",
        "plt.plot(KNN_fpr_GAN_100k, KNN_tpr_GAN_100k, linestyle='-', label='KNN_GAN_100k (auc = %0.3f)' % auc_KNN_GAN_100k)\n",
        "plt.plot(KNN_fpr_GAN_200k, KNN_tpr_GAN_200k, linestyle='-', label='KNN_GAN_200k (auc = %0.3f)' % auc_KNN_GAN_200k)\n",
        "\n",
        "plt.xlabel('Recall--->')\n",
        "plt.ylabel('Precision--->')\n",
        "\n",
        "plt.legend()\n",
        "\n",
        "plt.show()"
      ],
      "execution_count": null,
      "outputs": [
        {
          "output_type": "display_data",
          "data": {
            "image/png": "[encoded data removed]",
            "text/plain": [
              "<Figure size 432x288 with 1 Axes>"
            ]
          },
          "metadata": {
            "tags": [],
            "needs_background": "light"
          }
        }
      ]
    },
    {
      "cell_type": "code",
      "metadata": {
        "colab": {
          "base_uri": "https://localhost:8080/",
          "height": 279
        },
        "id": "F0mx3D3phNdZ",
        "outputId": "d3a31b52-136b-47aa-abd1-df37788154ee"
      },
      "source": [
        "lr_fpr_GAN_2k, lr_tpr_GAN_2k, threshold = precision_recall_curve(y_test, prediction_lr_2k)\n",
        "auc_lr_GAN_2k = auc(lr_fpr_GAN_2k, lr_tpr_GAN_2k)\n",
        "\n",
        "lr_fpr_GAN_5k, lr_tpr_GAN_5k, threshold = precision_recall_curve(y_test, prediction_lr_5k)\n",
        "auc_lr_GAN_5k = auc(lr_fpr_GAN_5k, lr_tpr_GAN_5k)\n",
        "\n",
        "lr_fpr_GAN_10k, lr_tpr_GAN_10k, threshold = precision_recall_curve(y_test, prediction_lr_10k)\n",
        "auc_lr_GAN_10k = auc(lr_fpr_GAN_10k, lr_tpr_GAN_10k)\n",
        "\n",
        "lr_fpr_GAN_25k, lr_tpr_GAN_25k, threshold = precision_recall_curve(y_test, prediction_lr_25k)\n",
        "auc_lr_GAN_25k = auc(lr_fpr_GAN_25k, lr_tpr_GAN_25k)\n",
        "\n",
        "lr_fpr_GAN_50k, lr_tpr_GAN_50k, threshold = precision_recall_curve(y_test, prediction_lr_50k)\n",
        "auc_lr_GAN_50k = auc(lr_fpr_GAN_50k, lr_tpr_GAN_50k)\n",
        "\n",
        "lr_fpr_GAN_100k, lr_tpr_GAN_100k, threshold = precision_recall_curve(y_test, prediction_lr_100k)\n",
        "auc_lr_GAN_100k = auc(lr_fpr_GAN_100k, lr_tpr_GAN_100k)\n",
        "\n",
        "lr_fpr_GAN_200k, lr_tpr_GAN_200k, threshold = precision_recall_curve(y_test, prediction_lr_200k)\n",
        "auc_lr_GAN_200k = auc(lr_fpr_GAN_200k, lr_tpr_GAN_200k)\n",
        "\n",
        "plt.plot(lr_fpr_GAN_2k, lr_tpr_GAN_2k, linestyle='-', label='lr_GAN_2k (auc = %0.3f)' % auc_lr_GAN_2k)\n",
        "plt.plot(lr_fpr_GAN_5k, lr_tpr_GAN_5k, linestyle='-', label='lr_GAN_5k (auc = %0.3f)' % auc_lr_GAN_5k)\n",
        "plt.plot(lr_fpr_GAN_10k, lr_tpr_GAN_10k, linestyle='-', label='lr_GAN_10k (auc = %0.3f)' % auc_lr_GAN_10k)\n",
        "plt.plot(lr_fpr_GAN_25k, lr_tpr_GAN_25k, linestyle='-', label='lr_GAN_25k (auc = %0.3f)' % auc_lr_GAN_25k)\n",
        "plt.plot(lr_fpr_GAN_50k, lr_tpr_GAN_50k, linestyle='-', label='lr_GAN_50k (auc = %0.3f)' % auc_lr_GAN_50k)\n",
        "plt.plot(lr_fpr_GAN_100k, lr_tpr_GAN_100k, linestyle='-', label='KNN_GAN_100k (auc = %0.3f)' % auc_lr_GAN_100k)\n",
        "plt.plot(lr_fpr_GAN_200k, lr_tpr_GAN_200k, linestyle='-', label='KNN_GAN_200k (auc = %0.3f)' % auc_lr_GAN_200k)\n",
        "\n",
        "plt.xlabel('Recall--->')\n",
        "plt.ylabel('Precision--->')\n",
        "\n",
        "plt.legend()\n",
        "\n",
        "plt.show()"
      ],
      "execution_count": null,
      "outputs": [
        {
          "output_type": "display_data",
          "data": {
            "image/png": "[encoded data removed]",
            "text/plain": [
              "<Figure size 432x288 with 1 Axes>"
            ]
          },
          "metadata": {
            "tags": [],
            "needs_background": "light"
          }
        }
      ]
    },
    {
      "cell_type": "code",
      "metadata": {
        "colab": {
          "base_uri": "https://localhost:8080/",
          "height": 279
        },
        "id": "rpr8yfX7DMkF",
        "outputId": "21039bb2-072f-4f59-a380-a6c47b913c41"
      },
      "source": [
        "lr_fpr_GAN_2k, lr_tpr_GAN_2k, threshold = roc_curve(y_test, prediction_lr_2k)\n",
        "auc_lr_GAN_2k = auc(lr_fpr_GAN_2k, lr_tpr_GAN_2k)\n",
        "\n",
        "lr_fpr_GAN_5k, lr_tpr_GAN_5k, threshold = roc_curve(y_test, prediction_lr_5k)\n",
        "auc_lr_GAN_5k = auc(lr_fpr_GAN_5k, lr_tpr_GAN_5k)\n",
        "\n",
        "lr_fpr_GAN_10k, lr_tpr_GAN_10k, threshold = roc_curve(y_test, prediction_lr_10k)\n",
        "auc_lr_GAN_10k = auc(lr_fpr_GAN_10k, lr_tpr_GAN_10k)\n",
        "\n",
        "lr_fpr_GAN_25k, lr_tpr_GAN_25k, threshold = roc_curve(y_test, prediction_lr_25k)\n",
        "auc_lr_GAN_25k = auc(lr_fpr_GAN_25k, lr_tpr_GAN_25k)\n",
        "\n",
        "lr_fpr_GAN_50k, lr_tpr_GAN_50k, threshold = roc_curve(y_test, prediction_lr_50k)\n",
        "auc_lr_GAN_50k = auc(lr_fpr_GAN_50k, lr_tpr_GAN_50k)\n",
        "\n",
        "lr_fpr_GAN_100k, lr_tpr_GAN_100k, threshold = roc_curve(y_test, prediction_lr_100k)\n",
        "auc_lr_GAN_100k = auc(lr_fpr_GAN_100k, lr_tpr_GAN_100k)\n",
        "\n",
        "lr_fpr_GAN_200k, lr_tpr_GAN_200k, threshold = roc_curve(y_test, prediction_lr_200k)\n",
        "auc_lr_GAN_200k = auc(lr_fpr_GAN_200k, lr_tpr_GAN_200k)\n",
        "\n",
        "plt.plot(lr_fpr_GAN_2k, lr_tpr_GAN_2k, linestyle='-', label='lr_GAN_2k (auc = %0.3f)' % auc_lr_GAN_2k)\n",
        "plt.plot(lr_fpr_GAN_5k, lr_tpr_GAN_5k, linestyle='-', label='lr_GAN_5k (auc = %0.3f)' % auc_lr_GAN_5k)\n",
        "plt.plot(lr_fpr_GAN_10k, lr_tpr_GAN_10k, linestyle='-', label='lr_GAN_10k (auc = %0.3f)' % auc_lr_GAN_10k)\n",
        "plt.plot(lr_fpr_GAN_25k, lr_tpr_GAN_25k, linestyle='-', label='lr_GAN_25k (auc = %0.3f)' % auc_lr_GAN_25k)\n",
        "plt.plot(lr_fpr_GAN_50k, lr_tpr_GAN_50k, linestyle='-', label='lr_GAN_50k (auc = %0.3f)' % auc_lr_GAN_50k)\n",
        "plt.plot(lr_fpr_GAN_100k, lr_tpr_GAN_100k, linestyle='-', label='KNN_GAN_100k (auc = %0.3f)' % auc_lr_GAN_100k)\n",
        "plt.plot(lr_fpr_GAN_200k, lr_tpr_GAN_200k, linestyle='-', label='KNN_GAN_200k (auc = %0.3f)' % auc_lr_GAN_200k)\n",
        "\n",
        "plt.xlabel('Recall--->')\n",
        "plt.ylabel('Precision--->')\n",
        "\n",
        "plt.legend()\n",
        "\n",
        "plt.show()"
      ],
      "execution_count": null,
      "outputs": [
        {
          "output_type": "display_data",
          "data": {
            "image/png": "[encoded data removed]",
            "text/plain": [
              "<Figure size 432x288 with 1 Axes>"
            ]
          },
          "metadata": {
            "tags": [],
            "needs_background": "light"
          }
        }
      ]
    },
    {
      "cell_type": "code",
      "metadata": {
        "colab": {
          "base_uri": "https://localhost:8080/",
          "height": 279
        },
        "id": "YEmKkC9p6-eb",
        "outputId": "7ad977a0-fb87-4e28-bbb1-9841c426485a"
      },
      "source": [
        "RF_fpr_GAN_2k, RF_tpr_GAN_2k, threshold = precision_recall_curve(y_test, prediction_GAN_rf_2k)\n",
        "auc_RF_GAN_2k = auc(RF_fpr_GAN_2k, RF_tpr_GAN_2k)\n",
        "\n",
        "RF_fpr_GAN_5k, RF_tpr_GAN_5k, threshold = precision_recall_curve(y_test, prediction_GAN_rf_5k)\n",
        "auc_RF_GAN_5k = auc(RF_fpr_GAN_5k, RF_tpr_GAN_5k)\n",
        "\n",
        "RF_fpr_GAN_10k, RF_tpr_GAN_10k, threshold = precision_recall_curve(y_test, prediction_GAN_rf_10k)\n",
        "auc_RF_GAN_10k = auc(RF_fpr_GAN_10k, RF_tpr_GAN_10k)\n",
        "\n",
        "RF_fpr_GAN_25k, RF_tpr_GAN_25k, threshold = precision_recall_curve(y_test, prediction_GAN_rf_25k)\n",
        "auc_RF_GAN_25k = auc(RF_fpr_GAN_25k, RF_tpr_GAN_25k)\n",
        "\n",
        "RF_fpr_GAN_50k, RF_tpr_GAN_50k, threshold = precision_recall_curve(y_test, prediction_GAN_rf_50k)\n",
        "auc_RF_GAN_50k = auc(RF_fpr_GAN_50k, RF_tpr_GAN_50k)\n",
        "\n",
        "RF_fpr_GAN_100k, RF_tpr_GAN_100k, threshold = precision_recall_curve(y_test, prediction_GAN_rf_100k)\n",
        "auc_RF_GAN_100k = auc(RF_fpr_GAN_100k, RF_tpr_GAN_100k)\n",
        "\n",
        "RF_fpr_GAN_200k, RF_tpr_GAN_200k, threshold = precision_recall_curve(y_test, prediction_GAN_rf_200k)\n",
        "auc_RF_GAN_200k = auc(RF_fpr_GAN_200k, RF_tpr_GAN_200k)\n",
        "\n",
        "plt.plot(RF_fpr_GAN_2k, RF_tpr_GAN_2k, linestyle='-', label='RF_GAN_2k (auc = %0.3f)' % auc_RF_GAN_2k)\n",
        "plt.plot(RF_fpr_GAN_5k, RF_tpr_GAN_5k, linestyle='-', label='RF_GAN_5k (auc = %0.3f)' % auc_RF_GAN_5k)\n",
        "plt.plot(RF_fpr_GAN_10k, RF_tpr_GAN_10k, linestyle='-', label='RF_GAN_10k (auc = %0.3f)' % auc_RF_GAN_10k)\n",
        "plt.plot(RF_fpr_GAN_25k, RF_tpr_GAN_25k, linestyle='-', label='RF_GAN_25k (auc = %0.3f)' % auc_RF_GAN_25k)\n",
        "plt.plot(RF_fpr_GAN_50k, RF_tpr_GAN_50k, linestyle='-', label='RF_GAN_50k (auc = %0.3f)' % auc_RF_GAN_50k)\n",
        "plt.plot(RF_fpr_GAN_100k, RF_tpr_GAN_100k, linestyle='-', label='RF_GAN_100k (auc = %0.3f)' % auc_RF_GAN_100k)\n",
        "plt.plot(RF_fpr_GAN_200k, RF_tpr_GAN_200k, linestyle='-', label='RF_GAN_200k (auc = %0.3f)' % auc_RF_GAN_200k)\n",
        "\n",
        "plt.xlabel('Recall--->')\n",
        "plt.ylabel('Precision--->')\n",
        "\n",
        "plt.legend()\n",
        "\n",
        "plt.show()"
      ],
      "execution_count": null,
      "outputs": [
        {
          "output_type": "display_data",
          "data": {
            "image/png": "[encoded data removed]",
            "text/plain": [
              "<Figure size 432x288 with 1 Axes>"
            ]
          },
          "metadata": {
            "tags": [],
            "needs_background": "light"
          }
        }
      ]
    },
    {
      "cell_type": "code",
      "metadata": {
        "colab": {
          "base_uri": "https://localhost:8080/",
          "height": 279
        },
        "id": "iu1HQYOI58-z",
        "outputId": "106786dd-2b6a-4cef-9d78-a8e6576df41e"
      },
      "source": [
        "BG_fpr_GAN_2k, BG_tpr_GAN_2k, threshold = precision_recall_curve(y_test, prediction_bg_2k)\n",
        "auc_BG_GAN_2k = auc(BG_fpr_GAN_2k, BG_tpr_GAN_2k)\n",
        "\n",
        "BG_fpr_GAN_5k, BG_tpr_GAN_5k, threshold = precision_recall_curve(y_test, prediction_bg_5k)\n",
        "auc_BG_GAN_5k = auc(BG_fpr_GAN_5k, BG_tpr_GAN_5k)\n",
        "\n",
        "BG_fpr_GAN_10k, BG_tpr_GAN_10k, threshold = precision_recall_curve(y_test, prediction_bg_10k)\n",
        "auc_BG_GAN_10k = auc(BG_fpr_GAN_10k, BG_tpr_GAN_10k)\n",
        "\n",
        "BG_fpr_GAN_25k, BG_tpr_GAN_25k, threshold = precision_recall_curve(y_test, prediction_bg_25k)\n",
        "auc_BG_GAN_25k = auc(BG_fpr_GAN_25k, BG_tpr_GAN_25k)\n",
        "\n",
        "BG_fpr_GAN_50k, BG_tpr_GAN_50k, threshold = precision_recall_curve(y_test, prediction_bg_50k)\n",
        "auc_BG_GAN_50k = auc(BG_fpr_GAN_50k, BG_tpr_GAN_50k)\n",
        "\n",
        "BG_fpr_GAN_100k, BG_tpr_GAN_100k, threshold = precision_recall_curve(y_test, prediction_bg_100k)\n",
        "auc_BG_GAN_100k = auc(BG_fpr_GAN_100k, BG_tpr_GAN_100k)\n",
        "\n",
        "BG_fpr_GAN_200k, BG_tpr_GAN_200k, threshold = precision_recall_curve(y_test, prediction_bg_200k)\n",
        "auc_BG_GAN_200k = auc(BG_fpr_GAN_200k, BG_tpr_GAN_200k)\n",
        "\n",
        "plt.plot(BG_fpr_GAN_2k, BG_tpr_GAN_2k, linestyle='-', label='BG_GAN_2k (auc = %0.3f)' % auc_BG_GAN_2k)\n",
        "plt.plot(BG_fpr_GAN_5k, BG_tpr_GAN_5k, linestyle='-', label='BG_GAN_5k (auc = %0.3f)' % auc_BG_GAN_5k)\n",
        "plt.plot(BG_fpr_GAN_10k, BG_tpr_GAN_10k, linestyle='-', label='BG_GAN_10k (auc = %0.3f)' % auc_BG_GAN_10k)\n",
        "plt.plot(BG_fpr_GAN_25k, BG_tpr_GAN_25k, linestyle='-', label='BG_GAN_25k (auc = %0.3f)' % auc_BG_GAN_25k)\n",
        "plt.plot(BG_fpr_GAN_50k, BG_tpr_GAN_50k, linestyle='-', label='BG_GAN_50k (auc = %0.3f)' % auc_BG_GAN_50k)\n",
        "plt.plot(BG_fpr_GAN_100k, BG_tpr_GAN_100k, linestyle='-', label='BG_GAN_100k (auc = %0.3f)' % auc_BG_GAN_100k)\n",
        "plt.plot(BG_fpr_GAN_200k, BG_tpr_GAN_200k, linestyle='-', label='BG_GAN_200k (auc = %0.3f)' % auc_BG_GAN_200k)\n",
        "\n",
        "plt.xlabel('Recall--->')\n",
        "plt.ylabel('Precision--->')\n",
        "\n",
        "plt.legend()\n",
        "\n",
        "plt.show()"
      ],
      "execution_count": null,
      "outputs": [
        {
          "output_type": "display_data",
          "data": {
            "image/png": "[encoded data removed]",
            "text/plain": [
              "<Figure size 432x288 with 1 Axes>"
            ]
          },
          "metadata": {
            "tags": [],
            "needs_background": "light"
          }
        }
      ]
    },
    {
      "cell_type": "code",
      "metadata": {
        "colab": {
          "base_uri": "https://localhost:8080/",
          "height": 279
        },
        "id": "39hxNGUQ-lux",
        "outputId": "0e34b4e7-b0ba-4cdb-eac7-4c021f6f706e"
      },
      "source": [
        "RF_fpr_GAN_2k, RF_tpr_GAN_2k, threshold = roc_curve(y_test, prediction_GAN_rf_2k)\n",
        "auc_RF_GAN_2k = auc(RF_fpr_GAN_2k, RF_tpr_GAN_2k)\n",
        "\n",
        "RF_fpr_GAN_5k, RF_tpr_GAN_5k, threshold = roc_curve(y_test, prediction_GAN_rf_5k)\n",
        "auc_RF_GAN_5k = auc(RF_fpr_GAN_5k, RF_tpr_GAN_5k)\n",
        "\n",
        "RF_fpr_GAN_10k, RF_tpr_GAN_10k, threshold = roc_curve(y_test, prediction_GAN_rf_10k)\n",
        "auc_RF_GAN_10k = auc(RF_fpr_GAN_10k, RF_tpr_GAN_10k)\n",
        "\n",
        "RF_fpr_GAN_25k, RF_tpr_GAN_25k, threshold = roc_curve(y_test, prediction_GAN_rf_25k)\n",
        "auc_RF_GAN_25k = auc(RF_fpr_GAN_25k, RF_tpr_GAN_25k)\n",
        "\n",
        "RF_fpr_GAN_50k, RF_tpr_GAN_50k, threshold = roc_curve(y_test, prediction_GAN_rf_50k)\n",
        "auc_RF_GAN_50k = auc(RF_fpr_GAN_50k, RF_tpr_GAN_50k)\n",
        "\n",
        "RF_fpr_GAN_100k, RF_tpr_GAN_100k, threshold = roc_curve(y_test, prediction_GAN_rf_100k)\n",
        "auc_RF_GAN_100k = auc(RF_fpr_GAN_100k, RF_tpr_GAN_100k)\n",
        "\n",
        "RF_fpr_GAN_200k, RF_tpr_GAN_200k, threshold = roc_curve(y_test, prediction_GAN_rf_200k)\n",
        "auc_RF_GAN_200k = auc(RF_fpr_GAN_200k, RF_tpr_GAN_200k)\n",
        "\n",
        "plt.plot(RF_fpr_GAN_2k, RF_tpr_GAN_2k, linestyle='-', label='RF_GAN_2k (auc = %0.3f)' % auc_RF_GAN_2k)\n",
        "plt.plot(RF_fpr_GAN_5k, RF_tpr_GAN_5k, linestyle='-', label='RF_GAN_5k (auc = %0.3f)' % auc_RF_GAN_5k)\n",
        "plt.plot(RF_fpr_GAN_10k, RF_tpr_GAN_10k, linestyle='-', label='RF_GAN_10k (auc = %0.3f)' % auc_RF_GAN_10k)\n",
        "plt.plot(RF_fpr_GAN_25k, RF_tpr_GAN_25k, linestyle='-', label='RF_GAN_25k (auc = %0.3f)' % auc_RF_GAN_25k)\n",
        "plt.plot(RF_fpr_GAN_50k, RF_tpr_GAN_50k, linestyle='-', label='RF_GAN_50k (auc = %0.3f)' % auc_RF_GAN_50k)\n",
        "plt.plot(RF_fpr_GAN_100k, RF_tpr_GAN_100k, linestyle='-', label='RF_GAN_100k (auc = %0.3f)' % auc_RF_GAN_100k)\n",
        "plt.plot(RF_fpr_GAN_200k, RF_tpr_GAN_200k, linestyle='-', label='RF_GAN_200k (auc = %0.3f)' % auc_RF_GAN_200k)\n",
        "\n",
        "plt.xlabel('False Positive Rate--->')\n",
        "plt.ylabel('True Positive Rate--->')\n",
        "\n",
        "plt.legend()\n",
        "\n",
        "plt.show()"
      ],
      "execution_count": null,
      "outputs": [
        {
          "output_type": "display_data",
          "data": {
            "image/png": "[encoded data removed]",
            "text/plain": [
              "<Figure size 432x288 with 1 Axes>"
            ]
          },
          "metadata": {
            "tags": [],
            "needs_background": "light"
          }
        }
      ]
    },
    {
      "cell_type": "code",
      "metadata": {
        "colab": {
          "base_uri": "https://localhost:8080/",
          "height": 279
        },
        "id": "2NJ3SOXR-J_B",
        "outputId": "240be7b0-bbab-42be-a1d5-c88436e41fb4"
      },
      "source": [
        "bg_fpr_GAN_2k, bg_tpr_GAN_2k, threshold = roc_curve(y_test, prediction_bg_2k)\n",
        "auc_bg_GAN_2k = auc(bg_fpr_GAN_2k, bg_tpr_GAN_2k)\n",
        "\n",
        "bg_fpr_GAN_5k, bg_tpr_GAN_5k, threshold = roc_curve(y_test, prediction_bg_5k)\n",
        "auc_bg_GAN_5k = auc(bg_fpr_GAN_5k, bg_tpr_GAN_5k)\n",
        "\n",
        "bg_fpr_GAN_10k, bg_tpr_GAN_10k, threshold = roc_curve(y_test, prediction_bg_10k)\n",
        "auc_bg_GAN_10k = auc(bg_fpr_GAN_10k, bg_tpr_GAN_10k)\n",
        "\n",
        "bg_fpr_GAN_25k, bg_tpr_GAN_25k, threshold = roc_curve(y_test, prediction_bg_25k)\n",
        "auc_bg_GAN_25k = auc(bg_fpr_GAN_25k, bg_tpr_GAN_25k)\n",
        "\n",
        "bg_fpr_GAN_50k, bg_tpr_GAN_50k, threshold = roc_curve(y_test, prediction_bg_50k)\n",
        "auc_bg_GAN_50k = auc(bg_fpr_GAN_50k, bg_tpr_GAN_50k)\n",
        "\n",
        "bg_fpr_GAN_100k, bg_tpr_GAN_100k, threshold = roc_curve(y_test, prediction_bg_100k)\n",
        "auc_bg_GAN_100k = auc(bg_fpr_GAN_100k, bg_tpr_GAN_100k)\n",
        "\n",
        "bg_fpr_GAN_200k, bg_tpr_GAN_200k, threshold = roc_curve(y_test, prediction_bg_200k)\n",
        "auc_bg_GAN_200k = auc(bg_fpr_GAN_200k, bg_tpr_GAN_200k)\n",
        "\n",
        "plt.plot(bg_fpr_GAN_2k, bg_tpr_GAN_2k, linestyle='-', label='bg_GAN_2k (auc = %0.3f)' % auc_bg_GAN_2k)\n",
        "plt.plot(bg_fpr_GAN_5k, bg_tpr_GAN_5k, linestyle='-', label='bg_GAN_5k (auc = %0.3f)' % auc_bg_GAN_5k)\n",
        "plt.plot(bg_fpr_GAN_10k, bg_tpr_GAN_10k, linestyle='-', label='bg_GAN_10k (auc = %0.3f)' % auc_bg_GAN_10k)\n",
        "plt.plot(bg_fpr_GAN_25k, bg_tpr_GAN_25k, linestyle='-', label='bg_GAN_25k (auc = %0.3f)' % auc_bg_GAN_25k)\n",
        "plt.plot(bg_fpr_GAN_50k, bg_tpr_GAN_50k, linestyle='-', label='bg_GAN_50k (auc = %0.3f)' % auc_bg_GAN_50k)\n",
        "plt.plot(bg_fpr_GAN_100k, bg_tpr_GAN_100k, linestyle='-', label='bg_GAN_100k (auc = %0.3f)' % auc_bg_GAN_100k)\n",
        "plt.plot(bg_fpr_GAN_200k, bg_tpr_GAN_200k, linestyle='-', label='bg_GAN_200k (auc = %0.3f)' % auc_bg_GAN_200k)\n",
        "\n",
        "plt.xlabel('False Positive Rate--->')\n",
        "plt.ylabel('True Positive Rate--->')\n",
        "\n",
        "plt.legend()\n",
        "\n",
        "plt.show()"
      ],
      "execution_count": null,
      "outputs": [
        {
          "output_type": "display_data",
          "data": {
            "image/png": "[encoded data removed]",
            "text/plain": [
              "<Figure size 432x288 with 1 Axes>"
            ]
          },
          "metadata": {
            "tags": [],
            "needs_background": "light"
          }
        }
      ]
    }
  ]
}